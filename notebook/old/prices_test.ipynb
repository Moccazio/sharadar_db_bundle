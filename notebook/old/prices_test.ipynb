{
 "cells": [
  {
   "cell_type": "code",
   "execution_count": 68,
   "metadata": {},
   "outputs": [],
   "source": [
    "from sharadar.pipeline.engine import prices, symbols, load_sharadar_bundle, sids\n",
    "import pandas as pd\n",
    "from zipline.data.data_portal import DataPortal\n",
    "\n",
    "pd.set_option('display.float_format', lambda x: '%.2f' % x)\n",
    "bundle = load_sharadar_bundle()"
   ]
  },
  {
   "cell_type": "code",
   "execution_count": 71,
   "metadata": {},
   "outputs": [],
   "source": [
    "ss = sids([629058, 196119, 112960,196119,196119,173730,185169,185169,124223,173717,123553,184872,120782, 123553,176714, 167402,116071,178691, 110206, 120907,121215,116209,122591,115461,123716,120907, 121215,120953,120946,120946,120953, 120953])"
   ]
  },
  {
   "cell_type": "code",
   "execution_count": 72,
   "metadata": {},
   "outputs": [
    {
     "name": "stdout",
     "output_type": "stream",
     "text": [
      "HRST OTC\n",
      "QSEP OTC\n",
      "VXUP NASDAQ\n",
      "QSEP OTC\n",
      "QSEP OTC\n",
      "NSTR NASDAQ\n",
      "MZTH NYSEMKT\n",
      "MZTH NYSEMKT\n",
      "WCYN OTC\n",
      "NTEC1 NASDAQ\n",
      "FNET NASDAQ\n",
      "GGA NYSEMKT\n",
      "ULCM NASDAQ\n",
      "FNET NASDAQ\n",
      "EIIN NYSEMKT\n",
      "NWG NYSE\n",
      "AMC1 NYSE\n",
      "CRNS NASDAQ\n",
      "GLK1 NYSE\n",
      "PHIR NYSE\n",
      "AIK NYSEMKT\n",
      "ALCI NASDAQ\n",
      "OPTI NASDAQ\n",
      "BNSSA NASDAQ\n",
      "SQM NYSE\n",
      "PHIR NYSE\n",
      "AIK NYSEMKT\n",
      "AIJ NYSEMKT\n",
      "LSMM NYSE\n",
      "LSMM NYSE\n",
      "AIJ NYSEMKT\n",
      "AIJ NYSEMKT\n"
     ]
    }
   ],
   "source": [
    "for s in ss:\n",
    "    print(s.symbol, s.exchange)"
   ]
  },
  {
   "cell_type": "raw",
   "metadata": {},
   "source": [
    "[2021-05-02 11:38:18] WARNING: Dividend ratio <= 0 for dividend sid=629058, ex_date=2019-10-29, amount=70.000\n",
    "[2021-05-02 11:38:18] WARNING: Dividend ratio <= 0 for dividend sid=196119, ex_date=2015-12-18, amount=1.158\n",
    "[2021-05-02 11:38:18] WARNING: Dividend ratio <= 0 for dividend sid=112960, ex_date=2015-08-24, amount=25354.890\n",
    "[2021-05-02 11:38:18] WARNING: Dividend ratio <= 0 for dividend sid=196119, ex_date=2015-06-19, amount=0.755\n",
    "[2021-05-02 11:38:18] WARNING: Dividend ratio <= 0 for dividend sid=196119, ex_date=2014-12-19, amount=1.290\n",
    "[2021-05-02 11:38:18] WARNING: Dividend ratio <= 0 for dividend sid=173730, ex_date=2012-08-20, amount=0.029\n",
    "[2021-05-02 11:38:18] WARNING: Dividend ratio <= 0 for dividend sid=185169, ex_date=2012-05-10, amount=0.049\n",
    "[2021-05-02 11:38:18] WARNING: Dividend ratio <= 0 for dividend sid=185169, ex_date=2012-05-08, amount=0.049\n",
    "[2021-05-02 11:38:18] WARNING: Dividend ratio <= 0 for dividend sid=124223, ex_date=2011-06-07, amount=0.343\n",
    "[2021-05-02 11:38:18] WARNING: Dividend ratio <= 0 for dividend sid=173717, ex_date=2009-12-28, amount=0.200\n",
    "[2021-05-02 11:38:18] WARNING: Dividend ratio <= 0 for dividend sid=123553, ex_date=2009-06-26, amount=2.500\n",
    "[2021-05-02 11:38:18] WARNING: Dividend ratio <= 0 for dividend sid=184872, ex_date=2009-06-25, amount=9.810\n",
    "[2021-05-02 11:38:18] WARNING: Dividend ratio <= 0 for dividend sid=120782, ex_date=2009-04-20, amount=18.320\n",
    "[2021-05-02 11:38:18] WARNING: Dividend ratio <= 0 for dividend sid=123553, ex_date=2009-04-17, amount=2.500\n",
    "[2021-05-02 11:38:18] WARNING: Dividend ratio <= 0 for dividend sid=176714, ex_date=2008-11-13, amount=10.053\n",
    "[2021-05-02 11:38:18] WARNING: Dividend ratio <= 0 for dividend sid=167402, ex_date=2008-05-29, amount=128.780\n",
    "[2021-05-02 11:38:18] WARNING: Dividend ratio <= 0 for dividend sid=116071, ex_date=2007-12-28, amount=1.800\n",
    "[2021-05-02 11:38:18] WARNING: Dividend ratio <= 0 for dividend sid=178691, ex_date=2007-08-01, amount=16.000\n",
    "[2021-05-02 11:38:18] WARNING: Dividend ratio <= 0 for dividend sid=110206, ex_date=2003-12-31, amount=40.000\n",
    "[2021-05-02 11:38:18] WARNING: Dividend ratio <= 0 for dividend sid=120907, ex_date=2003-09-26, amount=1.000\n",
    "[2021-05-02 11:38:18] WARNING: Dividend ratio <= 0 for dividend sid=121215, ex_date=2003-09-26, amount=1.470\n",
    "[2021-05-02 11:38:18] WARNING: Dividend ratio <= 0 for dividend sid=116209, ex_date=2002-12-26, amount=0.335\n",
    "[2021-05-02 11:38:18] WARNING: Dividend ratio <= 0 for dividend sid=122591, ex_date=2002-03-28, amount=1.500\n",
    "[2021-05-02 11:38:18] WARNING: Dividend ratio <= 0 for dividend sid=115461, ex_date=2001-06-27, amount=305.000\n",
    "[2021-05-02 11:38:18] WARNING: Dividend ratio <= 0 for dividend sid=123716, ex_date=2001-05-01, amount=5.040\n",
    "[2021-05-02 11:38:18] WARNING: Dividend ratio <= 0 for dividend sid=120907, ex_date=2000-12-28, amount=13.000\n",
    "[2021-05-02 11:38:18] WARNING: Dividend ratio <= 0 for dividend sid=121215, ex_date=1999-06-25, amount=3.260\n",
    "[2021-05-02 11:38:18] WARNING: Dividend ratio <= 0 for dividend sid=120953, ex_date=1999-06-25, amount=1.750\n",
    "[2021-05-02 11:38:18] WARNING: Dividend ratio <= 0 for dividend sid=120946, ex_date=1999-03-26, amount=2.000\n",
    "[2021-05-02 11:38:18] WARNING: Dividend ratio <= 0 for dividend sid=120946, ex_date=1998-12-28, amount=1.000\n",
    "[2021-05-02 11:38:18] WARNING: Dividend ratio <= 0 for dividend sid=120953, ex_date=1998-12-28, amount=1.990\n",
    "[2021-05-02 11:38:18] WARNING: Dividend ratio <= 0 for dividend sid=120953, ex_date=1998-03-27, amount=2.560\n"
   ]
  },
  {
   "cell_type": "code",
   "execution_count": 62,
   "metadata": {},
   "outputs": [],
   "source": [
    "# Apple's stock has split five times since the company went public.\n",
    "# The stock split on a 4-for-1 basis on August 28, 2020, a 7-for-1 basis on June 9, 2014,\n",
    "# and split on a 2-for-1 basis on February 28, 2005, June 21, 2000, and June 16, 1987.\n",
    "\n",
    "start = pd.to_datetime('2019-10-25', utc=True)\n",
    "end = pd.to_datetime('2019-11-05', utc=True)\n",
    "\n",
    "# AAPL sid 199059\n",
    "sids = symbols(['HRST', 'F'])"
   ]
  },
  {
   "cell_type": "code",
   "execution_count": 65,
   "metadata": {},
   "outputs": [
    {
     "data": {
      "text/plain": [
       "{'sid': 629058,\n",
       " 'symbol': 'HRST',\n",
       " 'asset_name': 'Harvest Oil & Gas Corp',\n",
       " 'start_date': Timestamp('2018-09-20 00:00:00+0000', tz='UTC'),\n",
       " 'end_date': Timestamp('2021-04-30 00:00:00+0000', tz='UTC'),\n",
       " 'first_traded': Timestamp('2018-09-20 00:00:00+0000', tz='UTC'),\n",
       " 'auto_close_date': Timestamp('2021-05-01 00:00:00+0000', tz='UTC'),\n",
       " 'exchange': 'OTC',\n",
       " 'exchange_full': 'OTC',\n",
       " 'tick_size': 0.01,\n",
       " 'multiplier': 1.0,\n",
       " 'exchange_info': ExchangeInfo('OTC', 'OTC', 'US')}"
      ]
     },
     "execution_count": 65,
     "metadata": {},
     "output_type": "execute_result"
    }
   ],
   "source": [
    "sids[0].to_dict()"
   ]
  },
  {
   "cell_type": "code",
   "execution_count": 56,
   "metadata": {},
   "outputs": [
    {
     "data": {
      "text/plain": [
       "[Equity(629058 [HRST]), Equity(199713 [F])]"
      ]
     },
     "execution_count": 56,
     "metadata": {},
     "output_type": "execute_result"
    }
   ],
   "source": [
    "sids_n = [629058, 199713]\n",
    "bundle.asset_finder.retrieve_all(sids_n)"
   ]
  },
  {
   "cell_type": "code",
   "execution_count": 57,
   "metadata": {},
   "outputs": [
    {
     "data": {
      "text/plain": [
       "Timestamp('1986-01-01 00:00:00+0000', tz='UTC')"
      ]
     },
     "execution_count": 57,
     "metadata": {},
     "output_type": "execute_result"
    }
   ],
   "source": [
    "bundle.asset_finder.retrieve_asset(199059).start_date"
   ]
  },
  {
   "cell_type": "code",
   "execution_count": 64,
   "metadata": {},
   "outputs": [
    {
     "data": {
      "text/html": [
       "<div>\n",
       "<style scoped>\n",
       "    .dataframe tbody tr th:only-of-type {\n",
       "        vertical-align: middle;\n",
       "    }\n",
       "\n",
       "    .dataframe tbody tr th {\n",
       "        vertical-align: top;\n",
       "    }\n",
       "\n",
       "    .dataframe thead th {\n",
       "        text-align: right;\n",
       "    }\n",
       "</style>\n",
       "<table border=\"1\" class=\"dataframe\">\n",
       "  <thead>\n",
       "    <tr style=\"text-align: right;\">\n",
       "      <th></th>\n",
       "      <th>Equity(629058 [HRST])</th>\n",
       "      <th>Equity(199713 [F])</th>\n",
       "    </tr>\n",
       "  </thead>\n",
       "  <tbody>\n",
       "    <tr>\n",
       "      <th>2019-10-25 00:00:00+00:00</th>\n",
       "      <td>1.30</td>\n",
       "      <td>8.72</td>\n",
       "    </tr>\n",
       "    <tr>\n",
       "      <th>2019-10-28 00:00:00+00:00</th>\n",
       "      <td>1.30</td>\n",
       "      <td>8.61</td>\n",
       "    </tr>\n",
       "    <tr>\n",
       "      <th>2019-10-29 00:00:00+00:00</th>\n",
       "      <td>0.60</td>\n",
       "      <td>8.64</td>\n",
       "    </tr>\n",
       "    <tr>\n",
       "      <th>2019-10-30 00:00:00+00:00</th>\n",
       "      <td>0.53</td>\n",
       "      <td>8.54</td>\n",
       "    </tr>\n",
       "    <tr>\n",
       "      <th>2019-10-31 00:00:00+00:00</th>\n",
       "      <td>0.55</td>\n",
       "      <td>8.59</td>\n",
       "    </tr>\n",
       "    <tr>\n",
       "      <th>2019-11-01 00:00:00+00:00</th>\n",
       "      <td>0.54</td>\n",
       "      <td>8.89</td>\n",
       "    </tr>\n",
       "    <tr>\n",
       "      <th>2019-11-04 00:00:00+00:00</th>\n",
       "      <td>0.58</td>\n",
       "      <td>9.00</td>\n",
       "    </tr>\n",
       "    <tr>\n",
       "      <th>2019-11-05 00:00:00+00:00</th>\n",
       "      <td>0.59</td>\n",
       "      <td>9.02</td>\n",
       "    </tr>\n",
       "  </tbody>\n",
       "</table>\n",
       "</div>"
      ],
      "text/plain": [
       "                           Equity(629058 [HRST])  Equity(199713 [F])\n",
       "2019-10-25 00:00:00+00:00                   1.30                8.72\n",
       "2019-10-28 00:00:00+00:00                   1.30                8.61\n",
       "2019-10-29 00:00:00+00:00                   0.60                8.64\n",
       "2019-10-30 00:00:00+00:00                   0.53                8.54\n",
       "2019-10-31 00:00:00+00:00                   0.55                8.59\n",
       "2019-11-01 00:00:00+00:00                   0.54                8.89\n",
       "2019-11-04 00:00:00+00:00                   0.58                9.00\n",
       "2019-11-05 00:00:00+00:00                   0.59                9.02"
      ]
     },
     "execution_count": 64,
     "metadata": {},
     "output_type": "execute_result"
    }
   ],
   "source": [
    "p = prices(sids, start, end)\n",
    "p"
   ]
  },
  {
   "cell_type": "code",
   "execution_count": 41,
   "metadata": {},
   "outputs": [
    {
     "data": {
      "text/plain": [
       "array([[506.09,   6.82],\n",
       "       [500.04,   6.91],\n",
       "       [499.23,   6.94],\n",
       "       [129.04,   6.82],\n",
       "       [134.18,   6.83],\n",
       "       [131.4 ,   6.95]])"
      ]
     },
     "execution_count": 41,
     "metadata": {},
     "output_type": "execute_result"
    }
   ],
   "source": [
    "pricing_reader=bundle.equity_daily_bar_reader\n",
    "close, = pricing_reader.load_raw_arrays(['close'], start, end, sids_n,)\n",
    "close"
   ]
  },
  {
   "cell_type": "code",
   "execution_count": 15,
   "metadata": {
    "tags": []
   },
   "outputs": [],
   "source": [
    "sids = symbols(['AAPL'])"
   ]
  },
  {
   "cell_type": "code",
   "execution_count": 16,
   "metadata": {},
   "outputs": [
    {
     "data": {
      "text/plain": [
       "array([126.522, 125.01 , 124.808, 129.04 , 134.18 , 131.4  ])"
      ]
     },
     "execution_count": 16,
     "metadata": {},
     "output_type": "execute_result"
    }
   ],
   "source": [
    "p = prices(sids, start, end).values\n",
    "p"
   ]
  },
  {
   "cell_type": "code",
   "execution_count": 42,
   "metadata": {},
   "outputs": [
    {
     "data": {
      "text/plain": [
       "array([[126.522,   6.82 ],\n",
       "       [125.01 ,   6.91 ],\n",
       "       [124.808,   6.94 ],\n",
       "       [129.04 ,   6.82 ],\n",
       "       [134.18 ,   6.83 ],\n",
       "       [131.4  ,   6.95 ]])"
      ]
     },
     "execution_count": 42,
     "metadata": {},
     "output_type": "execute_result"
    }
   ],
   "source": [
    "data_portal = DataPortal(bundle.asset_finder,\n",
    "                         trading_calendar=bundle.equity_daily_bar_reader.trading_calendar,\n",
    "                         first_trading_day=start,\n",
    "                         equity_daily_reader=bundle.equity_daily_bar_reader,\n",
    "                         adjustment_reader=bundle.adjustment_reader)\n",
    "\n",
    "close = data_portal.get_history_window(assets = sids_n, \n",
    "                                    end_dt = end, \n",
    "                                    bar_count = trading_calendar.session_distance(start, end),\n",
    "                                    frequency = '1d',\n",
    "                                    field = 'close',\n",
    "                                    data_frequency = 'daily').values\n",
    "close"
   ]
  },
  {
   "cell_type": "code",
   "execution_count": 17,
   "metadata": {},
   "outputs": [
    {
     "data": {
      "text/plain": [
       "array([[506.09],\n",
       "       [500.04],\n",
       "       [499.23],\n",
       "       [129.04],\n",
       "       [134.18],\n",
       "       [131.4 ]])"
      ]
     },
     "execution_count": 17,
     "metadata": {},
     "output_type": "execute_result"
    }
   ],
   "source": [
    "pricing_reader=bundle.equity_daily_bar_reader\n",
    "close, = pricing_reader.load_raw_arrays(['close'], start, end, sids,)\n",
    "close"
   ]
  }
 ],
 "metadata": {
  "kernelspec": {
   "display_name": "Python 3",
   "language": "python",
   "name": "python3"
  },
  "language_info": {
   "codemirror_mode": {
    "name": "ipython",
    "version": 3
   },
   "file_extension": ".py",
   "mimetype": "text/x-python",
   "name": "python",
   "nbconvert_exporter": "python",
   "pygments_lexer": "ipython3",
   "version": "3.6.9"
  }
 },
 "nbformat": 4,
 "nbformat_minor": 4
}
