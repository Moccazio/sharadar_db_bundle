{
 "cells": [
  {
   "cell_type": "code",
   "execution_count": 71,
   "id": "64fdced0-6a48-4d56-a4b9-9fea7f0ec10b",
   "metadata": {},
   "outputs": [],
   "source": [
    "from zipline.utils.calendar_utils import get_calendar\n",
    "import pandas as pd"
   ]
  },
  {
   "cell_type": "code",
   "execution_count": 72,
   "id": "eae65ad9-54fa-487f-990a-c96eb7125b46",
   "metadata": {},
   "outputs": [],
   "source": [
    "cal = get_calendar(\"XNYS\")"
   ]
  },
  {
   "cell_type": "code",
   "execution_count": 73,
   "id": "ffce1de2-66b7-4af2-9ce4-fd2cd6cdff92",
   "metadata": {},
   "outputs": [
    {
     "data": {
      "text/plain": [
       "Timestamp('2023-02-11 20:41:45.748487+0000', tz='UTC')"
      ]
     },
     "execution_count": 73,
     "metadata": {},
     "output_type": "execute_result"
    }
   ],
   "source": [
    "now = pd.Timestamp.utcnow()\n",
    "now"
   ]
  },
  {
   "cell_type": "code",
   "execution_count": 74,
   "id": "9fd1bd53-2776-4121-8b6f-cd2a002cd150",
   "metadata": {},
   "outputs": [
    {
     "data": {
      "text/plain": [
       "False"
      ]
     },
     "execution_count": 74,
     "metadata": {},
     "output_type": "execute_result"
    }
   ],
   "source": [
    "cal.is_session(now.normalize())"
   ]
  },
  {
   "cell_type": "code",
   "execution_count": 75,
   "id": "9823b3ee-3806-403a-91a2-7169ecfd75f2",
   "metadata": {},
   "outputs": [
    {
     "data": {
      "text/plain": [
       "Timestamp('2023-02-13 14:31:00+0000', tz='UTC')"
      ]
     },
     "execution_count": 75,
     "metadata": {},
     "output_type": "execute_result"
    }
   ],
   "source": [
    "next_open = cal.next_open(now.normalize())\n",
    "next_open"
   ]
  },
  {
   "cell_type": "code",
   "execution_count": 76,
   "id": "c2eb66aa-f5a6-4935-b925-18b6b0bc4e5f",
   "metadata": {},
   "outputs": [
    {
     "data": {
      "text/plain": [
       "Timestamp('2023-02-10 14:31:00+0000', tz='UTC')"
      ]
     },
     "execution_count": 76,
     "metadata": {},
     "output_type": "execute_result"
    }
   ],
   "source": [
    "cal.previous_open(now.normalize())"
   ]
  },
  {
   "cell_type": "code",
   "execution_count": 52,
   "id": "355c6830-e64e-4aec-8449-c8c8b0e24746",
   "metadata": {},
   "outputs": [
    {
     "data": {
      "text/plain": [
       "Timedelta('0 days 01:28:54.268630')"
      ]
     },
     "execution_count": 52,
     "metadata": {},
     "output_type": "execute_result"
    }
   ],
   "source": [
    "delta = now - next_open\n",
    "delta"
   ]
  },
  {
   "cell_type": "code",
   "execution_count": 61,
   "id": "cb3c9577-de4d-436c-8d24-21f5a0add5b7",
   "metadata": {},
   "outputs": [],
   "source": [
    "delta = delta + pd.Timedelta(minutes=1)"
   ]
  },
  {
   "cell_type": "code",
   "execution_count": 67,
   "id": "02b12262-b21c-4096-baf8-0873a9e9b06c",
   "metadata": {},
   "outputs": [
    {
     "data": {
      "text/plain": [
       "(0, 1, 48)"
      ]
     },
     "execution_count": 67,
     "metadata": {},
     "output_type": "execute_result"
    }
   ],
   "source": [
    "days = delta.days\n",
    "hours = delta.seconds // 3600\n",
    "minutes = (delta.seconds // 60) % 60\n",
    "\n",
    "(days, hours, minutes)"
   ]
  },
  {
   "cell_type": "code",
   "execution_count": 69,
   "id": "befa7edd-7920-4b7b-b57a-6111ac343fcb",
   "metadata": {},
   "outputs": [],
   "source": [
    "days, hours, minutes = delta.days, delta.seconds // 3600, (delta.seconds // 60) % 60"
   ]
  },
  {
   "cell_type": "code",
   "execution_count": 70,
   "id": "ac47b63b-fe06-4864-b470-9194f7c057e0",
   "metadata": {},
   "outputs": [
    {
     "data": {
      "text/plain": [
       "(0, 1, 48)"
      ]
     },
     "execution_count": 70,
     "metadata": {},
     "output_type": "execute_result"
    }
   ],
   "source": [
    "days, hours, minutes"
   ]
  },
  {
   "cell_type": "code",
   "execution_count": 66,
   "id": "494eefaa-71cc-4985-b13e-1194f40f8137",
   "metadata": {},
   "outputs": [],
   "source": [
    "cal = get_calendar(\"XNYS\")\n",
    "now = pd.Timestamp.utcnow()\n",
    "if cal.is_session(now.normalize()):\n",
    "    mkt_open = cal.next_open(now.normalize())\n",
    "    delta = now - mkt_open + pd.Timedelta(minutes=1)\n",
    "    days, hours, minutes = delta.days, delta.seconds // 3600, (delta.seconds // 60) % 60\n",
    "    if days == 0:\n",
    "        \n",
    "    "
   ]
  },
  {
   "cell_type": "code",
   "execution_count": 65,
   "id": "713685c6-11d6-45aa-884d-f45fa9511389",
   "metadata": {},
   "outputs": [
    {
     "data": {
      "text/plain": [
       "Timedelta('0 days 01:48:26.859232')"
      ]
     },
     "execution_count": 65,
     "metadata": {},
     "output_type": "execute_result"
    }
   ],
   "source": [
    "td"
   ]
  }
 ],
 "metadata": {
  "kernelspec": {
   "display_name": "Python 3 (ipykernel)",
   "language": "python",
   "name": "python3"
  },
  "language_info": {
   "codemirror_mode": {
    "name": "ipython",
    "version": 3
   },
   "file_extension": ".py",
   "mimetype": "text/x-python",
   "name": "python",
   "nbconvert_exporter": "python",
   "pygments_lexer": "ipython3",
   "version": "3.9.16"
  }
 },
 "nbformat": 4,
 "nbformat_minor": 5
}
