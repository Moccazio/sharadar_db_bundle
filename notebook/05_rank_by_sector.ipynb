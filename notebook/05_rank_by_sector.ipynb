{
 "cells": [
  {
   "cell_type": "code",
   "execution_count": 1,
   "metadata": {},
   "outputs": [],
   "source": [
    "import pandas as pd\n",
    "from zipline.pipeline import Pipeline\n",
    "from zipline.pipeline.data import USEquityPricing\n",
    "from sharadar.pipeline.factors import (\n",
    "    MarketCap,\n",
    "    EV,\n",
    "    Fundamentals,\n",
    "    Sector\n",
    ")\n",
    "from sharadar.pipeline.engine import load_sharadar_bundle, symbols, make_pipeline_engine\n",
    "from zipline.pipeline.filters import StaticAssets\n",
    "import time\n",
    "import datetime\n",
    "#from sharadar.pipeline.universes import TRADABLE_STOCKS_US, NamedUniverse\n",
    "from sharadar.pipeline.factors import Exchange, Sector, IsDomesticCommonStock, MarketCap, Fundamentals, EV, EvEbit\n",
    "\n",
    "\n",
    "def stocks_us():\n",
    "    return (\n",
    "            (USEquityPricing.close.latest > 3) &\n",
    "            Exchange().element_of(['NYSE', 'NASDAQ', 'NYSEMKT']) &\n",
    "            (Sector().notnull()) &\n",
    "            (~Sector().element_of(['Financial Services', 'Real Estate', 'Energy', 'Utilities'])) &\n",
    "            (IsDomesticCommonStock().eq(1)) &\n",
    "            (Fundamentals(field='revenue_arq') > 0) &\n",
    "            (Fundamentals(field='assets_arq') > 0) &\n",
    "            (Fundamentals(field='equity_arq') > 0) &\n",
    "            (EV() > 0)\n",
    "    )"
   ]
  },
  {
   "cell_type": "code",
   "execution_count": 9,
   "metadata": {},
   "outputs": [
    {
     "name": "stdout",
     "output_type": "stream",
     "text": [
      "[2024-07-12 16:30:42] INFO: Load root mask file: root-2024-07-01_2024-07-01_XNYS_US_0.pkl\n",
      "Pipeline from 2024-07-01 to 2024-07-01\n",
      "[2024-07-12 16:31:00] INFO: save term-2024-07-01_2024-07-01_screen_c6d76a04b00d449680be293298a28298_mkt_cap.npy to cache\n",
      "[2024-07-12 16:31:00] INFO: save term-2024-07-01_2024-07-01_screen_c6d76a04b00d449680be293298a28298_ev.npy to cache\n",
      "[2024-07-12 16:31:00] INFO: save term-2024-07-01_2024-07-01_screen_c6d76a04b00d449680be293298a28298_netmargin.npy to cache\n",
      "[2024-07-12 16:31:00] INFO: save term-2024-07-01_2024-07-01_screen_c6d76a04b00d449680be293298a28298_revenue.npy to cache\n",
      "[2024-07-12 16:31:00] INFO: save term-2024-07-01_2024-07-01_screen_c6d76a04b00d449680be293298a28298_EvEbit.npy to cache\n",
      "[2024-07-12 16:31:00] INFO: save term-2024-07-01_2024-07-01_screen_c6d76a04b00d449680be293298a28298_sector.npy to cache\n",
      "[2024-07-12 16:31:00] INFO: save term-2024-07-01_2024-07-01_screen_c6d76a04b00d449680be293298a28298_screen_c6d76a04b00d449680be293298a28298.npy to cache\n",
      "[2024-07-12 16:31:00] INFO: Pipeline from 2024-07-01 to 2024-07-01 completed in 0:00:17.\n"
     ]
    }
   ],
   "source": [
    "engine = make_pipeline_engine()\n",
    "\n",
    "pipe_date = pd.to_datetime('2024-07-01', utc=False)\n",
    "#pipe_date_end = pd.to_datetime('2024-02-05', utc=False)\n",
    "\n",
    "pipe = Pipeline(columns={\n",
    "    'mkt_cap': MarketCap(),\n",
    "    'ev': EV(),\n",
    "    'netmargin': Fundamentals(field='netmargin'),\n",
    "    'revenue': Fundamentals(field='revenue'),\n",
    "    'EvEbit' : EvEbit(),\n",
    "    'sector': Sector(),\n",
    "    }, screen = stocks_us()\n",
    "#,screen = StaticAssets(symbols(['IBM', 'F', 'AAPL']))\n",
    "#,screen = NamedUniverse(TRADABLE_STOCKS_US)\n",
    "#screen = TradableStocksUS()\n",
    "    )\n",
    "\n",
    "df = engine.run_pipeline(pipe, pipe_date)"
   ]
  },
  {
   "cell_type": "code",
   "execution_count": 15,
   "metadata": {},
   "outputs": [
    {
     "data": {
      "text/html": [
       "<div>\n",
       "<style scoped>\n",
       "    .dataframe tbody tr th:only-of-type {\n",
       "        vertical-align: middle;\n",
       "    }\n",
       "\n",
       "    .dataframe tbody tr th {\n",
       "        vertical-align: top;\n",
       "    }\n",
       "\n",
       "    .dataframe thead th {\n",
       "        text-align: right;\n",
       "    }\n",
       "</style>\n",
       "<table border=\"1\" class=\"dataframe\">\n",
       "  <thead>\n",
       "    <tr style=\"text-align: right;\">\n",
       "      <th></th>\n",
       "      <th></th>\n",
       "      <th>mkt_cap</th>\n",
       "      <th>ev</th>\n",
       "      <th>netmargin</th>\n",
       "      <th>revenue</th>\n",
       "      <th>EvEbit</th>\n",
       "      <th>sector</th>\n",
       "    </tr>\n",
       "  </thead>\n",
       "  <tbody>\n",
       "    <tr>\n",
       "      <th rowspan=\"5\" valign=\"top\">2024-07-01</th>\n",
       "      <th>Equity(108199 [ATLX])</th>\n",
       "      <td>172100000.0</td>\n",
       "      <td>165000000.0</td>\n",
       "      <td>-69.432</td>\n",
       "      <td>186707.0</td>\n",
       "      <td>-3.3</td>\n",
       "      <td>Basic Materials</td>\n",
       "    </tr>\n",
       "    <tr>\n",
       "      <th>Equity(108216 [AUID])</th>\n",
       "      <td>94500000.0</td>\n",
       "      <td>87500000.0</td>\n",
       "      <td>-19.428</td>\n",
       "      <td>157378.0</td>\n",
       "      <td>-4.3</td>\n",
       "      <td>Technology</td>\n",
       "    </tr>\n",
       "    <tr>\n",
       "      <th>Equity(108271 [MAMA])</th>\n",
       "      <td>241500000.0</td>\n",
       "      <td>241000000.0</td>\n",
       "      <td>0.019</td>\n",
       "      <td>29838000.0</td>\n",
       "      <td>30.6</td>\n",
       "      <td>Consumer Defensive</td>\n",
       "    </tr>\n",
       "    <tr>\n",
       "      <th>Equity(108437 [BRFH])</th>\n",
       "      <td>53300000.0</td>\n",
       "      <td>52100000.0</td>\n",
       "      <td>-0.159</td>\n",
       "      <td>2829000.0</td>\n",
       "      <td>-22.0</td>\n",
       "      <td>Consumer Defensive</td>\n",
       "    </tr>\n",
       "    <tr>\n",
       "      <th>Equity(108479 [BTTR])</th>\n",
       "      <td>3300000.0</td>\n",
       "      <td>4800000.0</td>\n",
       "      <td>-0.358</td>\n",
       "      <td>7903000.0</td>\n",
       "      <td>-0.2</td>\n",
       "      <td>Consumer Defensive</td>\n",
       "    </tr>\n",
       "  </tbody>\n",
       "</table>\n",
       "</div>"
      ],
      "text/plain": [
       "                                      mkt_cap           ev  netmargin  \\\n",
       "2024-07-01 Equity(108199 [ATLX])  172100000.0  165000000.0    -69.432   \n",
       "           Equity(108216 [AUID])   94500000.0   87500000.0    -19.428   \n",
       "           Equity(108271 [MAMA])  241500000.0  241000000.0      0.019   \n",
       "           Equity(108437 [BRFH])   53300000.0   52100000.0     -0.159   \n",
       "           Equity(108479 [BTTR])    3300000.0    4800000.0     -0.358   \n",
       "\n",
       "                                     revenue  EvEbit              sector  \n",
       "2024-07-01 Equity(108199 [ATLX])    186707.0    -3.3     Basic Materials  \n",
       "           Equity(108216 [AUID])    157378.0    -4.3          Technology  \n",
       "           Equity(108271 [MAMA])  29838000.0    30.6  Consumer Defensive  \n",
       "           Equity(108437 [BRFH])   2829000.0   -22.0  Consumer Defensive  \n",
       "           Equity(108479 [BTTR])   7903000.0    -0.2  Consumer Defensive  "
      ]
     },
     "execution_count": 15,
     "metadata": {},
     "output_type": "execute_result"
    }
   ],
   "source": [
    "df.head()"
   ]
  },
  {
   "cell_type": "code",
   "execution_count": 16,
   "metadata": {},
   "outputs": [
    {
     "data": {
      "text/plain": [
       "sector\n",
       "Basic Materials           151\n",
       "Communication Services     97\n",
       "Consumer Cyclical         312\n",
       "Consumer Defensive        138\n",
       "Healthcare                396\n",
       "Industrials               400\n",
       "Technology                428\n",
       "dtype: int64"
      ]
     },
     "execution_count": 16,
     "metadata": {},
     "output_type": "execute_result"
    }
   ],
   "source": [
    "df_group_by_sector = df.groupby('sector', observed=True)\n",
    "sector_size = df_group_by_sector.size()\n",
    "sector_size"
   ]
  },
  {
   "cell_type": "code",
   "execution_count": 17,
   "metadata": {},
   "outputs": [
    {
     "data": {
      "text/plain": [
       "False"
      ]
     },
     "execution_count": 17,
     "metadata": {},
     "output_type": "execute_result"
    }
   ],
   "source": [
    "# There are Sectors with size less than 30?\n",
    "len(sector_size[sector_size < 30]) > 0"
   ]
  },
  {
   "cell_type": "code",
   "execution_count": 18,
   "metadata": {},
   "outputs": [
    {
     "data": {
      "text/html": [
       "<div>\n",
       "<style scoped>\n",
       "    .dataframe tbody tr th:only-of-type {\n",
       "        vertical-align: middle;\n",
       "    }\n",
       "\n",
       "    .dataframe tbody tr th {\n",
       "        vertical-align: top;\n",
       "    }\n",
       "\n",
       "    .dataframe thead th {\n",
       "        text-align: right;\n",
       "    }\n",
       "</style>\n",
       "<table border=\"1\" class=\"dataframe\">\n",
       "  <thead>\n",
       "    <tr style=\"text-align: right;\">\n",
       "      <th></th>\n",
       "      <th></th>\n",
       "      <th>mkt_cap</th>\n",
       "      <th>ev</th>\n",
       "      <th>netmargin</th>\n",
       "      <th>revenue</th>\n",
       "      <th>EvEbit</th>\n",
       "    </tr>\n",
       "  </thead>\n",
       "  <tbody>\n",
       "    <tr>\n",
       "      <th rowspan=\"5\" valign=\"top\">2024-07-01</th>\n",
       "      <th>Equity(124773 [ATOM])</th>\n",
       "      <td>0.900701</td>\n",
       "      <td>0.913551</td>\n",
       "      <td>1.0</td>\n",
       "      <td>1.00000</td>\n",
       "      <td>0.655738</td>\n",
       "    </tr>\n",
       "    <tr>\n",
       "      <th>Equity(165489 [RKDA])</th>\n",
       "      <td>0.992754</td>\n",
       "      <td>1.000000</td>\n",
       "      <td>1.0</td>\n",
       "      <td>1.00000</td>\n",
       "      <td>0.829710</td>\n",
       "    </tr>\n",
       "    <tr>\n",
       "      <th>Equity(631233 [VRM])</th>\n",
       "      <td>0.993590</td>\n",
       "      <td>0.717949</td>\n",
       "      <td>1.0</td>\n",
       "      <td>0.99359</td>\n",
       "      <td>0.852564</td>\n",
       "    </tr>\n",
       "    <tr>\n",
       "      <th>Equity(631977 [JOBY])</th>\n",
       "      <td>0.427500</td>\n",
       "      <td>0.560000</td>\n",
       "      <td>1.0</td>\n",
       "      <td>1.00000</td>\n",
       "      <td>0.887500</td>\n",
       "    </tr>\n",
       "    <tr>\n",
       "      <th>Equity(636114 [DJT])</th>\n",
       "      <td>0.350515</td>\n",
       "      <td>0.402062</td>\n",
       "      <td>1.0</td>\n",
       "      <td>1.00000</td>\n",
       "      <td>0.783505</td>\n",
       "    </tr>\n",
       "  </tbody>\n",
       "</table>\n",
       "</div>"
      ],
      "text/plain": [
       "                                   mkt_cap        ev  netmargin  revenue  \\\n",
       "2024-07-01 Equity(124773 [ATOM])  0.900701  0.913551        1.0  1.00000   \n",
       "           Equity(165489 [RKDA])  0.992754  1.000000        1.0  1.00000   \n",
       "           Equity(631233 [VRM])   0.993590  0.717949        1.0  0.99359   \n",
       "           Equity(631977 [JOBY])  0.427500  0.560000        1.0  1.00000   \n",
       "           Equity(636114 [DJT])   0.350515  0.402062        1.0  1.00000   \n",
       "\n",
       "                                    EvEbit  \n",
       "2024-07-01 Equity(124773 [ATOM])  0.655738  \n",
       "           Equity(165489 [RKDA])  0.829710  \n",
       "           Equity(631233 [VRM])   0.852564  \n",
       "           Equity(631977 [JOBY])  0.887500  \n",
       "           Equity(636114 [DJT])   0.783505  "
      ]
     },
     "execution_count": 18,
     "metadata": {},
     "output_type": "execute_result"
    }
   ],
   "source": [
    "sector_rank = df_group_by_sector.rank(ascending=False, pct=True)\n",
    "sector_rank.sort_values(by='netmargin', ascending=False).head()"
   ]
  },
  {
   "cell_type": "code",
   "execution_count": 19,
   "metadata": {},
   "outputs": [
    {
     "data": {
      "text/plain": [
       "2024-07-01  Equity(108199 [ATLX])    0.940397\n",
       "            Equity(108216 [AUID])    0.892828\n",
       "            Equity(108271 [MAMA])    0.689855\n",
       "            Equity(108437 [BRFH])    0.952174\n",
       "            Equity(108479 [BTTR])    0.954348\n",
       "dtype: float64"
      ]
     },
     "execution_count": 19,
     "metadata": {},
     "output_type": "execute_result"
    }
   ],
   "source": [
    "score = sector_rank.mean(axis=1)\n",
    "score.head()"
   ]
  },
  {
   "cell_type": "code",
   "execution_count": 20,
   "metadata": {},
   "outputs": [
    {
     "data": {
      "text/plain": [
       "2024-07-01  Equity(108199 [ATLX])    0.940397\n",
       "            Equity(108216 [AUID])    0.892828\n",
       "            Equity(108271 [MAMA])    0.689855\n",
       "            Equity(108437 [BRFH])    0.952174\n",
       "            Equity(108479 [BTTR])    0.954348\n",
       "                                       ...   \n",
       "            Equity(641911 [FLYE])    0.630769\n",
       "            Equity(641912 [WAY])     0.298232\n",
       "            Equity(641966 [GRAL])    0.703788\n",
       "            Equity(641986 [WBTN])    0.538461\n",
       "            Equity(641989 [LSH])     0.778000\n",
       "Length: 1922, dtype: float64"
      ]
     },
     "execution_count": 20,
     "metadata": {},
     "output_type": "execute_result"
    }
   ],
   "source": [
    "score"
   ]
  },
  {
   "cell_type": "code",
   "execution_count": null,
   "metadata": {},
   "outputs": [],
   "source": []
  },
  {
   "cell_type": "code",
   "execution_count": null,
   "metadata": {},
   "outputs": [],
   "source": []
  },
  {
   "cell_type": "code",
   "execution_count": null,
   "metadata": {},
   "outputs": [],
   "source": []
  }
 ],
 "metadata": {
  "kernelspec": {
   "display_name": "Python 3",
   "language": "python",
   "name": "python3"
  },
  "language_info": {
   "codemirror_mode": {
    "name": "ipython",
    "version": 3
   },
   "file_extension": ".py",
   "mimetype": "text/x-python",
   "name": "python",
   "nbconvert_exporter": "python",
   "pygments_lexer": "ipython3",
   "version": "3.10.14"
  }
 },
 "nbformat": 4,
 "nbformat_minor": 2
}
