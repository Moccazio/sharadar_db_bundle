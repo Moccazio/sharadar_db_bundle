{
 "cells": [
  {
   "cell_type": "code",
   "execution_count": 2,
   "metadata": {},
   "outputs": [
    {
     "name": "stdout",
     "output_type": "stream",
     "text": [
      "[2024-07-16 15:22:08] INFO: Load root mask file: root-2020-02-03_2020-02-03_XNYS_US_0.pkl\n",
      "Pipeline from 2020-02-03 to 2020-02-03\n",
      "[2024-07-16 15:22:15] INFO: save term-2020-02-03_2020-02-03_screen_06cfe059d31645b2bf4b2af11b8085cb_mkt_cap.npy to cache\n",
      "[2024-07-16 15:22:15] INFO: save term-2020-02-03_2020-02-03_screen_06cfe059d31645b2bf4b2af11b8085cb_ev.npy to cache\n",
      "[2024-07-16 15:22:15] INFO: save term-2020-02-03_2020-02-03_screen_06cfe059d31645b2bf4b2af11b8085cb_debt.npy to cache\n",
      "[2024-07-16 15:22:15] INFO: save term-2020-02-03_2020-02-03_screen_06cfe059d31645b2bf4b2af11b8085cb_cash.npy to cache\n",
      "[2024-07-16 15:22:15] INFO: save term-2020-02-03_2020-02-03_screen_06cfe059d31645b2bf4b2af11b8085cb_screen_06cfe059d31645b2bf4b2af11b8085cb.npy to cache\n",
      "[2024-07-16 15:22:15] INFO: Pipeline from 2020-02-03 to 2020-02-03 completed in 0:00:07.\n"
     ]
    },
    {
     "data": {
      "text/html": [
       "<div>\n",
       "<style scoped>\n",
       "    .dataframe tbody tr th:only-of-type {\n",
       "        vertical-align: middle;\n",
       "    }\n",
       "\n",
       "    .dataframe tbody tr th {\n",
       "        vertical-align: top;\n",
       "    }\n",
       "\n",
       "    .dataframe thead th {\n",
       "        text-align: right;\n",
       "    }\n",
       "</style>\n",
       "<table border=\"1\" class=\"dataframe\">\n",
       "  <thead>\n",
       "    <tr style=\"text-align: right;\">\n",
       "      <th></th>\n",
       "      <th></th>\n",
       "      <th>mkt_cap</th>\n",
       "      <th>ev</th>\n",
       "      <th>debt</th>\n",
       "      <th>cash</th>\n",
       "    </tr>\n",
       "  </thead>\n",
       "  <tbody>\n",
       "    <tr>\n",
       "      <th rowspan=\"3\" valign=\"top\">2020-02-03</th>\n",
       "      <th>Equity(199059 [AAPL])</th>\n",
       "      <td>1.350536e+12</td>\n",
       "      <td>1.419057e+12</td>\n",
       "      <td>1.082920e+11</td>\n",
       "      <td>3.977100e+10</td>\n",
       "    </tr>\n",
       "    <tr>\n",
       "      <th>Equity(199623 [IBM])</th>\n",
       "      <td>1.295422e+11</td>\n",
       "      <td>1.908112e+11</td>\n",
       "      <td>7.149400e+10</td>\n",
       "      <td>1.022500e+10</td>\n",
       "    </tr>\n",
       "    <tr>\n",
       "      <th>Equity(199713 [F])</th>\n",
       "      <td>3.560480e+10</td>\n",
       "      <td>1.691928e+11</td>\n",
       "      <td>1.541110e+11</td>\n",
       "      <td>2.052300e+10</td>\n",
       "    </tr>\n",
       "  </tbody>\n",
       "</table>\n",
       "</div>"
      ],
      "text/plain": [
       "                                       mkt_cap            ev          debt  \\\n",
       "2020-02-03 Equity(199059 [AAPL])  1.350536e+12  1.419057e+12  1.082920e+11   \n",
       "           Equity(199623 [IBM])   1.295422e+11  1.908112e+11  7.149400e+10   \n",
       "           Equity(199713 [F])     3.560480e+10  1.691928e+11  1.541110e+11   \n",
       "\n",
       "                                          cash  \n",
       "2020-02-03 Equity(199059 [AAPL])  3.977100e+10  \n",
       "           Equity(199623 [IBM])   1.022500e+10  \n",
       "           Equity(199713 [F])     2.052300e+10  "
      ]
     },
     "execution_count": 2,
     "metadata": {},
     "output_type": "execute_result"
    }
   ],
   "source": [
    "from zipline.pipeline import Pipeline\n",
    "import pandas as pd\n",
    "from sharadar.pipeline.factors import (\n",
    "    MarketCap,\n",
    "    EV,\n",
    "    Fundamentals\n",
    ")\n",
    "from sharadar.pipeline.engine import symbol, symbols, make_pipeline_engine\n",
    "from zipline.pipeline.filters import StaticAssets\n",
    "\n",
    "pipe = Pipeline(columns={\n",
    "    'mkt_cap': MarketCap(),\n",
    "    'ev': EV(),\n",
    "    'debt': Fundamentals(field='debtusd_arq'),\n",
    "    'cash': Fundamentals(field='cashnequsd_arq')\n",
    "},\n",
    "screen = StaticAssets(symbols(['IBM', 'F', 'AAPL']))\n",
    ")\n",
    "spe = make_pipeline_engine()\n",
    "\n",
    "pipe_date = pd.to_datetime('2020-02-03', utc=False)\n",
    "\n",
    "stocks = spe.run_pipeline(pipe, pipe_date)\n",
    "stocks"
   ]
  },
  {
   "cell_type": "code",
   "execution_count": null,
   "metadata": {},
   "outputs": [],
   "source": []
  }
 ],
 "metadata": {
  "kernelspec": {
   "display_name": "py310",
   "language": "python",
   "name": "python3"
  },
  "language_info": {
   "codemirror_mode": {
    "name": "ipython",
    "version": 3
   },
   "file_extension": ".py",
   "mimetype": "text/x-python",
   "name": "python",
   "nbconvert_exporter": "python",
   "pygments_lexer": "ipython3",
   "version": "3.10.14"
  }
 },
 "nbformat": 4,
 "nbformat_minor": 2
}
