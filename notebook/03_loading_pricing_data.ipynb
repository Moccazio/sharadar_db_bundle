{
 "cells": [
  {
   "cell_type": "code",
   "execution_count": 1,
   "metadata": {},
   "outputs": [],
   "source": [
    "from zipline.pipeline.loaders.equity_pricing_loader import USEquityPricingLoader\n",
    "from zipline.pipeline.domain import EquityCalendarDomain\n",
    "from zipline.pipeline.data import USEquityPricing\n",
    "import pandas as pd\n",
    "import numpy as np\n",
    "from sharadar.pipeline.engine import symbols, make_pipeline_engine, prices, symbols, load_sharadar_bundle, sids\n",
    "\n",
    "from zipline.data.data_portal import DataPortal\n",
    "# trading calender\n",
    "from zipline.utils.calendar_utils import get_calendar\n",
    "trading_calendar = get_calendar('XNYS')\n",
    "\n",
    "pd.set_option('display.float_format', lambda x: '%.2f' % x)\n",
    "bundle = load_sharadar_bundle()"
   ]
  },
  {
   "cell_type": "code",
   "execution_count": 2,
   "metadata": {},
   "outputs": [],
   "source": [
    "ss = sids([112960,173730,185169,185169,173717,123553,184872,120782, 123553,176714, 167402,116071,178691, 110206, 120907,121215,116209,122591,115461,123716,120907, 121215,120953,120946,120946,120953, 120953])"
   ]
  },
  {
   "cell_type": "code",
   "execution_count": 3,
   "metadata": {},
   "outputs": [
    {
     "name": "stdout",
     "output_type": "stream",
     "text": [
      "VXUP NASDAQ\n",
      "NSTR NASDAQ\n",
      "MZTH NYSEMKT\n",
      "MZTH NYSEMKT\n",
      "NTEC1 NASDAQ\n",
      "FNET NASDAQ\n",
      "GGA NYSEMKT\n",
      "ULCM NASDAQ\n",
      "FNET NASDAQ\n",
      "EIIN NYSEMKT\n",
      "NWG NYSE\n",
      "AMOAQ NYSE\n",
      "CRNS NASDAQ\n",
      "GLK NYSE\n",
      "PHIR NYSE\n",
      "AIK NYSEMKT\n",
      "ALCI NASDAQ\n",
      "OPTI NASDAQ\n",
      "BNSSA NASDAQ\n",
      "SQM NYSE\n",
      "PHIR NYSE\n",
      "AIK NYSEMKT\n",
      "AIJ NYSEMKT\n",
      "LSMM NYSE\n",
      "LSMM NYSE\n",
      "AIJ NYSEMKT\n",
      "AIJ NYSEMKT\n"
     ]
    }
   ],
   "source": [
    "for s in ss:\n",
    "    print(s.symbol, s.exchange)"
   ]
  },
  {
   "cell_type": "code",
   "execution_count": 6,
   "metadata": {},
   "outputs": [],
   "source": [
    "start = pd.to_datetime('2001-10-25', utc=False)\n",
    "end = pd.to_datetime('2024-07-08', utc=False)\n",
    "\n",
    "# AAPL sid 199059\n",
    "sids = symbols(['TSLA', 'F'])"
   ]
  },
  {
   "cell_type": "code",
   "execution_count": 7,
   "metadata": {},
   "outputs": [
    {
     "data": {
      "text/plain": [
       "{'sid': 194897,\n",
       " 'symbol': 'TSLA',\n",
       " 'asset_name': 'TESLA INC',\n",
       " 'start_date': Timestamp('2010-06-29 00:00:00'),\n",
       " 'end_date': Timestamp('2024-07-12 00:00:00'),\n",
       " 'first_traded': Timestamp('2010-06-29 00:00:00'),\n",
       " 'auto_close_date': Timestamp('2024-07-13 00:00:00'),\n",
       " 'exchange': 'NASDAQ',\n",
       " 'exchange_full': 'NASDAQ',\n",
       " 'tick_size': 0.01,\n",
       " 'multiplier': 1.0,\n",
       " 'exchange_info': ExchangeInfo('NASDAQ', 'NASDAQ', 'US')}"
      ]
     },
     "execution_count": 7,
     "metadata": {},
     "output_type": "execute_result"
    }
   ],
   "source": [
    "sids[0].to_dict()"
   ]
  },
  {
   "cell_type": "code",
   "execution_count": 8,
   "metadata": {},
   "outputs": [
    {
     "data": {
      "text/plain": [
       "{'sid': 199713,\n",
       " 'symbol': 'F',\n",
       " 'asset_name': 'FORD MOTOR CO',\n",
       " 'start_date': Timestamp('1986-01-01 00:00:00'),\n",
       " 'end_date': Timestamp('2024-07-12 00:00:00'),\n",
       " 'first_traded': Timestamp('1986-01-01 00:00:00'),\n",
       " 'auto_close_date': Timestamp('2024-07-13 00:00:00'),\n",
       " 'exchange': 'NYSE',\n",
       " 'exchange_full': 'NYSE',\n",
       " 'tick_size': 0.01,\n",
       " 'multiplier': 1.0,\n",
       " 'exchange_info': ExchangeInfo('NYSE', 'NYSE', 'US')}"
      ]
     },
     "execution_count": 8,
     "metadata": {},
     "output_type": "execute_result"
    }
   ],
   "source": [
    "sids[1].to_dict()"
   ]
  },
  {
   "cell_type": "code",
   "execution_count": 9,
   "metadata": {},
   "outputs": [
    {
     "data": {
      "text/plain": [
       "[Equity(198566 [HON]), Equity(199713 [F])]"
      ]
     },
     "execution_count": 9,
     "metadata": {},
     "output_type": "execute_result"
    }
   ],
   "source": [
    "sids_n = [198566, 199713]\n",
    "bundle.asset_finder.retrieve_all(sids_n)"
   ]
  },
  {
   "cell_type": "code",
   "execution_count": 10,
   "metadata": {},
   "outputs": [
    {
     "data": {
      "text/plain": [
       "Timestamp('1986-01-01 00:00:00')"
      ]
     },
     "execution_count": 10,
     "metadata": {},
     "output_type": "execute_result"
    }
   ],
   "source": [
    "bundle.asset_finder.retrieve_asset(199059).start_date"
   ]
  },
  {
   "cell_type": "code",
   "execution_count": 11,
   "metadata": {},
   "outputs": [
    {
     "data": {
      "text/html": [
       "<div>\n",
       "<style scoped>\n",
       "    .dataframe tbody tr th:only-of-type {\n",
       "        vertical-align: middle;\n",
       "    }\n",
       "\n",
       "    .dataframe tbody tr th {\n",
       "        vertical-align: top;\n",
       "    }\n",
       "\n",
       "    .dataframe thead th {\n",
       "        text-align: right;\n",
       "    }\n",
       "</style>\n",
       "<table border=\"1\" class=\"dataframe\">\n",
       "  <thead>\n",
       "    <tr style=\"text-align: right;\">\n",
       "      <th></th>\n",
       "      <th>Equity(194897 [TSLA])</th>\n",
       "      <th>Equity(199713 [F])</th>\n",
       "    </tr>\n",
       "  </thead>\n",
       "  <tbody>\n",
       "    <tr>\n",
       "      <th>2001-10-25</th>\n",
       "      <td>NaN</td>\n",
       "      <td>16.52</td>\n",
       "    </tr>\n",
       "    <tr>\n",
       "      <th>2001-10-26</th>\n",
       "      <td>NaN</td>\n",
       "      <td>16.66</td>\n",
       "    </tr>\n",
       "    <tr>\n",
       "      <th>2001-10-29</th>\n",
       "      <td>NaN</td>\n",
       "      <td>16.21</td>\n",
       "    </tr>\n",
       "    <tr>\n",
       "      <th>2001-10-30</th>\n",
       "      <td>NaN</td>\n",
       "      <td>16.05</td>\n",
       "    </tr>\n",
       "    <tr>\n",
       "      <th>2001-10-31</th>\n",
       "      <td>NaN</td>\n",
       "      <td>16.05</td>\n",
       "    </tr>\n",
       "    <tr>\n",
       "      <th>...</th>\n",
       "      <td>...</td>\n",
       "      <td>...</td>\n",
       "    </tr>\n",
       "    <tr>\n",
       "      <th>2024-07-01</th>\n",
       "      <td>209.86</td>\n",
       "      <td>12.76</td>\n",
       "    </tr>\n",
       "    <tr>\n",
       "      <th>2024-07-02</th>\n",
       "      <td>231.26</td>\n",
       "      <td>12.87</td>\n",
       "    </tr>\n",
       "    <tr>\n",
       "      <th>2024-07-03</th>\n",
       "      <td>246.39</td>\n",
       "      <td>12.87</td>\n",
       "    </tr>\n",
       "    <tr>\n",
       "      <th>2024-07-05</th>\n",
       "      <td>251.52</td>\n",
       "      <td>12.84</td>\n",
       "    </tr>\n",
       "    <tr>\n",
       "      <th>2024-07-08</th>\n",
       "      <td>252.94</td>\n",
       "      <td>12.98</td>\n",
       "    </tr>\n",
       "  </tbody>\n",
       "</table>\n",
       "<p>5712 rows × 2 columns</p>\n",
       "</div>"
      ],
      "text/plain": [
       "            Equity(194897 [TSLA])  Equity(199713 [F])\n",
       "2001-10-25                    NaN               16.52\n",
       "2001-10-26                    NaN               16.66\n",
       "2001-10-29                    NaN               16.21\n",
       "2001-10-30                    NaN               16.05\n",
       "2001-10-31                    NaN               16.05\n",
       "...                           ...                 ...\n",
       "2024-07-01                 209.86               12.76\n",
       "2024-07-02                 231.26               12.87\n",
       "2024-07-03                 246.39               12.87\n",
       "2024-07-05                 251.52               12.84\n",
       "2024-07-08                 252.94               12.98\n",
       "\n",
       "[5712 rows x 2 columns]"
      ]
     },
     "execution_count": 11,
     "metadata": {},
     "output_type": "execute_result"
    }
   ],
   "source": [
    "p = prices(sids, start, end)\n",
    "p"
   ]
  },
  {
   "cell_type": "code",
   "execution_count": 12,
   "metadata": {},
   "outputs": [
    {
     "data": {
      "text/plain": [
       "array([[ 29.  ,  16.52],\n",
       "       [ 30.  ,  16.66],\n",
       "       [ 29.9 ,  16.21],\n",
       "       ...,\n",
       "       [212.46,  12.87],\n",
       "       [212.24,  12.84],\n",
       "       [211.63,  12.98]])"
      ]
     },
     "execution_count": 12,
     "metadata": {},
     "output_type": "execute_result"
    }
   ],
   "source": [
    "pricing_reader = bundle.equity_daily_bar_reader\n",
    "close, = pricing_reader.load_raw_arrays(['close'], start, end, sids_n,)\n",
    "close"
   ]
  },
  {
   "cell_type": "code",
   "execution_count": 13,
   "metadata": {},
   "outputs": [],
   "source": [
    "# Apple's stock has split five times since the company went public.\n",
    "# The stock split on a 4-for-1 basis on August 28, 2020, a 7-for-1 basis on June 9, 2014,\n",
    "# and split on a 2-for-1 basis on February 28, 2005, June 21, 2000, and June 16, 1987."
   ]
  },
  {
   "cell_type": "code",
   "execution_count": 14,
   "metadata": {},
   "outputs": [],
   "source": [
    "sids = symbols(['AAPL'])"
   ]
  },
  {
   "cell_type": "code",
   "execution_count": 26,
   "metadata": {},
   "outputs": [
    {
     "data": {
      "text/plain": [
       "{'sid': 199059,\n",
       " 'symbol': 'AAPL',\n",
       " 'asset_name': 'APPLE INC',\n",
       " 'start_date': Timestamp('1986-01-01 00:00:00'),\n",
       " 'end_date': Timestamp('2024-07-12 00:00:00'),\n",
       " 'first_traded': Timestamp('1986-01-01 00:00:00'),\n",
       " 'auto_close_date': Timestamp('2024-07-13 00:00:00'),\n",
       " 'exchange': 'NASDAQ',\n",
       " 'exchange_full': 'NASDAQ',\n",
       " 'tick_size': 0.01,\n",
       " 'multiplier': 1.0,\n",
       " 'exchange_info': ExchangeInfo('NASDAQ', 'NASDAQ', 'US')}"
      ]
     },
     "execution_count": 26,
     "metadata": {},
     "output_type": "execute_result"
    }
   ],
   "source": [
    "sids[0].to_dict()"
   ]
  },
  {
   "cell_type": "code",
   "execution_count": 27,
   "metadata": {},
   "outputs": [
    {
     "data": {
      "text/plain": [
       "array([  0.343,   0.333,   0.315, ..., 221.55 , 226.34 , 227.82 ])"
      ]
     },
     "execution_count": 27,
     "metadata": {},
     "output_type": "execute_result"
    }
   ],
   "source": [
    "p = prices(sids, start, end).values\n",
    "p"
   ]
  },
  {
   "cell_type": "code",
   "execution_count": 28,
   "metadata": {},
   "outputs": [
    {
     "data": {
      "text/plain": [
       "5712"
      ]
     },
     "execution_count": 28,
     "metadata": {},
     "output_type": "execute_result"
    }
   ],
   "source": [
    "len(trading_calendar.sessions_in_range(start, end))"
   ]
  },
  {
   "cell_type": "code",
   "execution_count": 29,
   "metadata": {},
   "outputs": [],
   "source": [
    "dates = trading_calendar.sessions_in_range(start, end)"
   ]
  },
  {
   "cell_type": "code",
   "execution_count": 31,
   "metadata": {},
   "outputs": [
    {
     "data": {
      "text/plain": [
       "array([[  0.343],\n",
       "       [  0.333],\n",
       "       [  0.315],\n",
       "       ...,\n",
       "       [221.55 ],\n",
       "       [226.34 ],\n",
       "       [227.82 ]])"
      ]
     },
     "execution_count": 31,
     "metadata": {},
     "output_type": "execute_result"
    }
   ],
   "source": [
    "data_portal = DataPortal(bundle.asset_finder,\n",
    "                         trading_calendar=bundle.equity_daily_bar_reader.trading_calendar,\n",
    "                         first_trading_day=start,\n",
    "                         equity_daily_reader=bundle.equity_daily_bar_reader,\n",
    "                         adjustment_reader=bundle.adjustment_reader)\n",
    "\n",
    "close_adj = data_portal.get_history_window(assets = sids, \n",
    "                                    end_dt = end, \n",
    "                                    bar_count=len(dates),\n",
    "                                    #bar_count = len(trading_calendar.sessions_in_range(start, end)),\n",
    "                                    frequency = '1d',\n",
    "                                    field = 'close',\n",
    "                                    data_frequency = 'daily').values\n",
    "close_adj"
   ]
  },
  {
   "cell_type": "code",
   "execution_count": 32,
   "metadata": {},
   "outputs": [],
   "source": [
    "close_adj_df = pd.DataFrame(close_adj,columns= ['AAPL'], index= trading_calendar.sessions_in_range(start, end))"
   ]
  },
  {
   "cell_type": "code",
   "execution_count": 33,
   "metadata": {},
   "outputs": [
    {
     "data": {
      "text/plain": [
       "<Axes: >"
      ]
     },
     "execution_count": 33,
     "metadata": {},
     "output_type": "execute_result"
    },
    {
     "data": {
      "image/png": "[encoded data removed]",
      "text/plain": [
       "<Figure size 640x480 with 1 Axes>"
      ]
     },
     "metadata": {},
     "output_type": "display_data"
    }
   ],
   "source": [
    "close_adj_df.plot()"
   ]
  },
  {
   "cell_type": "code",
   "execution_count": 34,
   "metadata": {},
   "outputs": [
    {
     "data": {
      "text/plain": [
       "array([[  0.343],\n",
       "       [  0.333],\n",
       "       [  0.315],\n",
       "       ...,\n",
       "       [221.55 ],\n",
       "       [226.34 ],\n",
       "       [227.82 ]])"
      ]
     },
     "execution_count": 34,
     "metadata": {},
     "output_type": "execute_result"
    }
   ],
   "source": [
    "close_adj"
   ]
  },
  {
   "cell_type": "code",
   "execution_count": 35,
   "metadata": {},
   "outputs": [
    {
     "data": {
      "text/plain": [
       "array([[ 19.19],\n",
       "       [ 18.67],\n",
       "       [ 17.63],\n",
       "       ...,\n",
       "       [221.55],\n",
       "       [226.34],\n",
       "       [227.82]])"
      ]
     },
     "execution_count": 35,
     "metadata": {},
     "output_type": "execute_result"
    }
   ],
   "source": [
    "pricing_reader=bundle.equity_daily_bar_reader\n",
    "close, = pricing_reader.load_raw_arrays(['close'], start, end, sids,)\n",
    "close"
   ]
  },
  {
   "cell_type": "code",
   "execution_count": 36,
   "metadata": {},
   "outputs": [],
   "source": [
    "close_raw = pd.DataFrame(close, columns= ['AAPL'],index= trading_calendar.sessions_in_range(start, end))"
   ]
  },
  {
   "cell_type": "code",
   "execution_count": 37,
   "metadata": {},
   "outputs": [
    {
     "data": {
      "text/plain": [
       "<Axes: >"
      ]
     },
     "execution_count": 37,
     "metadata": {},
     "output_type": "execute_result"
    },
    {
     "data": {
      "image/png": "[encoded data removed]",
      "text/plain": [
       "<Figure size 640x480 with 1 Axes>"
      ]
     },
     "metadata": {},
     "output_type": "display_data"
    }
   ],
   "source": [
    "close_raw.plot()"
   ]
  },
  {
   "cell_type": "code",
   "execution_count": null,
   "metadata": {},
   "outputs": [],
   "source": []
  }
 ],
 "metadata": {
  "kernelspec": {
   "display_name": "ml4t",
   "language": "python",
   "name": "python3"
  },
  "language_info": {
   "codemirror_mode": {
    "name": "ipython",
    "version": 3
   },
   "file_extension": ".py",
   "mimetype": "text/x-python",
   "name": "python",
   "nbconvert_exporter": "python",
   "pygments_lexer": "ipython3",
   "version": "3.10.14"
  }
 },
 "nbformat": 4,
 "nbformat_minor": 2
}
