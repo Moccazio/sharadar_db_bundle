{
 "cells": [
  {
   "cell_type": "code",
   "execution_count": 121,
   "metadata": {},
   "outputs": [],
   "source": [
    "from zipline.pipeline.loaders.equity_pricing_loader import USEquityPricingLoader\n",
    "from zipline.pipeline.domain import EquityCalendarDomain\n",
    "from zipline.pipeline.data import USEquityPricing\n",
    "import pandas as pd\n",
    "import numpy as np\n",
    "from sharadar.pipeline.engine import symbols, make_pipeline_engine, prices, symbols, load_sharadar_bundle, sids\n",
    "\n",
    "from zipline.data.data_portal import DataPortal\n",
    "# trading calender\n",
    "from zipline.utils.calendar_utils import get_calendar\n",
    "trading_calendar = get_calendar('XNYS')\n",
    "\n",
    "pd.set_option('display.float_format', lambda x: '%.2f' % x)\n",
    "bundle = load_sharadar_bundle()\n",
    "last_date = bundle.equity_daily_bar_reader.last_available_dt"
   ]
  },
  {
   "cell_type": "code",
   "execution_count": 122,
   "metadata": {},
   "outputs": [],
   "source": [
    "ss = sids([112960,173730,185169,185169,173717,123553,184872,120782, 123553,176714, 167402,116071,178691, 110206, 120907,121215,116209,122591,115461,123716,120907, 121215,120953,120946,120946,120953, 120953])"
   ]
  },
  {
   "cell_type": "code",
   "execution_count": 123,
   "metadata": {},
   "outputs": [
    {
     "name": "stdout",
     "output_type": "stream",
     "text": [
      "VXUP NASDAQ\n",
      "NSTR NASDAQ\n",
      "MZTH NYSEMKT\n",
      "MZTH NYSEMKT\n",
      "NTEC1 NASDAQ\n",
      "FNET NASDAQ\n",
      "GGA NYSEMKT\n",
      "ULCM NASDAQ\n",
      "FNET NASDAQ\n",
      "EIIN NYSEMKT\n",
      "NWG NYSE\n",
      "AMOAQ NYSE\n",
      "CRNS NASDAQ\n",
      "GLK NYSE\n",
      "PHIR NYSE\n",
      "AIK NYSEMKT\n",
      "ALCI NASDAQ\n",
      "OPTI NASDAQ\n",
      "BNSSA NASDAQ\n",
      "SQM NYSE\n",
      "PHIR NYSE\n",
      "AIK NYSEMKT\n",
      "AIJ NYSEMKT\n",
      "LSMM NYSE\n",
      "LSMM NYSE\n",
      "AIJ NYSEMKT\n",
      "AIJ NYSEMKT\n"
     ]
    }
   ],
   "source": [
    "for s in ss:\n",
    "    print(s.symbol, s.exchange)"
   ]
  },
  {
   "cell_type": "code",
   "execution_count": 124,
   "metadata": {},
   "outputs": [],
   "source": [
    "last_date = bundle.equity_daily_bar_reader.last_available_dt"
   ]
  },
  {
   "cell_type": "code",
   "execution_count": 125,
   "metadata": {},
   "outputs": [],
   "source": [
    "start = pd.to_datetime('2001-10-25', utc=False)\n",
    "end = pd.to_datetime('2024-08-21', utc=False)\n",
    "\n",
    "# AAPL sid 199059\n",
    "sids = symbols(['TSLA', 'F'], as_of_date=last_date)"
   ]
  },
  {
   "cell_type": "code",
   "execution_count": 126,
   "metadata": {},
   "outputs": [
    {
     "data": {
      "text/plain": [
       "{'sid': 194897,\n",
       " 'symbol': 'TSLA',\n",
       " 'asset_name': 'TESLA INC',\n",
       " 'start_date': Timestamp('2010-06-29 00:00:00'),\n",
       " 'end_date': Timestamp('2024-08-23 00:00:00'),\n",
       " 'first_traded': Timestamp('2010-06-29 00:00:00'),\n",
       " 'auto_close_date': Timestamp('2024-08-24 00:00:00'),\n",
       " 'exchange': 'NASDAQ',\n",
       " 'exchange_full': 'NASDAQ',\n",
       " 'tick_size': 0.01,\n",
       " 'multiplier': 1.0,\n",
       " 'exchange_info': ExchangeInfo('NASDAQ', 'NASDAQ', 'US')}"
      ]
     },
     "execution_count": 126,
     "metadata": {},
     "output_type": "execute_result"
    }
   ],
   "source": [
    "sids[0].to_dict()"
   ]
  },
  {
   "cell_type": "code",
   "execution_count": 127,
   "metadata": {},
   "outputs": [
    {
     "data": {
      "text/plain": [
       "{'sid': 199713,\n",
       " 'symbol': 'F',\n",
       " 'asset_name': 'FORD MOTOR CO',\n",
       " 'start_date': Timestamp('1986-01-01 00:00:00'),\n",
       " 'end_date': Timestamp('2024-08-23 00:00:00'),\n",
       " 'first_traded': Timestamp('1986-01-01 00:00:00'),\n",
       " 'auto_close_date': Timestamp('2024-08-24 00:00:00'),\n",
       " 'exchange': 'NYSE',\n",
       " 'exchange_full': 'NYSE',\n",
       " 'tick_size': 0.01,\n",
       " 'multiplier': 1.0,\n",
       " 'exchange_info': ExchangeInfo('NYSE', 'NYSE', 'US')}"
      ]
     },
     "execution_count": 127,
     "metadata": {},
     "output_type": "execute_result"
    }
   ],
   "source": [
    "sids[1].to_dict()"
   ]
  },
  {
   "cell_type": "code",
   "execution_count": 128,
   "metadata": {},
   "outputs": [
    {
     "data": {
      "text/plain": [
       "[Equity(198566 [HON]), Equity(199713 [F])]"
      ]
     },
     "execution_count": 128,
     "metadata": {},
     "output_type": "execute_result"
    }
   ],
   "source": [
    "sids_n = [198566, 199713]\n",
    "bundle.asset_finder.retrieve_all(sids_n)"
   ]
  },
  {
   "cell_type": "code",
   "execution_count": 129,
   "metadata": {},
   "outputs": [
    {
     "data": {
      "text/plain": [
       "Timestamp('1986-01-01 00:00:00')"
      ]
     },
     "execution_count": 129,
     "metadata": {},
     "output_type": "execute_result"
    }
   ],
   "source": [
    "bundle.asset_finder.retrieve_asset(199059).start_date"
   ]
  },
  {
   "cell_type": "code",
   "execution_count": 130,
   "metadata": {},
   "outputs": [
    {
     "data": {
      "text/html": [
       "<div>\n",
       "<style scoped>\n",
       "    .dataframe tbody tr th:only-of-type {\n",
       "        vertical-align: middle;\n",
       "    }\n",
       "\n",
       "    .dataframe tbody tr th {\n",
       "        vertical-align: top;\n",
       "    }\n",
       "\n",
       "    .dataframe thead th {\n",
       "        text-align: right;\n",
       "    }\n",
       "</style>\n",
       "<table border=\"1\" class=\"dataframe\">\n",
       "  <thead>\n",
       "    <tr style=\"text-align: right;\">\n",
       "      <th></th>\n",
       "      <th>Equity(194897 [TSLA])</th>\n",
       "      <th>Equity(199713 [F])</th>\n",
       "    </tr>\n",
       "  </thead>\n",
       "  <tbody>\n",
       "    <tr>\n",
       "      <th>2001-10-25</th>\n",
       "      <td>NaN</td>\n",
       "      <td>16.52</td>\n",
       "    </tr>\n",
       "    <tr>\n",
       "      <th>2001-10-26</th>\n",
       "      <td>NaN</td>\n",
       "      <td>16.66</td>\n",
       "    </tr>\n",
       "    <tr>\n",
       "      <th>2001-10-29</th>\n",
       "      <td>NaN</td>\n",
       "      <td>16.21</td>\n",
       "    </tr>\n",
       "    <tr>\n",
       "      <th>2001-10-30</th>\n",
       "      <td>NaN</td>\n",
       "      <td>16.05</td>\n",
       "    </tr>\n",
       "    <tr>\n",
       "      <th>2001-10-31</th>\n",
       "      <td>NaN</td>\n",
       "      <td>16.05</td>\n",
       "    </tr>\n",
       "    <tr>\n",
       "      <th>...</th>\n",
       "      <td>...</td>\n",
       "      <td>...</td>\n",
       "    </tr>\n",
       "    <tr>\n",
       "      <th>2024-08-15</th>\n",
       "      <td>214.14</td>\n",
       "      <td>10.46</td>\n",
       "    </tr>\n",
       "    <tr>\n",
       "      <th>2024-08-16</th>\n",
       "      <td>216.12</td>\n",
       "      <td>10.51</td>\n",
       "    </tr>\n",
       "    <tr>\n",
       "      <th>2024-08-19</th>\n",
       "      <td>222.72</td>\n",
       "      <td>10.72</td>\n",
       "    </tr>\n",
       "    <tr>\n",
       "      <th>2024-08-20</th>\n",
       "      <td>221.10</td>\n",
       "      <td>10.68</td>\n",
       "    </tr>\n",
       "    <tr>\n",
       "      <th>2024-08-21</th>\n",
       "      <td>223.27</td>\n",
       "      <td>10.85</td>\n",
       "    </tr>\n",
       "  </tbody>\n",
       "</table>\n",
       "<p>5744 rows × 2 columns</p>\n",
       "</div>"
      ],
      "text/plain": [
       "            Equity(194897 [TSLA])  Equity(199713 [F])\n",
       "2001-10-25                    NaN               16.52\n",
       "2001-10-26                    NaN               16.66\n",
       "2001-10-29                    NaN               16.21\n",
       "2001-10-30                    NaN               16.05\n",
       "2001-10-31                    NaN               16.05\n",
       "...                           ...                 ...\n",
       "2024-08-15                 214.14               10.46\n",
       "2024-08-16                 216.12               10.51\n",
       "2024-08-19                 222.72               10.72\n",
       "2024-08-20                 221.10               10.68\n",
       "2024-08-21                 223.27               10.85\n",
       "\n",
       "[5744 rows x 2 columns]"
      ]
     },
     "execution_count": 130,
     "metadata": {},
     "output_type": "execute_result"
    }
   ],
   "source": [
    "p = prices(sids, start, end)\n",
    "p"
   ]
  },
  {
   "cell_type": "code",
   "execution_count": 131,
   "metadata": {},
   "outputs": [
    {
     "data": {
      "text/plain": [
       "array([[ 29.  ,  16.52],\n",
       "       [ 30.  ,  16.66],\n",
       "       [ 29.9 ,  16.21],\n",
       "       ...,\n",
       "       [199.04,  10.72],\n",
       "       [200.07,  10.68],\n",
       "       [201.42,  10.85]])"
      ]
     },
     "execution_count": 131,
     "metadata": {},
     "output_type": "execute_result"
    }
   ],
   "source": [
    "pricing_reader = bundle.equity_daily_bar_reader\n",
    "close, = pricing_reader.load_raw_arrays(['close'], start, end, sids_n,)\n",
    "close"
   ]
  },
  {
   "cell_type": "code",
   "execution_count": 132,
   "metadata": {},
   "outputs": [],
   "source": [
    "# Apple's stock has split five times since the company went public.\n",
    "# The stock split on a 4-for-1 basis on August 28, 2020, a 7-for-1 basis on June 9, 2014,\n",
    "# and split on a 2-for-1 basis on February 28, 2005, June 21, 2000, and June 16, 1987."
   ]
  },
  {
   "cell_type": "code",
   "execution_count": 133,
   "metadata": {},
   "outputs": [],
   "source": [
    "sids = symbols(['AAPL'], last_date)"
   ]
  },
  {
   "cell_type": "code",
   "execution_count": 134,
   "metadata": {},
   "outputs": [
    {
     "data": {
      "text/plain": [
       "{'sid': 199059,\n",
       " 'symbol': 'AAPL',\n",
       " 'asset_name': 'APPLE INC',\n",
       " 'start_date': Timestamp('1986-01-01 00:00:00'),\n",
       " 'end_date': Timestamp('2024-08-23 00:00:00'),\n",
       " 'first_traded': Timestamp('1986-01-01 00:00:00'),\n",
       " 'auto_close_date': Timestamp('2024-08-24 00:00:00'),\n",
       " 'exchange': 'NASDAQ',\n",
       " 'exchange_full': 'NASDAQ',\n",
       " 'tick_size': 0.01,\n",
       " 'multiplier': 1.0,\n",
       " 'exchange_info': ExchangeInfo('NASDAQ', 'NASDAQ', 'US')}"
      ]
     },
     "execution_count": 134,
     "metadata": {},
     "output_type": "execute_result"
    }
   ],
   "source": [
    "sids[0].to_dict()"
   ]
  },
  {
   "cell_type": "code",
   "execution_count": 135,
   "metadata": {},
   "outputs": [
    {
     "data": {
      "text/plain": [
       "array([  0.343,   0.333,   0.315, ..., 225.89 , 226.51 , 226.4  ])"
      ]
     },
     "execution_count": 135,
     "metadata": {},
     "output_type": "execute_result"
    }
   ],
   "source": [
    "p = prices(sids, start, end).values\n",
    "p"
   ]
  },
  {
   "cell_type": "code",
   "execution_count": 136,
   "metadata": {},
   "outputs": [
    {
     "data": {
      "text/plain": [
       "5744"
      ]
     },
     "execution_count": 136,
     "metadata": {},
     "output_type": "execute_result"
    }
   ],
   "source": [
    "len(trading_calendar.sessions_in_range(start, end))"
   ]
  },
  {
   "cell_type": "code",
   "execution_count": 137,
   "metadata": {},
   "outputs": [],
   "source": [
    "dates = trading_calendar.sessions_in_range(start, end)"
   ]
  },
  {
   "cell_type": "code",
   "execution_count": 138,
   "metadata": {},
   "outputs": [
    {
     "data": {
      "text/plain": [
       "array([[  0.343],\n",
       "       [  0.333],\n",
       "       [  0.315],\n",
       "       ...,\n",
       "       [225.89 ],\n",
       "       [226.51 ],\n",
       "       [226.4  ]])"
      ]
     },
     "execution_count": 138,
     "metadata": {},
     "output_type": "execute_result"
    }
   ],
   "source": [
    "data_portal = DataPortal(bundle.asset_finder,\n",
    "                         trading_calendar=bundle.equity_daily_bar_reader.trading_calendar,\n",
    "                         first_trading_day=start,\n",
    "                         equity_daily_reader=bundle.equity_daily_bar_reader,\n",
    "                         adjustment_reader=bundle.adjustment_reader)\n",
    "\n",
    "close_adj = data_portal.get_history_window(assets = sids, \n",
    "                                    end_dt = end, \n",
    "                                    bar_count=len(dates),\n",
    "                                    #bar_count = len(trading_calendar.sessions_in_range(start, end)),\n",
    "                                    frequency = '1d',\n",
    "                                    field = 'close',\n",
    "                                    data_frequency = 'daily').values\n",
    "close_adj"
   ]
  },
  {
   "cell_type": "code",
   "execution_count": 139,
   "metadata": {},
   "outputs": [],
   "source": [
    "close_adj_df = pd.DataFrame(close_adj,columns= ['AAPL'], index= trading_calendar.sessions_in_range(start, end))"
   ]
  },
  {
   "cell_type": "code",
   "execution_count": 140,
   "metadata": {},
   "outputs": [
    {
     "data": {
      "text/plain": [
       "<Axes: >"
      ]
     },
     "execution_count": 140,
     "metadata": {},
     "output_type": "execute_result"
    },
    {
     "data": {
      "image/png": "[encoded data removed]",
      "text/plain": [
       "<Figure size 640x480 with 1 Axes>"
      ]
     },
     "metadata": {},
     "output_type": "display_data"
    }
   ],
   "source": [
    "close_adj_df.plot()"
   ]
  },
  {
   "cell_type": "code",
   "execution_count": 141,
   "metadata": {},
   "outputs": [
    {
     "data": {
      "text/plain": [
       "array([[  0.343],\n",
       "       [  0.333],\n",
       "       [  0.315],\n",
       "       ...,\n",
       "       [225.89 ],\n",
       "       [226.51 ],\n",
       "       [226.4  ]])"
      ]
     },
     "execution_count": 141,
     "metadata": {},
     "output_type": "execute_result"
    }
   ],
   "source": [
    "close_adj"
   ]
  },
  {
   "cell_type": "code",
   "execution_count": 142,
   "metadata": {},
   "outputs": [
    {
     "data": {
      "text/html": [
       "<div>\n",
       "<style scoped>\n",
       "    .dataframe tbody tr th:only-of-type {\n",
       "        vertical-align: middle;\n",
       "    }\n",
       "\n",
       "    .dataframe tbody tr th {\n",
       "        vertical-align: top;\n",
       "    }\n",
       "\n",
       "    .dataframe thead th {\n",
       "        text-align: right;\n",
       "    }\n",
       "</style>\n",
       "<table border=\"1\" class=\"dataframe\">\n",
       "  <thead>\n",
       "    <tr style=\"text-align: right;\">\n",
       "      <th></th>\n",
       "      <th>AAPL</th>\n",
       "    </tr>\n",
       "  </thead>\n",
       "  <tbody>\n",
       "    <tr>\n",
       "      <th>2001-10-25</th>\n",
       "      <td>0.34</td>\n",
       "    </tr>\n",
       "    <tr>\n",
       "      <th>2001-10-26</th>\n",
       "      <td>0.33</td>\n",
       "    </tr>\n",
       "    <tr>\n",
       "      <th>2001-10-29</th>\n",
       "      <td>0.32</td>\n",
       "    </tr>\n",
       "    <tr>\n",
       "      <th>2001-10-30</th>\n",
       "      <td>0.31</td>\n",
       "    </tr>\n",
       "    <tr>\n",
       "      <th>2001-10-31</th>\n",
       "      <td>0.31</td>\n",
       "    </tr>\n",
       "    <tr>\n",
       "      <th>...</th>\n",
       "      <td>...</td>\n",
       "    </tr>\n",
       "    <tr>\n",
       "      <th>2024-08-15</th>\n",
       "      <td>224.72</td>\n",
       "    </tr>\n",
       "    <tr>\n",
       "      <th>2024-08-16</th>\n",
       "      <td>226.05</td>\n",
       "    </tr>\n",
       "    <tr>\n",
       "      <th>2024-08-19</th>\n",
       "      <td>225.89</td>\n",
       "    </tr>\n",
       "    <tr>\n",
       "      <th>2024-08-20</th>\n",
       "      <td>226.51</td>\n",
       "    </tr>\n",
       "    <tr>\n",
       "      <th>2024-08-21</th>\n",
       "      <td>226.40</td>\n",
       "    </tr>\n",
       "  </tbody>\n",
       "</table>\n",
       "<p>5744 rows × 1 columns</p>\n",
       "</div>"
      ],
      "text/plain": [
       "             AAPL\n",
       "2001-10-25   0.34\n",
       "2001-10-26   0.33\n",
       "2001-10-29   0.32\n",
       "2001-10-30   0.31\n",
       "2001-10-31   0.31\n",
       "...           ...\n",
       "2024-08-15 224.72\n",
       "2024-08-16 226.05\n",
       "2024-08-19 225.89\n",
       "2024-08-20 226.51\n",
       "2024-08-21 226.40\n",
       "\n",
       "[5744 rows x 1 columns]"
      ]
     },
     "execution_count": 142,
     "metadata": {},
     "output_type": "execute_result"
    }
   ],
   "source": [
    "close_adj_df"
   ]
  },
  {
   "cell_type": "code",
   "execution_count": 143,
   "metadata": {},
   "outputs": [
    {
     "data": {
      "text/plain": [
       "array([[ 19.19],\n",
       "       [ 18.67],\n",
       "       [ 17.63],\n",
       "       ...,\n",
       "       [225.89],\n",
       "       [226.51],\n",
       "       [226.4 ]])"
      ]
     },
     "execution_count": 143,
     "metadata": {},
     "output_type": "execute_result"
    }
   ],
   "source": [
    "pricing_reader=bundle.equity_daily_bar_reader\n",
    "close, = pricing_reader.load_raw_arrays(['close'], start, end, sids,)\n",
    "close"
   ]
  },
  {
   "cell_type": "code",
   "execution_count": 144,
   "metadata": {},
   "outputs": [],
   "source": [
    "close_raw = pd.DataFrame(close, columns= ['AAPL'],index= trading_calendar.sessions_in_range(start, end))"
   ]
  },
  {
   "cell_type": "code",
   "execution_count": 145,
   "metadata": {},
   "outputs": [
    {
     "data": {
      "text/plain": [
       "<Axes: >"
      ]
     },
     "execution_count": 145,
     "metadata": {},
     "output_type": "execute_result"
    },
    {
     "data": {
      "image/png": "[encoded data removed]",
      "text/plain": [
       "<Figure size 640x480 with 1 Axes>"
      ]
     },
     "metadata": {},
     "output_type": "display_data"
    }
   ],
   "source": [
    "close_raw.plot()"
   ]
  },
  {
   "cell_type": "code",
   "execution_count": null,
   "metadata": {},
   "outputs": [],
   "source": []
  }
 ],
 "metadata": {
  "kernelspec": {
   "display_name": "ml4t",
   "language": "python",
   "name": "python3"
  },
  "language_info": {
   "codemirror_mode": {
    "name": "ipython",
    "version": 3
   },
   "file_extension": ".py",
   "mimetype": "text/x-python",
   "name": "python",
   "nbconvert_exporter": "python",
   "pygments_lexer": "ipython3",
   "version": "3.10.14"
  }
 },
 "nbformat": 4,
 "nbformat_minor": 2
}
