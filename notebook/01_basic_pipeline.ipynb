{
 "cells": [
  {
   "cell_type": "code",
   "execution_count": 31,
   "metadata": {},
   "outputs": [],
   "source": [
    "import pandas as pd\n",
    "import os\n",
    "from zipline.pipeline import Pipeline\n",
    "from zipline.pipeline.data import USEquityPricing\n",
    "from sharadar.pipeline.factors import (\n",
    "    MarketCap,\n",
    "    EV,\n",
    "    Fundamentals\n",
    ")\n",
    "from sharadar.pipeline.engine import load_sharadar_bundle, symbol, symbols, make_pipeline_engine\n",
    "from zipline.pipeline.filters import StaticAssets\n",
    "import time\n",
    "import datetime"
   ]
  },
  {
   "cell_type": "code",
   "execution_count": 32,
   "metadata": {},
   "outputs": [],
   "source": [
    "spe = make_pipeline_engine()"
   ]
  },
  {
   "cell_type": "code",
   "execution_count": 33,
   "metadata": {},
   "outputs": [],
   "source": [
    "bundle = load_sharadar_bundle()"
   ]
  },
  {
   "cell_type": "code",
   "execution_count": 34,
   "metadata": {},
   "outputs": [
    {
     "data": {
      "text/plain": [
       "Timestamp('2000-01-01 00:00:00')"
      ]
     },
     "execution_count": 34,
     "metadata": {},
     "output_type": "execute_result"
    }
   ],
   "source": [
    "bundle.equity_daily_bar_reader.first_trading_day"
   ]
  },
  {
   "cell_type": "code",
   "execution_count": 35,
   "metadata": {},
   "outputs": [
    {
     "data": {
      "text/plain": [
       "Timestamp('2024-08-09 00:00:00')"
      ]
     },
     "execution_count": 35,
     "metadata": {},
     "output_type": "execute_result"
    }
   ],
   "source": [
    "bundle.equity_daily_bar_reader.last_available_dt"
   ]
  },
  {
   "cell_type": "code",
   "execution_count": 36,
   "metadata": {},
   "outputs": [
    {
     "name": "stdout",
     "output_type": "stream",
     "text": [
      "[2024-08-12 21:17:05] INFO: Save root mask file: root-2024-01-05_2024-06-27_XNYS_US_0.pkl\n",
      "Pipeline from 2024-01-05 to 2024-06-27\n",
      "[2024-08-12 21:17:07] INFO: save term-2024-01-05_2024-06-27_screen_e109df46cd4d4382891e20a55622a9db_Close.npy to cache\n",
      "[2024-08-12 21:17:07] INFO: save term-2024-01-05_2024-06-27_screen_e109df46cd4d4382891e20a55622a9db_screen_e109df46cd4d4382891e20a55622a9db.npy to cache\n",
      "[2024-08-12 21:17:07] INFO: Save root mask file: root-2024-06-28_2024-08-01_XNYS_US_0.pkl\n",
      "Pipeline from 2024-06-28 to 2024-08-01\n",
      "[2024-08-12 21:17:07] INFO: save term-2024-06-28_2024-08-01_screen_e109df46cd4d4382891e20a55622a9db_Close.npy to cache\n",
      "[2024-08-12 21:17:07] INFO: save term-2024-06-28_2024-08-01_screen_e109df46cd4d4382891e20a55622a9db_screen_e109df46cd4d4382891e20a55622a9db.npy to cache\n",
      "[2024-08-12 21:17:07] INFO: Pipeline from 2024-06-28 to 2024-08-01 completed in 0:00:01.\n"
     ]
    },
    {
     "data": {
      "text/html": [
       "<div>\n",
       "<style scoped>\n",
       "    .dataframe tbody tr th:only-of-type {\n",
       "        vertical-align: middle;\n",
       "    }\n",
       "\n",
       "    .dataframe tbody tr th {\n",
       "        vertical-align: top;\n",
       "    }\n",
       "\n",
       "    .dataframe thead th {\n",
       "        text-align: right;\n",
       "    }\n",
       "</style>\n",
       "<table border=\"1\" class=\"dataframe\">\n",
       "  <thead>\n",
       "    <tr style=\"text-align: right;\">\n",
       "      <th></th>\n",
       "      <th></th>\n",
       "      <th>Close</th>\n",
       "    </tr>\n",
       "  </thead>\n",
       "  <tbody>\n",
       "    <tr>\n",
       "      <th rowspan=\"15\" valign=\"top\">2024-07-31</th>\n",
       "      <th>Equity(10003 [TR3M])</th>\n",
       "      <td>5.140000</td>\n",
       "    </tr>\n",
       "    <tr>\n",
       "      <th>Equity(10006 [TR6M])</th>\n",
       "      <td>4.920000</td>\n",
       "    </tr>\n",
       "    <tr>\n",
       "      <th>Equity(10012 [TR1Y])</th>\n",
       "      <td>4.780000</td>\n",
       "    </tr>\n",
       "    <tr>\n",
       "      <th>Equity(10024 [TR2Y])</th>\n",
       "      <td>4.780000</td>\n",
       "    </tr>\n",
       "    <tr>\n",
       "      <th>Equity(10036 [TR3Y])</th>\n",
       "      <td>4.350000</td>\n",
       "    </tr>\n",
       "    <tr>\n",
       "      <th>Equity(10060 [TR5Y])</th>\n",
       "      <td>4.160000</td>\n",
       "    </tr>\n",
       "    <tr>\n",
       "      <th>Equity(10084 [TR7Y])</th>\n",
       "      <td>4.030000</td>\n",
       "    </tr>\n",
       "    <tr>\n",
       "      <th>Equity(10120 [TR10Y])</th>\n",
       "      <td>4.060000</td>\n",
       "    </tr>\n",
       "    <tr>\n",
       "      <th>Equity(10240 [TR20Y])</th>\n",
       "      <td>4.150000</td>\n",
       "    </tr>\n",
       "    <tr>\n",
       "      <th>Equity(10400 [CBOND])</th>\n",
       "      <td>5.250000</td>\n",
       "    </tr>\n",
       "    <tr>\n",
       "      <th>Equity(10410 [INDPRO])</th>\n",
       "      <td>103.994100</td>\n",
       "    </tr>\n",
       "    <tr>\n",
       "      <th>Equity(10420 [INDPROPCT])</th>\n",
       "      <td>0.006445</td>\n",
       "    </tr>\n",
       "    <tr>\n",
       "      <th>Equity(10430 [PMICMP])</th>\n",
       "      <td>46.800000</td>\n",
       "    </tr>\n",
       "    <tr>\n",
       "      <th>Equity(10440 [UNRATE])</th>\n",
       "      <td>4.300000</td>\n",
       "    </tr>\n",
       "    <tr>\n",
       "      <th>Equity(10450 [RATEINF])</th>\n",
       "      <td>2.970000</td>\n",
       "    </tr>\n",
       "    <tr>\n",
       "      <th rowspan=\"15\" valign=\"top\">2024-08-01</th>\n",
       "      <th>Equity(10003 [TR3M])</th>\n",
       "      <td>5.150000</td>\n",
       "    </tr>\n",
       "    <tr>\n",
       "      <th>Equity(10006 [TR6M])</th>\n",
       "      <td>4.910000</td>\n",
       "    </tr>\n",
       "    <tr>\n",
       "      <th>Equity(10012 [TR1Y])</th>\n",
       "      <td>4.730000</td>\n",
       "    </tr>\n",
       "    <tr>\n",
       "      <th>Equity(10024 [TR2Y])</th>\n",
       "      <td>4.730000</td>\n",
       "    </tr>\n",
       "    <tr>\n",
       "      <th>Equity(10036 [TR3Y])</th>\n",
       "      <td>4.290000</td>\n",
       "    </tr>\n",
       "    <tr>\n",
       "      <th>Equity(10060 [TR5Y])</th>\n",
       "      <td>4.100000</td>\n",
       "    </tr>\n",
       "    <tr>\n",
       "      <th>Equity(10084 [TR7Y])</th>\n",
       "      <td>3.970000</td>\n",
       "    </tr>\n",
       "    <tr>\n",
       "      <th>Equity(10120 [TR10Y])</th>\n",
       "      <td>4.000000</td>\n",
       "    </tr>\n",
       "    <tr>\n",
       "      <th>Equity(10240 [TR20Y])</th>\n",
       "      <td>4.090000</td>\n",
       "    </tr>\n",
       "    <tr>\n",
       "      <th>Equity(10400 [CBOND])</th>\n",
       "      <td>5.170000</td>\n",
       "    </tr>\n",
       "    <tr>\n",
       "      <th>Equity(10410 [INDPRO])</th>\n",
       "      <td>103.994100</td>\n",
       "    </tr>\n",
       "    <tr>\n",
       "      <th>Equity(10420 [INDPROPCT])</th>\n",
       "      <td>0.006445</td>\n",
       "    </tr>\n",
       "    <tr>\n",
       "      <th>Equity(10430 [PMICMP])</th>\n",
       "      <td>46.800000</td>\n",
       "    </tr>\n",
       "    <tr>\n",
       "      <th>Equity(10440 [UNRATE])</th>\n",
       "      <td>4.300000</td>\n",
       "    </tr>\n",
       "    <tr>\n",
       "      <th>Equity(10450 [RATEINF])</th>\n",
       "      <td>2.970000</td>\n",
       "    </tr>\n",
       "  </tbody>\n",
       "</table>\n",
       "</div>"
      ],
      "text/plain": [
       "                                           Close\n",
       "2024-07-31 Equity(10003 [TR3M])         5.140000\n",
       "           Equity(10006 [TR6M])         4.920000\n",
       "           Equity(10012 [TR1Y])         4.780000\n",
       "           Equity(10024 [TR2Y])         4.780000\n",
       "           Equity(10036 [TR3Y])         4.350000\n",
       "           Equity(10060 [TR5Y])         4.160000\n",
       "           Equity(10084 [TR7Y])         4.030000\n",
       "           Equity(10120 [TR10Y])        4.060000\n",
       "           Equity(10240 [TR20Y])        4.150000\n",
       "           Equity(10400 [CBOND])        5.250000\n",
       "           Equity(10410 [INDPRO])     103.994100\n",
       "           Equity(10420 [INDPROPCT])    0.006445\n",
       "           Equity(10430 [PMICMP])      46.800000\n",
       "           Equity(10440 [UNRATE])       4.300000\n",
       "           Equity(10450 [RATEINF])      2.970000\n",
       "2024-08-01 Equity(10003 [TR3M])         5.150000\n",
       "           Equity(10006 [TR6M])         4.910000\n",
       "           Equity(10012 [TR1Y])         4.730000\n",
       "           Equity(10024 [TR2Y])         4.730000\n",
       "           Equity(10036 [TR3Y])         4.290000\n",
       "           Equity(10060 [TR5Y])         4.100000\n",
       "           Equity(10084 [TR7Y])         3.970000\n",
       "           Equity(10120 [TR10Y])        4.000000\n",
       "           Equity(10240 [TR20Y])        4.090000\n",
       "           Equity(10400 [CBOND])        5.170000\n",
       "           Equity(10410 [INDPRO])     103.994100\n",
       "           Equity(10420 [INDPROPCT])    0.006445\n",
       "           Equity(10430 [PMICMP])      46.800000\n",
       "           Equity(10440 [UNRATE])       4.300000\n",
       "           Equity(10450 [RATEINF])      2.970000"
      ]
     },
     "execution_count": 36,
     "metadata": {},
     "output_type": "execute_result"
    }
   ],
   "source": [
    "pipe_start = pd.to_datetime('2024-01-05', utc=False)\n",
    "pipe_end = pd.to_datetime('2024-08-01', utc=False)\n",
    "macro = symbols(['TR3M', 'TR6M', 'TR1Y', 'TR2Y', 'TR3Y', 'TR5Y', 'TR7Y', 'TR10Y','TR20Y','CBOND', 'INDPRO', 'INDPROPCT', 'PMICMP', 'UNRATE', 'RATEINF'])\n",
    "pipe = Pipeline(columns={\n",
    "    'Close': USEquityPricing.close.latest, \n",
    "},\n",
    "screen = StaticAssets(macro)\n",
    ")\n",
    "stocks = spe.run_pipeline(pipe, pipe_start, pipe_end)\n",
    "stocks.tail(30)"
   ]
  },
  {
   "cell_type": "code",
   "execution_count": 37,
   "metadata": {},
   "outputs": [
    {
     "data": {
      "text/html": [
       "<div>\n",
       "<style scoped>\n",
       "    .dataframe tbody tr th:only-of-type {\n",
       "        vertical-align: middle;\n",
       "    }\n",
       "\n",
       "    .dataframe tbody tr th {\n",
       "        vertical-align: top;\n",
       "    }\n",
       "\n",
       "    .dataframe thead th {\n",
       "        text-align: right;\n",
       "    }\n",
       "</style>\n",
       "<table border=\"1\" class=\"dataframe\">\n",
       "  <thead>\n",
       "    <tr style=\"text-align: right;\">\n",
       "      <th></th>\n",
       "      <th></th>\n",
       "      <th>Close</th>\n",
       "    </tr>\n",
       "  </thead>\n",
       "  <tbody>\n",
       "    <tr>\n",
       "      <th rowspan=\"14\" valign=\"top\">2024-01-05</th>\n",
       "      <th>Equity(10003 [TR3M])</th>\n",
       "      <td>5.240000</td>\n",
       "    </tr>\n",
       "    <tr>\n",
       "      <th>Equity(10006 [TR6M])</th>\n",
       "      <td>5.060000</td>\n",
       "    </tr>\n",
       "    <tr>\n",
       "      <th>Equity(10012 [TR1Y])</th>\n",
       "      <td>4.850000</td>\n",
       "    </tr>\n",
       "    <tr>\n",
       "      <th>Equity(10024 [TR2Y])</th>\n",
       "      <td>4.850000</td>\n",
       "    </tr>\n",
       "    <tr>\n",
       "      <th>Equity(10036 [TR3Y])</th>\n",
       "      <td>4.380000</td>\n",
       "    </tr>\n",
       "    <tr>\n",
       "      <th>Equity(10060 [TR5Y])</th>\n",
       "      <td>4.140000</td>\n",
       "    </tr>\n",
       "    <tr>\n",
       "      <th>Equity(10084 [TR7Y])</th>\n",
       "      <td>3.970000</td>\n",
       "    </tr>\n",
       "    <tr>\n",
       "      <th>Equity(10120 [TR10Y])</th>\n",
       "      <td>3.990000</td>\n",
       "    </tr>\n",
       "    <tr>\n",
       "      <th>Equity(10240 [TR20Y])</th>\n",
       "      <td>3.990000</td>\n",
       "    </tr>\n",
       "    <tr>\n",
       "      <th>Equity(10400 [CBOND])</th>\n",
       "      <td>5.300000</td>\n",
       "    </tr>\n",
       "    <tr>\n",
       "      <th>Equity(10410 [INDPRO])</th>\n",
       "      <td>101.483000</td>\n",
       "    </tr>\n",
       "    <tr>\n",
       "      <th>Equity(10420 [INDPROPCT])</th>\n",
       "      <td>-0.011185</td>\n",
       "    </tr>\n",
       "    <tr>\n",
       "      <th>Equity(10430 [PMICMP])</th>\n",
       "      <td>49.100000</td>\n",
       "    </tr>\n",
       "    <tr>\n",
       "      <th>Equity(10440 [UNRATE])</th>\n",
       "      <td>3.700000</td>\n",
       "    </tr>\n",
       "  </tbody>\n",
       "</table>\n",
       "</div>"
      ],
      "text/plain": [
       "                                           Close\n",
       "2024-01-05 Equity(10003 [TR3M])         5.240000\n",
       "           Equity(10006 [TR6M])         5.060000\n",
       "           Equity(10012 [TR1Y])         4.850000\n",
       "           Equity(10024 [TR2Y])         4.850000\n",
       "           Equity(10036 [TR3Y])         4.380000\n",
       "           Equity(10060 [TR5Y])         4.140000\n",
       "           Equity(10084 [TR7Y])         3.970000\n",
       "           Equity(10120 [TR10Y])        3.990000\n",
       "           Equity(10240 [TR20Y])        3.990000\n",
       "           Equity(10400 [CBOND])        5.300000\n",
       "           Equity(10410 [INDPRO])     101.483000\n",
       "           Equity(10420 [INDPROPCT])   -0.011185\n",
       "           Equity(10430 [PMICMP])      49.100000\n",
       "           Equity(10440 [UNRATE])       3.700000"
      ]
     },
     "execution_count": 37,
     "metadata": {},
     "output_type": "execute_result"
    }
   ],
   "source": [
    "stocks.head(14)"
   ]
  },
  {
   "cell_type": "code",
   "execution_count": 38,
   "metadata": {},
   "outputs": [
    {
     "data": {
      "text/html": [
       "<div>\n",
       "<style scoped>\n",
       "    .dataframe tbody tr th:only-of-type {\n",
       "        vertical-align: middle;\n",
       "    }\n",
       "\n",
       "    .dataframe tbody tr th {\n",
       "        vertical-align: top;\n",
       "    }\n",
       "\n",
       "    .dataframe thead th {\n",
       "        text-align: right;\n",
       "    }\n",
       "</style>\n",
       "<table border=\"1\" class=\"dataframe\">\n",
       "  <thead>\n",
       "    <tr style=\"text-align: right;\">\n",
       "      <th></th>\n",
       "      <th></th>\n",
       "      <th>Close</th>\n",
       "    </tr>\n",
       "  </thead>\n",
       "  <tbody>\n",
       "    <tr>\n",
       "      <th rowspan=\"14\" valign=\"top\">2024-08-01</th>\n",
       "      <th>Equity(10006 [TR6M])</th>\n",
       "      <td>4.910000</td>\n",
       "    </tr>\n",
       "    <tr>\n",
       "      <th>Equity(10012 [TR1Y])</th>\n",
       "      <td>4.730000</td>\n",
       "    </tr>\n",
       "    <tr>\n",
       "      <th>Equity(10024 [TR2Y])</th>\n",
       "      <td>4.730000</td>\n",
       "    </tr>\n",
       "    <tr>\n",
       "      <th>Equity(10036 [TR3Y])</th>\n",
       "      <td>4.290000</td>\n",
       "    </tr>\n",
       "    <tr>\n",
       "      <th>Equity(10060 [TR5Y])</th>\n",
       "      <td>4.100000</td>\n",
       "    </tr>\n",
       "    <tr>\n",
       "      <th>Equity(10084 [TR7Y])</th>\n",
       "      <td>3.970000</td>\n",
       "    </tr>\n",
       "    <tr>\n",
       "      <th>Equity(10120 [TR10Y])</th>\n",
       "      <td>4.000000</td>\n",
       "    </tr>\n",
       "    <tr>\n",
       "      <th>Equity(10240 [TR20Y])</th>\n",
       "      <td>4.090000</td>\n",
       "    </tr>\n",
       "    <tr>\n",
       "      <th>Equity(10400 [CBOND])</th>\n",
       "      <td>5.170000</td>\n",
       "    </tr>\n",
       "    <tr>\n",
       "      <th>Equity(10410 [INDPRO])</th>\n",
       "      <td>103.994100</td>\n",
       "    </tr>\n",
       "    <tr>\n",
       "      <th>Equity(10420 [INDPROPCT])</th>\n",
       "      <td>0.006445</td>\n",
       "    </tr>\n",
       "    <tr>\n",
       "      <th>Equity(10430 [PMICMP])</th>\n",
       "      <td>46.800000</td>\n",
       "    </tr>\n",
       "    <tr>\n",
       "      <th>Equity(10440 [UNRATE])</th>\n",
       "      <td>4.300000</td>\n",
       "    </tr>\n",
       "    <tr>\n",
       "      <th>Equity(10450 [RATEINF])</th>\n",
       "      <td>2.970000</td>\n",
       "    </tr>\n",
       "  </tbody>\n",
       "</table>\n",
       "</div>"
      ],
      "text/plain": [
       "                                           Close\n",
       "2024-08-01 Equity(10006 [TR6M])         4.910000\n",
       "           Equity(10012 [TR1Y])         4.730000\n",
       "           Equity(10024 [TR2Y])         4.730000\n",
       "           Equity(10036 [TR3Y])         4.290000\n",
       "           Equity(10060 [TR5Y])         4.100000\n",
       "           Equity(10084 [TR7Y])         3.970000\n",
       "           Equity(10120 [TR10Y])        4.000000\n",
       "           Equity(10240 [TR20Y])        4.090000\n",
       "           Equity(10400 [CBOND])        5.170000\n",
       "           Equity(10410 [INDPRO])     103.994100\n",
       "           Equity(10420 [INDPROPCT])    0.006445\n",
       "           Equity(10430 [PMICMP])      46.800000\n",
       "           Equity(10440 [UNRATE])       4.300000\n",
       "           Equity(10450 [RATEINF])      2.970000"
      ]
     },
     "execution_count": 38,
     "metadata": {},
     "output_type": "execute_result"
    }
   ],
   "source": [
    "stocks.tail(14)"
   ]
  },
  {
   "cell_type": "code",
   "execution_count": 39,
   "metadata": {},
   "outputs": [
    {
     "data": {
      "text/plain": [
       "<Axes: >"
      ]
     },
     "execution_count": 39,
     "metadata": {},
     "output_type": "execute_result"
    },
    {
     "data": {
      "image/png": "[encoded data removed]",
      "text/plain": [
       "<Figure size 640x480 with 1 Axes>"
      ]
     },
     "metadata": {},
     "output_type": "display_data"
    }
   ],
   "source": [
    "stocks.tail(30).plot()"
   ]
  },
  {
   "cell_type": "code",
   "execution_count": 40,
   "metadata": {},
   "outputs": [
    {
     "data": {
      "text/plain": [
       "{'sid': 10430,\n",
       " 'symbol': 'PMICMP',\n",
       " 'asset_name': 'Purchasing Managers Index',\n",
       " 'start_date': Timestamp('1990-01-02 00:00:00'),\n",
       " 'end_date': Timestamp('2024-08-09 00:00:00'),\n",
       " 'first_traded': Timestamp('1990-01-02 00:00:00'),\n",
       " 'auto_close_date': Timestamp('2024-08-10 00:00:00'),\n",
       " 'exchange': 'MACRO',\n",
       " 'exchange_full': 'MACRO',\n",
       " 'tick_size': 0.01,\n",
       " 'multiplier': 1.0,\n",
       " 'exchange_info': ExchangeInfo('MACRO', 'MACRO', 'US')}"
      ]
     },
     "execution_count": 40,
     "metadata": {},
     "output_type": "execute_result"
    }
   ],
   "source": [
    "symbol('PMICMP').to_dict()"
   ]
  },
  {
   "cell_type": "code",
   "execution_count": 41,
   "metadata": {},
   "outputs": [
    {
     "data": {
      "text/plain": [
       "{'sid': 10430,\n",
       " 'symbol': 'PMICMP',\n",
       " 'asset_name': 'Purchasing Managers Index',\n",
       " 'start_date': Timestamp('1990-01-02 00:00:00'),\n",
       " 'end_date': Timestamp('2024-08-09 00:00:00'),\n",
       " 'first_traded': Timestamp('1990-01-02 00:00:00'),\n",
       " 'auto_close_date': Timestamp('2024-08-10 00:00:00'),\n",
       " 'exchange': 'MACRO',\n",
       " 'exchange_full': 'MACRO',\n",
       " 'tick_size': 0.01,\n",
       " 'multiplier': 1.0,\n",
       " 'exchange_info': ExchangeInfo('MACRO', 'MACRO', 'US')}"
      ]
     },
     "execution_count": 41,
     "metadata": {},
     "output_type": "execute_result"
    }
   ],
   "source": [
    "symbol('PMICMP').to_dict()"
   ]
  },
  {
   "cell_type": "code",
   "execution_count": 42,
   "metadata": {},
   "outputs": [
    {
     "data": {
      "text/plain": [
       "Equity(111630 [^VIX])"
      ]
     },
     "execution_count": 42,
     "metadata": {},
     "output_type": "execute_result"
    }
   ],
   "source": [
    "symbol('^VIX')"
   ]
  },
  {
   "cell_type": "code",
   "execution_count": 43,
   "metadata": {},
   "outputs": [
    {
     "data": {
      "text/plain": [
       "{'sid': 118691,\n",
       " 'symbol': 'SPY',\n",
       " 'asset_name': 'SPDR S&P 500 ETF TRUST',\n",
       " 'start_date': Timestamp('1993-01-29 00:00:00'),\n",
       " 'end_date': Timestamp('2024-08-08 00:00:00'),\n",
       " 'first_traded': Timestamp('1993-01-29 00:00:00'),\n",
       " 'auto_close_date': Timestamp('2024-08-09 00:00:00'),\n",
       " 'exchange': 'NYSEARCA',\n",
       " 'exchange_full': 'NYSEARCA',\n",
       " 'tick_size': 0.01,\n",
       " 'multiplier': 1.0,\n",
       " 'exchange_info': ExchangeInfo('NYSEARCA', 'NYSEARCA', 'US')}"
      ]
     },
     "execution_count": 43,
     "metadata": {},
     "output_type": "execute_result"
    }
   ],
   "source": [
    "symbol('SPY').to_dict()"
   ]
  },
  {
   "cell_type": "code",
   "execution_count": 44,
   "metadata": {},
   "outputs": [
    {
     "data": {
      "text/plain": [
       "{'sid': 117540,\n",
       " 'symbol': 'SPDN',\n",
       " 'asset_name': 'DIREXION DAILY S&P 500 (R) BEAR 1X SHARES',\n",
       " 'start_date': Timestamp('2016-06-08 00:00:00'),\n",
       " 'end_date': Timestamp('2024-08-08 00:00:00'),\n",
       " 'first_traded': Timestamp('2016-06-08 00:00:00'),\n",
       " 'auto_close_date': Timestamp('2024-08-09 00:00:00'),\n",
       " 'exchange': 'NYSEARCA',\n",
       " 'exchange_full': 'NYSEARCA',\n",
       " 'tick_size': 0.01,\n",
       " 'multiplier': 1.0,\n",
       " 'exchange_info': ExchangeInfo('NYSEARCA', 'NYSEARCA', 'US')}"
      ]
     },
     "execution_count": 44,
     "metadata": {},
     "output_type": "execute_result"
    }
   ],
   "source": [
    "symbol('SPDN').to_dict()"
   ]
  },
  {
   "cell_type": "code",
   "execution_count": 45,
   "metadata": {},
   "outputs": [
    {
     "data": {
      "text/plain": [
       "Timestamp('2020-02-03 00:00:00')"
      ]
     },
     "execution_count": 45,
     "metadata": {},
     "output_type": "execute_result"
    }
   ],
   "source": [
    "ts=pd.to_datetime('2020-02-03', utc=False)\n",
    "ts"
   ]
  },
  {
   "cell_type": "code",
   "execution_count": 46,
   "metadata": {},
   "outputs": [
    {
     "data": {
      "text/plain": [
       "{Equity(117540 [SPDN]): Timestamp('2020-02-03 00:00:00'),\n",
       " Equity(199623 [IBM]): Timestamp('2020-02-03 00:00:00'),\n",
       " Equity(199059 [AAPL]): Timestamp('2020-02-03 00:00:00')}"
      ]
     },
     "execution_count": 46,
     "metadata": {},
     "output_type": "execute_result"
    }
   ],
   "source": [
    "d = {symbol('SPDN'):ts, symbol('IBM'):ts, symbol('AAPL'):ts}\n",
    "d"
   ]
  },
  {
   "cell_type": "code",
   "execution_count": 47,
   "metadata": {},
   "outputs": [
    {
     "data": {
      "text/plain": [
       "Timestamp('2020-03-31 00:00:00')"
      ]
     },
     "execution_count": 47,
     "metadata": {},
     "output_type": "execute_result"
    }
   ],
   "source": [
    "from pandas.tseries.offsets import MonthEnd\n",
    "ts+MonthEnd(2)"
   ]
  },
  {
   "cell_type": "code",
   "execution_count": 48,
   "metadata": {},
   "outputs": [
    {
     "data": {
      "text/plain": [
       "Timestamp('2020-02-29 00:00:00')"
      ]
     },
     "execution_count": 48,
     "metadata": {},
     "output_type": "execute_result"
    }
   ],
   "source": [
    "ts+MonthEnd(0)"
   ]
  },
  {
   "cell_type": "code",
   "execution_count": 49,
   "metadata": {},
   "outputs": [
    {
     "data": {
      "text/plain": [
       "Equity(117540 [SPDN])   2020-03-31\n",
       "Equity(199623 [IBM])    2020-02-29\n",
       "Equity(196267 [APL])    2020-04-30\n",
       "dtype: datetime64[ns]"
      ]
     },
     "execution_count": 49,
     "metadata": {},
     "output_type": "execute_result"
    }
   ],
   "source": [
    "s = pd.Series()\n",
    "s.loc[symbol('SPDN')]=pd.to_datetime('2020-02-14', utc=False)+MonthEnd(2)\n",
    "s.loc[symbol('IBM')]=pd.to_datetime('2020-01-03', utc=False)+MonthEnd(2)\n",
    "s.loc[symbol('APL')]=pd.to_datetime('2020-03-03', utc=False)+MonthEnd(2)\n",
    "s"
   ]
  },
  {
   "cell_type": "code",
   "execution_count": 50,
   "metadata": {},
   "outputs": [
    {
     "name": "stdout",
     "output_type": "stream",
     "text": [
      "Equity(199623 [IBM])    2020-04-30\n",
      "Equity(199713 [F])      2020-04-30\n",
      "Equity(199059 [AAPL])   2020-04-30\n",
      "Equity(194684 [ORCL])   2020-05-31\n",
      "Equity(198508 [MSFT])   2020-05-31\n",
      "dtype: datetime64[ns]\n",
      "Equity(199623 [IBM])    2020-04-30\n",
      "Equity(199713 [F])      2020-04-30\n",
      "Equity(199059 [AAPL])   2020-04-30\n",
      "Equity(194684 [ORCL])   2020-05-31\n",
      "Equity(198508 [MSFT])   2020-05-31\n",
      "dtype: datetime64[ns]\n",
      "Equity(194684 [ORCL])   2020-05-31\n",
      "Equity(198508 [MSFT])   2020-05-31\n",
      "dtype: datetime64[ns]\n",
      "Series([], dtype: datetime64[ns])\n"
     ]
    }
   ],
   "source": [
    "class Blacklist:\n",
    "    def __init__(self, expires_in_months=2):\n",
    "        self.n = expires_in_months\n",
    "        self.s = pd.Series()\n",
    "    \n",
    "    def add_symbols(self, symbols, date):\n",
    "        for symbol in symbols:\n",
    "            self.s.loc[symbol] = date + MonthEnd(self.n+1)\n",
    "            \n",
    "    def get_symbols(self, date=None):\n",
    "        if date is not None:\n",
    "            self.s = self.s.loc[self.s>date]\n",
    "            \n",
    "        print(self.s)\n",
    "        return self.s.index\n",
    "    \n",
    "blacklist = Blacklist(2)\n",
    "blacklist.add_symbols(symbols(['IBM', 'F', 'AAPL']), pd.to_datetime('2020-02-03'))\n",
    "blacklist.add_symbols(symbols(['ORCL', 'MSFT']), pd.to_datetime('2020-03-10'))\n",
    "\n",
    "assert len(blacklist.get_symbols(pd.to_datetime('2020-03-10'))) == 5, \"len should be 5\"\n",
    "assert len(blacklist.get_symbols(pd.to_datetime('2020-04-10'))) == 5, \"len should be 5\"\n",
    "assert len(blacklist.get_symbols(pd.to_datetime('2020-05-10'))) == 2, \"len should be 2\"\n",
    "assert len(blacklist.get_symbols(pd.to_datetime('2020-06-10'))) == 0, \"len should be 0\""
   ]
  },
  {
   "cell_type": "code",
   "execution_count": 51,
   "metadata": {},
   "outputs": [
    {
     "data": {
      "text/plain": [
       "Timestamp('2020-04-30 00:00:00')"
      ]
     },
     "execution_count": 51,
     "metadata": {},
     "output_type": "execute_result"
    }
   ],
   "source": [
    "pd.to_datetime('2020-04-30')+MonthEnd(0)"
   ]
  },
  {
   "cell_type": "code",
   "execution_count": 52,
   "metadata": {},
   "outputs": [
    {
     "name": "stdout",
     "output_type": "stream",
     "text": [
      "Series([], dtype: datetime64[ns])\n"
     ]
    },
    {
     "data": {
      "text/plain": [
       "Index([], dtype='object')"
      ]
     },
     "execution_count": 52,
     "metadata": {},
     "output_type": "execute_result"
    }
   ],
   "source": [
    "blacklist.get_symbols(pd.to_datetime('2020-05-10'))"
   ]
  },
  {
   "cell_type": "code",
   "execution_count": 53,
   "metadata": {},
   "outputs": [
    {
     "data": {
      "text/plain": [
       "Equity(117540 [SPDN])   2020-03-31\n",
       "Equity(196267 [APL])    2020-04-30\n",
       "dtype: datetime64[ns]"
      ]
     },
     "execution_count": 53,
     "metadata": {},
     "output_type": "execute_result"
    }
   ],
   "source": [
    "s.loc[s>pd.to_datetime('2020-03-15', utc=False)]"
   ]
  },
  {
   "cell_type": "code",
   "execution_count": 54,
   "metadata": {},
   "outputs": [
    {
     "data": {
      "text/plain": [
       "Equity(117540 [SPDN])   2020-03-31\n",
       "Equity(196267 [APL])    2020-04-30\n",
       "dtype: datetime64[ns]"
      ]
     },
     "execution_count": 54,
     "metadata": {},
     "output_type": "execute_result"
    }
   ],
   "source": [
    "s.loc[s>'2020-03-15']"
   ]
  },
  {
   "cell_type": "code",
   "execution_count": 55,
   "metadata": {},
   "outputs": [
    {
     "name": "stdout",
     "output_type": "stream",
     "text": [
      "[2024-08-12 21:17:12] INFO: Save root mask file: root-2024-01-04_2024-06-26_XNYS_US_0.pkl\n",
      "Pipeline from 2024-01-04 to 2024-06-26\n",
      "[2024-08-12 21:17:13] INFO: save term-2024-01-04_2024-06-26_screen_e109df46cd4d4382891e20a55622a9db_Close.npy to cache\n",
      "[2024-08-12 21:17:13] INFO: save term-2024-01-04_2024-06-26_screen_e109df46cd4d4382891e20a55622a9db_screen_e109df46cd4d4382891e20a55622a9db.npy to cache\n",
      "[2024-08-12 21:17:13] INFO: Save root mask file: root-2024-06-27_2024-07-08_XNYS_US_0.pkl\n",
      "Pipeline from 2024-06-27 to 2024-07-08\n",
      "[2024-08-12 21:17:13] INFO: save term-2024-06-27_2024-07-08_screen_e109df46cd4d4382891e20a55622a9db_Close.npy to cache\n",
      "[2024-08-12 21:17:13] INFO: save term-2024-06-27_2024-07-08_screen_e109df46cd4d4382891e20a55622a9db_screen_e109df46cd4d4382891e20a55622a9db.npy to cache\n",
      "[2024-08-12 21:17:13] INFO: Pipeline from 2024-06-27 to 2024-07-08 completed in 0:00:01.\n"
     ]
    },
    {
     "data": {
      "text/html": [
       "<div>\n",
       "<style scoped>\n",
       "    .dataframe tbody tr th:only-of-type {\n",
       "        vertical-align: middle;\n",
       "    }\n",
       "\n",
       "    .dataframe tbody tr th {\n",
       "        vertical-align: top;\n",
       "    }\n",
       "\n",
       "    .dataframe thead th {\n",
       "        text-align: right;\n",
       "    }\n",
       "</style>\n",
       "<table border=\"1\" class=\"dataframe\">\n",
       "  <thead>\n",
       "    <tr style=\"text-align: right;\">\n",
       "      <th></th>\n",
       "      <th></th>\n",
       "      <th>Close</th>\n",
       "    </tr>\n",
       "  </thead>\n",
       "  <tbody>\n",
       "    <tr>\n",
       "      <th rowspan=\"3\" valign=\"top\">2024-01-04</th>\n",
       "      <th>Equity(199059 [AAPL])</th>\n",
       "      <td>184.25</td>\n",
       "    </tr>\n",
       "    <tr>\n",
       "      <th>Equity(199623 [IBM])</th>\n",
       "      <td>160.10</td>\n",
       "    </tr>\n",
       "    <tr>\n",
       "      <th>Equity(199713 [F])</th>\n",
       "      <td>11.71</td>\n",
       "    </tr>\n",
       "    <tr>\n",
       "      <th rowspan=\"2\" valign=\"top\">2024-01-05</th>\n",
       "      <th>Equity(199059 [AAPL])</th>\n",
       "      <td>181.91</td>\n",
       "    </tr>\n",
       "    <tr>\n",
       "      <th>Equity(199623 [IBM])</th>\n",
       "      <td>160.86</td>\n",
       "    </tr>\n",
       "    <tr>\n",
       "      <th>...</th>\n",
       "      <th>...</th>\n",
       "      <td>...</td>\n",
       "    </tr>\n",
       "    <tr>\n",
       "      <th rowspan=\"2\" valign=\"top\">2024-07-05</th>\n",
       "      <th>Equity(199623 [IBM])</th>\n",
       "      <td>175.73</td>\n",
       "    </tr>\n",
       "    <tr>\n",
       "      <th>Equity(199713 [F])</th>\n",
       "      <td>12.87</td>\n",
       "    </tr>\n",
       "    <tr>\n",
       "      <th rowspan=\"3\" valign=\"top\">2024-07-08</th>\n",
       "      <th>Equity(199059 [AAPL])</th>\n",
       "      <td>226.34</td>\n",
       "    </tr>\n",
       "    <tr>\n",
       "      <th>Equity(199623 [IBM])</th>\n",
       "      <td>176.02</td>\n",
       "    </tr>\n",
       "    <tr>\n",
       "      <th>Equity(199713 [F])</th>\n",
       "      <td>12.84</td>\n",
       "    </tr>\n",
       "  </tbody>\n",
       "</table>\n",
       "<p>381 rows × 1 columns</p>\n",
       "</div>"
      ],
      "text/plain": [
       "                                   Close\n",
       "2024-01-04 Equity(199059 [AAPL])  184.25\n",
       "           Equity(199623 [IBM])   160.10\n",
       "           Equity(199713 [F])      11.71\n",
       "2024-01-05 Equity(199059 [AAPL])  181.91\n",
       "           Equity(199623 [IBM])   160.86\n",
       "...                                  ...\n",
       "2024-07-05 Equity(199623 [IBM])   175.73\n",
       "           Equity(199713 [F])      12.87\n",
       "2024-07-08 Equity(199059 [AAPL])  226.34\n",
       "           Equity(199623 [IBM])   176.02\n",
       "           Equity(199713 [F])      12.84\n",
       "\n",
       "[381 rows x 1 columns]"
      ]
     },
     "execution_count": 55,
     "metadata": {},
     "output_type": "execute_result"
    }
   ],
   "source": [
    "pipe_start = pd.to_datetime('2024-01-04', utc=False)\n",
    "pipe_end = pd.to_datetime('2024-07-08', utc=False)\n",
    "\n",
    "\n",
    "pipe = Pipeline(columns={\n",
    "    'Close': USEquityPricing.close.latest,\n",
    "},\n",
    "screen = StaticAssets(symbols(['IBM', 'F', 'AAPL']))\n",
    ")\n",
    "\n",
    "stocks = spe.run_pipeline(pipe, pipe_start, pipe_end)\n",
    "stocks"
   ]
  },
  {
   "cell_type": "code",
   "execution_count": 56,
   "metadata": {},
   "outputs": [
    {
     "name": "stdout",
     "output_type": "stream",
     "text": [
      "[2024-08-12 21:17:14] INFO: Load root mask file: root-2024-01-04_2024-06-26_XNYS_US_0.pkl\n",
      "[2024-08-12 21:17:14] INFO: load term-2024-01-04_2024-06-26_screen_e109df46cd4d4382891e20a55622a9db_screen_e109df46cd4d4382891e20a55622a9db.npy from cache\n",
      "Pipeline from 2024-01-04 to 2024-06-26\n",
      "[2024-08-12 21:17:14] INFO: save term-2024-01-04_2024-06-26_screen_e109df46cd4d4382891e20a55622a9db_mkt_cap.npy to cache\n",
      "[2024-08-12 21:17:14] INFO: Load root mask file: root-2024-06-27_2024-07-08_XNYS_US_0.pkl\n",
      "[2024-08-12 21:17:14] INFO: load term-2024-06-27_2024-07-08_screen_e109df46cd4d4382891e20a55622a9db_screen_e109df46cd4d4382891e20a55622a9db.npy from cache\n",
      "Pipeline from 2024-06-27 to 2024-07-08\n",
      "[2024-08-12 21:17:14] INFO: save term-2024-06-27_2024-07-08_screen_e109df46cd4d4382891e20a55622a9db_mkt_cap.npy to cache\n",
      "[2024-08-12 21:17:14] INFO: Pipeline from 2024-06-27 to 2024-07-08 completed in 0:00:00.\n",
      "CPU times: user 149 ms, sys: 12.2 ms, total: 161 ms\n",
      "Wall time: 163 ms\n"
     ]
    },
    {
     "data": {
      "text/plain": [
       "(381, 1)"
      ]
     },
     "execution_count": 56,
     "metadata": {},
     "output_type": "execute_result"
    }
   ],
   "source": [
    "%%time\n",
    "pipe_mkt_cap = Pipeline(columns={\n",
    "    'mkt_cap': MarketCap()\n",
    "},\n",
    ")\n",
    "\n",
    "start_time = time.time()\n",
    "stocks = spe.run_pipeline(pipe_mkt_cap, pipe_start, pipe_end)\n",
    "stocks.shape"
   ]
  },
  {
   "cell_type": "code",
   "execution_count": 57,
   "metadata": {},
   "outputs": [
    {
     "name": "stdout",
     "output_type": "stream",
     "text": [
      "[2024-08-12 21:17:14] INFO: Load root mask file: root-2024-01-04_2024-06-26_XNYS_US_0.pkl\n",
      "[2024-08-12 21:17:14] INFO: load term-2024-01-04_2024-06-26_screen_e109df46cd4d4382891e20a55622a9db_mkt_cap.npy from cache\n",
      "[2024-08-12 21:17:14] INFO: load term-2024-01-04_2024-06-26_screen_e109df46cd4d4382891e20a55622a9db_screen_e109df46cd4d4382891e20a55622a9db.npy from cache\n",
      "Pipeline from 2024-01-04 to 2024-06-26\n",
      "[2024-08-12 21:17:46] INFO: save term-2024-01-04_2024-06-26_screen_e109df46cd4d4382891e20a55622a9db_ev.npy to cache\n",
      "[2024-08-12 21:17:46] INFO: save term-2024-01-04_2024-06-26_screen_e109df46cd4d4382891e20a55622a9db_debt.npy to cache\n",
      "[2024-08-12 21:17:46] INFO: save term-2024-01-04_2024-06-26_screen_e109df46cd4d4382891e20a55622a9db_cash.npy to cache\n",
      "[2024-08-12 21:17:46] INFO: Load root mask file: root-2024-06-27_2024-07-08_XNYS_US_0.pkl\n",
      "[2024-08-12 21:17:46] INFO: load term-2024-06-27_2024-07-08_screen_e109df46cd4d4382891e20a55622a9db_mkt_cap.npy from cache\n",
      "[2024-08-12 21:17:46] INFO: load term-2024-06-27_2024-07-08_screen_e109df46cd4d4382891e20a55622a9db_screen_e109df46cd4d4382891e20a55622a9db.npy from cache\n",
      "Pipeline from 2024-06-27 to 2024-07-08\n",
      "[2024-08-12 21:17:57] INFO: save term-2024-06-27_2024-07-08_screen_e109df46cd4d4382891e20a55622a9db_ev.npy to cache\n",
      "[2024-08-12 21:17:57] INFO: save term-2024-06-27_2024-07-08_screen_e109df46cd4d4382891e20a55622a9db_debt.npy to cache\n",
      "[2024-08-12 21:17:57] INFO: save term-2024-06-27_2024-07-08_screen_e109df46cd4d4382891e20a55622a9db_cash.npy to cache\n",
      "[2024-08-12 21:17:57] INFO: Pipeline from 2024-06-27 to 2024-07-08 completed in 0:00:42.\n",
      "CPU times: user 13.8 s, sys: 9.53 s, total: 23.3 s\n",
      "Wall time: 43 s\n"
     ]
    },
    {
     "data": {
      "text/html": [
       "<div>\n",
       "<style scoped>\n",
       "    .dataframe tbody tr th:only-of-type {\n",
       "        vertical-align: middle;\n",
       "    }\n",
       "\n",
       "    .dataframe tbody tr th {\n",
       "        vertical-align: top;\n",
       "    }\n",
       "\n",
       "    .dataframe thead th {\n",
       "        text-align: right;\n",
       "    }\n",
       "</style>\n",
       "<table border=\"1\" class=\"dataframe\">\n",
       "  <thead>\n",
       "    <tr style=\"text-align: right;\">\n",
       "      <th></th>\n",
       "      <th></th>\n",
       "      <th>mkt_cap</th>\n",
       "      <th>ev</th>\n",
       "      <th>debt</th>\n",
       "      <th>cash</th>\n",
       "    </tr>\n",
       "  </thead>\n",
       "  <tbody>\n",
       "    <tr>\n",
       "      <th rowspan=\"3\" valign=\"top\">2024-01-04</th>\n",
       "      <th>Equity(199059 [AAPL])</th>\n",
       "      <td>2.829201e+12</td>\n",
       "      <td>2.910324e+12</td>\n",
       "      <td>1.110880e+11</td>\n",
       "      <td>2.996500e+10</td>\n",
       "    </tr>\n",
       "    <tr>\n",
       "      <th>Equity(199623 [IBM])</th>\n",
       "      <td>1.468843e+11</td>\n",
       "      <td>1.981333e+11</td>\n",
       "      <td>5.852500e+10</td>\n",
       "      <td>7.276000e+09</td>\n",
       "    </tr>\n",
       "    <tr>\n",
       "      <th>Equity(199713 [F])</th>\n",
       "      <td>4.675450e+10</td>\n",
       "      <td>1.629895e+11</td>\n",
       "      <td>1.426620e+11</td>\n",
       "      <td>2.642700e+10</td>\n",
       "    </tr>\n",
       "    <tr>\n",
       "      <th rowspan=\"2\" valign=\"top\">2024-01-05</th>\n",
       "      <th>Equity(199059 [AAPL])</th>\n",
       "      <td>2.817848e+12</td>\n",
       "      <td>2.898971e+12</td>\n",
       "      <td>1.110880e+11</td>\n",
       "      <td>2.996500e+10</td>\n",
       "    </tr>\n",
       "    <tr>\n",
       "      <th>Equity(199623 [IBM])</th>\n",
       "      <td>1.453320e+11</td>\n",
       "      <td>1.965810e+11</td>\n",
       "      <td>5.852500e+10</td>\n",
       "      <td>7.276000e+09</td>\n",
       "    </tr>\n",
       "    <tr>\n",
       "      <th>...</th>\n",
       "      <th>...</th>\n",
       "      <td>...</td>\n",
       "      <td>...</td>\n",
       "      <td>...</td>\n",
       "      <td>...</td>\n",
       "    </tr>\n",
       "    <tr>\n",
       "      <th rowspan=\"2\" valign=\"top\">2024-07-05</th>\n",
       "      <th>Equity(199623 [IBM])</th>\n",
       "      <td>1.616924e+11</td>\n",
       "      <td>2.097984e+11</td>\n",
       "      <td>6.287100e+10</td>\n",
       "      <td>1.476500e+10</td>\n",
       "    </tr>\n",
       "    <tr>\n",
       "      <th>Equity(199713 [F])</th>\n",
       "      <td>5.126160e+10</td>\n",
       "      <td>1.809556e+11</td>\n",
       "      <td>1.494150e+11</td>\n",
       "      <td>1.972100e+10</td>\n",
       "    </tr>\n",
       "    <tr>\n",
       "      <th rowspan=\"3\" valign=\"top\">2024-07-08</th>\n",
       "      <th>Equity(199059 [AAPL])</th>\n",
       "      <td>3.493411e+12</td>\n",
       "      <td>3.565306e+12</td>\n",
       "      <td>1.045900e+11</td>\n",
       "      <td>3.269500e+10</td>\n",
       "    </tr>\n",
       "    <tr>\n",
       "      <th>Equity(199623 [IBM])</th>\n",
       "      <td>1.631806e+11</td>\n",
       "      <td>2.112866e+11</td>\n",
       "      <td>6.287100e+10</td>\n",
       "      <td>1.476500e+10</td>\n",
       "    </tr>\n",
       "    <tr>\n",
       "      <th>Equity(199713 [F])</th>\n",
       "      <td>5.182050e+10</td>\n",
       "      <td>1.815145e+11</td>\n",
       "      <td>1.494150e+11</td>\n",
       "      <td>1.972100e+10</td>\n",
       "    </tr>\n",
       "  </tbody>\n",
       "</table>\n",
       "<p>381 rows × 4 columns</p>\n",
       "</div>"
      ],
      "text/plain": [
       "                                       mkt_cap            ev          debt  \\\n",
       "2024-01-04 Equity(199059 [AAPL])  2.829201e+12  2.910324e+12  1.110880e+11   \n",
       "           Equity(199623 [IBM])   1.468843e+11  1.981333e+11  5.852500e+10   \n",
       "           Equity(199713 [F])     4.675450e+10  1.629895e+11  1.426620e+11   \n",
       "2024-01-05 Equity(199059 [AAPL])  2.817848e+12  2.898971e+12  1.110880e+11   \n",
       "           Equity(199623 [IBM])   1.453320e+11  1.965810e+11  5.852500e+10   \n",
       "...                                        ...           ...           ...   \n",
       "2024-07-05 Equity(199623 [IBM])   1.616924e+11  2.097984e+11  6.287100e+10   \n",
       "           Equity(199713 [F])     5.126160e+10  1.809556e+11  1.494150e+11   \n",
       "2024-07-08 Equity(199059 [AAPL])  3.493411e+12  3.565306e+12  1.045900e+11   \n",
       "           Equity(199623 [IBM])   1.631806e+11  2.112866e+11  6.287100e+10   \n",
       "           Equity(199713 [F])     5.182050e+10  1.815145e+11  1.494150e+11   \n",
       "\n",
       "                                          cash  \n",
       "2024-01-04 Equity(199059 [AAPL])  2.996500e+10  \n",
       "           Equity(199623 [IBM])   7.276000e+09  \n",
       "           Equity(199713 [F])     2.642700e+10  \n",
       "2024-01-05 Equity(199059 [AAPL])  2.996500e+10  \n",
       "           Equity(199623 [IBM])   7.276000e+09  \n",
       "...                                        ...  \n",
       "2024-07-05 Equity(199623 [IBM])   1.476500e+10  \n",
       "           Equity(199713 [F])     1.972100e+10  \n",
       "2024-07-08 Equity(199059 [AAPL])  3.269500e+10  \n",
       "           Equity(199623 [IBM])   1.476500e+10  \n",
       "           Equity(199713 [F])     1.972100e+10  \n",
       "\n",
       "[381 rows x 4 columns]"
      ]
     },
     "execution_count": 57,
     "metadata": {},
     "output_type": "execute_result"
    }
   ],
   "source": [
    "%%time\n",
    "pipe_mkt_cap_ev = Pipeline(columns={\n",
    "    'mkt_cap': MarketCap(),\n",
    "    'ev': EV(),\n",
    "    'debt': Fundamentals(field='debtusd_arq'),\n",
    "    'cash': Fundamentals(field='cashnequsd_arq')\n",
    "},\n",
    "screen = StaticAssets(symbols(['IBM', 'F', 'AAPL']))\n",
    ")\n",
    "\n",
    "stocks = spe.run_pipeline(pipe_mkt_cap_ev, pipe_start, pipe_end)\n",
    "stocks"
   ]
  },
  {
   "cell_type": "code",
   "execution_count": 58,
   "metadata": {},
   "outputs": [
    {
     "name": "stdout",
     "output_type": "stream",
     "text": [
      "[2024-08-12 21:17:57] INFO: Load root mask file: root-2024-01-04_2024-06-26_XNYS_US_0.pkl\n",
      "[2024-08-12 21:17:57] INFO: load term-2024-01-04_2024-06-26_screen_e109df46cd4d4382891e20a55622a9db_mkt_cap.npy from cache\n",
      "[2024-08-12 21:17:57] INFO: load term-2024-01-04_2024-06-26_screen_e109df46cd4d4382891e20a55622a9db_ev.npy from cache\n",
      "[2024-08-12 21:17:57] INFO: load term-2024-01-04_2024-06-26_screen_e109df46cd4d4382891e20a55622a9db_debt.npy from cache\n",
      "[2024-08-12 21:17:57] INFO: load term-2024-01-04_2024-06-26_screen_e109df46cd4d4382891e20a55622a9db_cash.npy from cache\n",
      "[2024-08-12 21:17:57] INFO: load term-2024-01-04_2024-06-26_screen_e109df46cd4d4382891e20a55622a9db_screen_e109df46cd4d4382891e20a55622a9db.npy from cache\n",
      "[2024-08-12 21:17:57] INFO: Load root mask file: root-2024-06-27_2024-07-08_XNYS_US_0.pkl\n",
      "[2024-08-12 21:17:57] INFO: load term-2024-06-27_2024-07-08_screen_e109df46cd4d4382891e20a55622a9db_mkt_cap.npy from cache\n",
      "[2024-08-12 21:17:57] INFO: load term-2024-06-27_2024-07-08_screen_e109df46cd4d4382891e20a55622a9db_ev.npy from cache\n",
      "[2024-08-12 21:17:57] INFO: load term-2024-06-27_2024-07-08_screen_e109df46cd4d4382891e20a55622a9db_debt.npy from cache\n",
      "[2024-08-12 21:17:57] INFO: load term-2024-06-27_2024-07-08_screen_e109df46cd4d4382891e20a55622a9db_cash.npy from cache\n",
      "[2024-08-12 21:17:57] INFO: load term-2024-06-27_2024-07-08_screen_e109df46cd4d4382891e20a55622a9db_screen_e109df46cd4d4382891e20a55622a9db.npy from cache\n",
      "[2024-08-12 21:17:57] INFO: Pipeline from 2024-06-27 to 2024-07-08 completed in 0:00:00.\n",
      "CPU times: user 450 ms, sys: 18 ms, total: 468 ms\n",
      "Wall time: 479 ms\n"
     ]
    },
    {
     "data": {
      "text/html": [
       "<div>\n",
       "<style scoped>\n",
       "    .dataframe tbody tr th:only-of-type {\n",
       "        vertical-align: middle;\n",
       "    }\n",
       "\n",
       "    .dataframe tbody tr th {\n",
       "        vertical-align: top;\n",
       "    }\n",
       "\n",
       "    .dataframe thead th {\n",
       "        text-align: right;\n",
       "    }\n",
       "</style>\n",
       "<table border=\"1\" class=\"dataframe\">\n",
       "  <thead>\n",
       "    <tr style=\"text-align: right;\">\n",
       "      <th></th>\n",
       "      <th></th>\n",
       "      <th>mkt_cap</th>\n",
       "      <th>ev</th>\n",
       "      <th>debt</th>\n",
       "      <th>cash</th>\n",
       "    </tr>\n",
       "  </thead>\n",
       "  <tbody>\n",
       "    <tr>\n",
       "      <th rowspan=\"3\" valign=\"top\">2024-01-04</th>\n",
       "      <th>Equity(199059 [AAPL])</th>\n",
       "      <td>2.829201e+12</td>\n",
       "      <td>2.910324e+12</td>\n",
       "      <td>1.110880e+11</td>\n",
       "      <td>2.996500e+10</td>\n",
       "    </tr>\n",
       "    <tr>\n",
       "      <th>Equity(199623 [IBM])</th>\n",
       "      <td>1.468843e+11</td>\n",
       "      <td>1.981333e+11</td>\n",
       "      <td>5.852500e+10</td>\n",
       "      <td>7.276000e+09</td>\n",
       "    </tr>\n",
       "    <tr>\n",
       "      <th>Equity(199713 [F])</th>\n",
       "      <td>4.675450e+10</td>\n",
       "      <td>1.629895e+11</td>\n",
       "      <td>1.426620e+11</td>\n",
       "      <td>2.642700e+10</td>\n",
       "    </tr>\n",
       "    <tr>\n",
       "      <th rowspan=\"2\" valign=\"top\">2024-01-05</th>\n",
       "      <th>Equity(199059 [AAPL])</th>\n",
       "      <td>2.817848e+12</td>\n",
       "      <td>2.898971e+12</td>\n",
       "      <td>1.110880e+11</td>\n",
       "      <td>2.996500e+10</td>\n",
       "    </tr>\n",
       "    <tr>\n",
       "      <th>Equity(199623 [IBM])</th>\n",
       "      <td>1.453320e+11</td>\n",
       "      <td>1.965810e+11</td>\n",
       "      <td>5.852500e+10</td>\n",
       "      <td>7.276000e+09</td>\n",
       "    </tr>\n",
       "    <tr>\n",
       "      <th>...</th>\n",
       "      <th>...</th>\n",
       "      <td>...</td>\n",
       "      <td>...</td>\n",
       "      <td>...</td>\n",
       "      <td>...</td>\n",
       "    </tr>\n",
       "    <tr>\n",
       "      <th rowspan=\"2\" valign=\"top\">2024-07-05</th>\n",
       "      <th>Equity(199623 [IBM])</th>\n",
       "      <td>1.616924e+11</td>\n",
       "      <td>2.097984e+11</td>\n",
       "      <td>6.287100e+10</td>\n",
       "      <td>1.476500e+10</td>\n",
       "    </tr>\n",
       "    <tr>\n",
       "      <th>Equity(199713 [F])</th>\n",
       "      <td>5.126160e+10</td>\n",
       "      <td>1.809556e+11</td>\n",
       "      <td>1.494150e+11</td>\n",
       "      <td>1.972100e+10</td>\n",
       "    </tr>\n",
       "    <tr>\n",
       "      <th rowspan=\"3\" valign=\"top\">2024-07-08</th>\n",
       "      <th>Equity(199059 [AAPL])</th>\n",
       "      <td>3.493411e+12</td>\n",
       "      <td>3.565306e+12</td>\n",
       "      <td>1.045900e+11</td>\n",
       "      <td>3.269500e+10</td>\n",
       "    </tr>\n",
       "    <tr>\n",
       "      <th>Equity(199623 [IBM])</th>\n",
       "      <td>1.631806e+11</td>\n",
       "      <td>2.112866e+11</td>\n",
       "      <td>6.287100e+10</td>\n",
       "      <td>1.476500e+10</td>\n",
       "    </tr>\n",
       "    <tr>\n",
       "      <th>Equity(199713 [F])</th>\n",
       "      <td>5.182050e+10</td>\n",
       "      <td>1.815145e+11</td>\n",
       "      <td>1.494150e+11</td>\n",
       "      <td>1.972100e+10</td>\n",
       "    </tr>\n",
       "  </tbody>\n",
       "</table>\n",
       "<p>381 rows × 4 columns</p>\n",
       "</div>"
      ],
      "text/plain": [
       "                                       mkt_cap            ev          debt  \\\n",
       "2024-01-04 Equity(199059 [AAPL])  2.829201e+12  2.910324e+12  1.110880e+11   \n",
       "           Equity(199623 [IBM])   1.468843e+11  1.981333e+11  5.852500e+10   \n",
       "           Equity(199713 [F])     4.675450e+10  1.629895e+11  1.426620e+11   \n",
       "2024-01-05 Equity(199059 [AAPL])  2.817848e+12  2.898971e+12  1.110880e+11   \n",
       "           Equity(199623 [IBM])   1.453320e+11  1.965810e+11  5.852500e+10   \n",
       "...                                        ...           ...           ...   \n",
       "2024-07-05 Equity(199623 [IBM])   1.616924e+11  2.097984e+11  6.287100e+10   \n",
       "           Equity(199713 [F])     5.126160e+10  1.809556e+11  1.494150e+11   \n",
       "2024-07-08 Equity(199059 [AAPL])  3.493411e+12  3.565306e+12  1.045900e+11   \n",
       "           Equity(199623 [IBM])   1.631806e+11  2.112866e+11  6.287100e+10   \n",
       "           Equity(199713 [F])     5.182050e+10  1.815145e+11  1.494150e+11   \n",
       "\n",
       "                                          cash  \n",
       "2024-01-04 Equity(199059 [AAPL])  2.996500e+10  \n",
       "           Equity(199623 [IBM])   7.276000e+09  \n",
       "           Equity(199713 [F])     2.642700e+10  \n",
       "2024-01-05 Equity(199059 [AAPL])  2.996500e+10  \n",
       "           Equity(199623 [IBM])   7.276000e+09  \n",
       "...                                        ...  \n",
       "2024-07-05 Equity(199623 [IBM])   1.476500e+10  \n",
       "           Equity(199713 [F])     1.972100e+10  \n",
       "2024-07-08 Equity(199059 [AAPL])  3.269500e+10  \n",
       "           Equity(199623 [IBM])   1.476500e+10  \n",
       "           Equity(199713 [F])     1.972100e+10  \n",
       "\n",
       "[381 rows x 4 columns]"
      ]
     },
     "execution_count": 58,
     "metadata": {},
     "output_type": "execute_result"
    }
   ],
   "source": [
    "%%time\n",
    "pipe = Pipeline(columns={\n",
    "    'mkt_cap': MarketCap(),\n",
    "    'ev': EV(),\n",
    "    'debt': Fundamentals(field='debtusd_arq'),\n",
    "    'cash': Fundamentals(field='cashnequsd_arq')\n",
    "},\n",
    "screen = StaticAssets(symbols(['IBM', 'F', 'AAPL']))\n",
    ")\n",
    "\n",
    "stocks = spe.run_pipeline(pipe, pipe_start, pipe_end)\n",
    "stocks"
   ]
  },
  {
   "cell_type": "code",
   "execution_count": 59,
   "metadata": {},
   "outputs": [
    {
     "name": "stdout",
     "output_type": "stream",
     "text": [
      "[2024-08-12 21:17:57] INFO: Save root mask file: root-2024-01-04_2024-01-04_XNYS_US_0.pkl\n",
      "Pipeline from 2024-01-04 to 2024-01-04\n",
      "[2024-08-12 21:18:03] INFO: save term-2024-01-04_2024-01-04_screen_e109df46cd4d4382891e20a55622a9db_mkt_cap.npy to cache\n",
      "[2024-08-12 21:18:03] INFO: save term-2024-01-04_2024-01-04_screen_e109df46cd4d4382891e20a55622a9db_ev.npy to cache\n",
      "[2024-08-12 21:18:03] INFO: save term-2024-01-04_2024-01-04_screen_e109df46cd4d4382891e20a55622a9db_debt.npy to cache\n",
      "[2024-08-12 21:18:03] INFO: save term-2024-01-04_2024-01-04_screen_e109df46cd4d4382891e20a55622a9db_cash.npy to cache\n",
      "[2024-08-12 21:18:03] INFO: save term-2024-01-04_2024-01-04_screen_e109df46cd4d4382891e20a55622a9db_screen_e109df46cd4d4382891e20a55622a9db.npy to cache\n",
      "[2024-08-12 21:18:03] INFO: Pipeline from 2024-01-04 to 2024-01-04 completed in 0:00:05.\n"
     ]
    },
    {
     "data": {
      "text/html": [
       "<div>\n",
       "<style scoped>\n",
       "    .dataframe tbody tr th:only-of-type {\n",
       "        vertical-align: middle;\n",
       "    }\n",
       "\n",
       "    .dataframe tbody tr th {\n",
       "        vertical-align: top;\n",
       "    }\n",
       "\n",
       "    .dataframe thead th {\n",
       "        text-align: right;\n",
       "    }\n",
       "</style>\n",
       "<table border=\"1\" class=\"dataframe\">\n",
       "  <thead>\n",
       "    <tr style=\"text-align: right;\">\n",
       "      <th></th>\n",
       "      <th></th>\n",
       "      <th>mkt_cap</th>\n",
       "      <th>ev</th>\n",
       "      <th>debt</th>\n",
       "      <th>cash</th>\n",
       "    </tr>\n",
       "  </thead>\n",
       "  <tbody>\n",
       "    <tr>\n",
       "      <th rowspan=\"3\" valign=\"top\">2024-01-04</th>\n",
       "      <th>Equity(199059 [AAPL])</th>\n",
       "      <td>2.829201e+12</td>\n",
       "      <td>2.910324e+12</td>\n",
       "      <td>1.110880e+11</td>\n",
       "      <td>2.996500e+10</td>\n",
       "    </tr>\n",
       "    <tr>\n",
       "      <th>Equity(199623 [IBM])</th>\n",
       "      <td>1.468843e+11</td>\n",
       "      <td>1.981333e+11</td>\n",
       "      <td>5.852500e+10</td>\n",
       "      <td>7.276000e+09</td>\n",
       "    </tr>\n",
       "    <tr>\n",
       "      <th>Equity(199713 [F])</th>\n",
       "      <td>4.675450e+10</td>\n",
       "      <td>1.629895e+11</td>\n",
       "      <td>1.426620e+11</td>\n",
       "      <td>2.642700e+10</td>\n",
       "    </tr>\n",
       "  </tbody>\n",
       "</table>\n",
       "</div>"
      ],
      "text/plain": [
       "                                       mkt_cap            ev          debt  \\\n",
       "2024-01-04 Equity(199059 [AAPL])  2.829201e+12  2.910324e+12  1.110880e+11   \n",
       "           Equity(199623 [IBM])   1.468843e+11  1.981333e+11  5.852500e+10   \n",
       "           Equity(199713 [F])     4.675450e+10  1.629895e+11  1.426620e+11   \n",
       "\n",
       "                                          cash  \n",
       "2024-01-04 Equity(199059 [AAPL])  2.996500e+10  \n",
       "           Equity(199623 [IBM])   7.276000e+09  \n",
       "           Equity(199713 [F])     2.642700e+10  "
      ]
     },
     "execution_count": 59,
     "metadata": {},
     "output_type": "execute_result"
    }
   ],
   "source": [
    "stocks = spe.run_pipeline(pipe, pipe_start)\n",
    "stocks"
   ]
  },
  {
   "cell_type": "code",
   "execution_count": null,
   "metadata": {},
   "outputs": [],
   "source": []
  },
  {
   "cell_type": "code",
   "execution_count": null,
   "metadata": {},
   "outputs": [],
   "source": []
  },
  {
   "cell_type": "code",
   "execution_count": null,
   "metadata": {},
   "outputs": [],
   "source": []
  }
 ],
 "metadata": {
  "kernelspec": {
   "display_name": "Python 3 (ipykernel)",
   "language": "python",
   "name": "python3"
  },
  "language_info": {
   "codemirror_mode": {
    "name": "ipython",
    "version": 3
   },
   "file_extension": ".py",
   "mimetype": "text/x-python",
   "name": "python",
   "nbconvert_exporter": "python",
   "pygments_lexer": "ipython3",
   "version": "3.10.14"
  }
 },
 "nbformat": 4,
 "nbformat_minor": 4
}
