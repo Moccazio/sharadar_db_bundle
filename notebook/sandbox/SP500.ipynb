{
 "cells": [
  {
   "cell_type": "code",
   "execution_count": 2,
   "metadata": {},
   "outputs": [],
   "source": [
    "import quandl\n",
    "from os import environ as env\n",
    "\n",
    "quandl.ApiConfig.api_key = env[\"QUANDL_API_KEY\"]"
   ]
  },
  {
   "cell_type": "code",
   "execution_count": 12,
   "metadata": {},
   "outputs": [
    {
     "data": {
      "text/html": [
       "<div>\n",
       "<style scoped>\n",
       "    .dataframe tbody tr th:only-of-type {\n",
       "        vertical-align: middle;\n",
       "    }\n",
       "\n",
       "    .dataframe tbody tr th {\n",
       "        vertical-align: top;\n",
       "    }\n",
       "\n",
       "    .dataframe thead th {\n",
       "        text-align: right;\n",
       "    }\n",
       "</style>\n",
       "<table border=\"1\" class=\"dataframe\">\n",
       "  <thead>\n",
       "    <tr style=\"text-align: right;\">\n",
       "      <th></th>\n",
       "      <th>date</th>\n",
       "      <th>action</th>\n",
       "      <th>ticker</th>\n",
       "      <th>name</th>\n",
       "      <th>contraticker</th>\n",
       "      <th>contraname</th>\n",
       "      <th>note</th>\n",
       "    </tr>\n",
       "    <tr>\n",
       "      <th>None</th>\n",
       "      <th></th>\n",
       "      <th></th>\n",
       "      <th></th>\n",
       "      <th></th>\n",
       "      <th></th>\n",
       "      <th></th>\n",
       "      <th></th>\n",
       "    </tr>\n",
       "  </thead>\n",
       "  <tbody>\n",
       "    <tr>\n",
       "      <th>0</th>\n",
       "      <td>2020-06-06</td>\n",
       "      <td>current</td>\n",
       "      <td>ZTS</td>\n",
       "      <td>Zoetis Inc</td>\n",
       "      <td>N/A</td>\n",
       "      <td>N/A</td>\n",
       "      <td>None</td>\n",
       "    </tr>\n",
       "    <tr>\n",
       "      <th>1</th>\n",
       "      <td>2020-06-06</td>\n",
       "      <td>current</td>\n",
       "      <td>ZION</td>\n",
       "      <td>Zions Bancorporation National Association</td>\n",
       "      <td>N/A</td>\n",
       "      <td>N/A</td>\n",
       "      <td>None</td>\n",
       "    </tr>\n",
       "    <tr>\n",
       "      <th>2</th>\n",
       "      <td>2020-06-06</td>\n",
       "      <td>current</td>\n",
       "      <td>ZBRA</td>\n",
       "      <td>Zebra Technologies Corp</td>\n",
       "      <td>N/A</td>\n",
       "      <td>N/A</td>\n",
       "      <td>None</td>\n",
       "    </tr>\n",
       "    <tr>\n",
       "      <th>3</th>\n",
       "      <td>2020-06-06</td>\n",
       "      <td>current</td>\n",
       "      <td>ZBH</td>\n",
       "      <td>Zimmer Biomet Holdings Inc</td>\n",
       "      <td>N/A</td>\n",
       "      <td>N/A</td>\n",
       "      <td>None</td>\n",
       "    </tr>\n",
       "    <tr>\n",
       "      <th>4</th>\n",
       "      <td>2020-06-06</td>\n",
       "      <td>current</td>\n",
       "      <td>YUM</td>\n",
       "      <td>Yum Brands Inc</td>\n",
       "      <td>N/A</td>\n",
       "      <td>N/A</td>\n",
       "      <td>None</td>\n",
       "    </tr>\n",
       "  </tbody>\n",
       "</table>\n",
       "</div>"
      ],
      "text/plain": [
       "           date   action ticker                                       name  \\\n",
       "None                                                                         \n",
       "0    2020-06-06  current    ZTS                                 Zoetis Inc   \n",
       "1    2020-06-06  current   ZION  Zions Bancorporation National Association   \n",
       "2    2020-06-06  current   ZBRA                    Zebra Technologies Corp   \n",
       "3    2020-06-06  current    ZBH                 Zimmer Biomet Holdings Inc   \n",
       "4    2020-06-06  current    YUM                             Yum Brands Inc   \n",
       "\n",
       "     contraticker contraname  note  \n",
       "None                                \n",
       "0             N/A        N/A  None  \n",
       "1             N/A        N/A  None  \n",
       "2             N/A        N/A  None  \n",
       "3             N/A        N/A  None  \n",
       "4             N/A        N/A  None  "
      ]
     },
     "execution_count": 12,
     "metadata": {},
     "output_type": "execute_result"
    }
   ],
   "source": [
    "quandl.get_table('SHARADAR/SP500', action='current').head()"
   ]
  },
  {
   "cell_type": "code",
   "execution_count": 13,
   "metadata": {},
   "outputs": [
    {
     "data": {
      "text/html": [
       "<div>\n",
       "<style scoped>\n",
       "    .dataframe tbody tr th:only-of-type {\n",
       "        vertical-align: middle;\n",
       "    }\n",
       "\n",
       "    .dataframe tbody tr th {\n",
       "        vertical-align: top;\n",
       "    }\n",
       "\n",
       "    .dataframe thead th {\n",
       "        text-align: right;\n",
       "    }\n",
       "</style>\n",
       "<table border=\"1\" class=\"dataframe\">\n",
       "  <thead>\n",
       "    <tr style=\"text-align: right;\">\n",
       "      <th></th>\n",
       "      <th>date</th>\n",
       "      <th>action</th>\n",
       "      <th>ticker</th>\n",
       "      <th>name</th>\n",
       "      <th>contraticker</th>\n",
       "      <th>contraname</th>\n",
       "      <th>note</th>\n",
       "    </tr>\n",
       "    <tr>\n",
       "      <th>None</th>\n",
       "      <th></th>\n",
       "      <th></th>\n",
       "      <th></th>\n",
       "      <th></th>\n",
       "      <th></th>\n",
       "      <th></th>\n",
       "      <th></th>\n",
       "    </tr>\n",
       "  </thead>\n",
       "  <tbody>\n",
       "    <tr>\n",
       "      <th>0</th>\n",
       "      <td>2020-05-22</td>\n",
       "      <td>added</td>\n",
       "      <td>WST</td>\n",
       "      <td>West Pharmaceutical Services Inc</td>\n",
       "      <td>HP</td>\n",
       "      <td>Helmerich &amp; Payne Inc</td>\n",
       "      <td>None</td>\n",
       "    </tr>\n",
       "    <tr>\n",
       "      <th>1</th>\n",
       "      <td>2020-05-22</td>\n",
       "      <td>removed</td>\n",
       "      <td>HP</td>\n",
       "      <td>Helmerich &amp; Payne Inc</td>\n",
       "      <td>WST</td>\n",
       "      <td>West Pharmaceutical Services Inc</td>\n",
       "      <td>None</td>\n",
       "    </tr>\n",
       "    <tr>\n",
       "      <th>2</th>\n",
       "      <td>2020-05-12</td>\n",
       "      <td>added</td>\n",
       "      <td>DXCM</td>\n",
       "      <td>Dexcom Inc</td>\n",
       "      <td>AGN</td>\n",
       "      <td>Allergan plc</td>\n",
       "      <td>None</td>\n",
       "    </tr>\n",
       "    <tr>\n",
       "      <th>3</th>\n",
       "      <td>2020-05-12</td>\n",
       "      <td>added</td>\n",
       "      <td>DPZ</td>\n",
       "      <td>Dominos Pizza Inc</td>\n",
       "      <td>CPRI</td>\n",
       "      <td>Capri Holdings Ltd</td>\n",
       "      <td>None</td>\n",
       "    </tr>\n",
       "    <tr>\n",
       "      <th>4</th>\n",
       "      <td>2020-05-12</td>\n",
       "      <td>removed</td>\n",
       "      <td>CPRI</td>\n",
       "      <td>Capri Holdings Ltd</td>\n",
       "      <td>DPZ</td>\n",
       "      <td>Dominos Pizza Inc</td>\n",
       "      <td>None</td>\n",
       "    </tr>\n",
       "  </tbody>\n",
       "</table>\n",
       "</div>"
      ],
      "text/plain": [
       "           date   action ticker                              name  \\\n",
       "None                                                                \n",
       "0    2020-05-22    added    WST  West Pharmaceutical Services Inc   \n",
       "1    2020-05-22  removed     HP             Helmerich & Payne Inc   \n",
       "2    2020-05-12    added   DXCM                        Dexcom Inc   \n",
       "3    2020-05-12    added    DPZ                 Dominos Pizza Inc   \n",
       "4    2020-05-12  removed   CPRI                Capri Holdings Ltd   \n",
       "\n",
       "     contraticker                        contraname  note  \n",
       "None                                                       \n",
       "0              HP             Helmerich & Payne Inc  None  \n",
       "1             WST  West Pharmaceutical Services Inc  None  \n",
       "2             AGN                      Allergan plc  None  \n",
       "3            CPRI                Capri Holdings Ltd  None  \n",
       "4             DPZ                 Dominos Pizza Inc  None  "
      ]
     },
     "execution_count": 13,
     "metadata": {},
     "output_type": "execute_result"
    }
   ],
   "source": [
    "quandl.get_table('SHARADAR/SP500', action=['added','removed'], date={'gte':'2018-01-01'}).head()"
   ]
  },
  {
   "cell_type": "code",
   "execution_count": 14,
   "metadata": {},
   "outputs": [],
   "source": [
    "data = quandl.get_table(\"SHARADAR/SP500\", paginate=True)"
   ]
  },
  {
   "cell_type": "code",
   "execution_count": 19,
   "metadata": {},
   "outputs": [
    {
     "name": "stderr",
     "output_type": "stream",
     "text": [
      "/home/costantino/zipline/lib64/python3.6/site-packages/ipykernel_launcher.py:2: DeprecationWarning: The security_name property will soon be retired. Please use the asset_name property instead.\n",
      "  \n"
     ]
    },
    {
     "data": {
      "text/plain": [
       "'Dexcom Inc'"
      ]
     },
     "execution_count": 19,
     "metadata": {},
     "output_type": "execute_result"
    }
   ],
   "source": [
    "from sharadar.pipeline.engine import symbol\n",
    "symbol('DXCM').security_name"
   ]
  }
 ],
 "metadata": {
  "kernelspec": {
   "display_name": "Python 3",
   "language": "python",
   "name": "python3"
  },
  "language_info": {
   "codemirror_mode": {
    "name": "ipython",
    "version": 3
   },
   "file_extension": ".py",
   "mimetype": "text/x-python",
   "name": "python",
   "nbconvert_exporter": "python",
   "pygments_lexer": "ipython3",
   "version": "3.6.10"
  }
 },
 "nbformat": 4,
 "nbformat_minor": 2
}
