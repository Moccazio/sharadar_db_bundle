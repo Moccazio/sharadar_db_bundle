{
 "cells": [
  {
   "cell_type": "code",
   "execution_count": 1,
   "metadata": {},
   "outputs": [],
   "source": [
    "import pandas as pd\n",
    "from zipline.pipeline import Pipeline\n",
    "from zipline.pipeline.data import USEquityPricing\n",
    "from sharadar.pipeline.factors import (\n",
    "    MarketCap,\n",
    "    EV,\n",
    "    Fundamentals\n",
    ")\n",
    "from sharadar.pipeline.engine import load_sharadar_bundle, symbol, symbols, make_pipeline_engine\n",
    "from zipline.pipeline.filters import StaticAssets\n",
    "import time\n",
    "import datetime\n",
    "import math\n",
    "from zipline.utils.calendars import get_calendar\n",
    "from pandas.tseries.offsets import DateOffset\n",
    "import numpy as np\n",
    "from zipline.pipeline.factors import CustomFactor, Returns\n",
    "from sharadar.pipeline.engine import WithAssetFinder\n"
   ]
  },
  {
   "cell_type": "markdown",
   "metadata": {},
   "source": [
    "    Load benchmark returns and treasury yield curves for the given calendar and\n",
    "    benchmark symbol.\n",
    "\n",
    "    Benchmarks are downloaded as a Series from IEX Trading.  Treasury curves\n",
    "    are US Treasury Bond rates and are downloaded from 'www.federalreserve.gov'\n",
    "    by default.  For Canadian exchanges, a loader for Canadian bonds from the\n",
    "    Bank of Canada is also available.\n",
    "\n",
    "    Results downloaded from the internet are cached in\n",
    "    ~/.zipline/data. Subsequent loads will attempt to read from the cached\n",
    "    files before falling back to redownload.\n",
    "\n",
    "    Parameters\n",
    "    ----------\n",
    "    trading_day : pandas.CustomBusinessDay, optional\n",
    "        A trading_day used to determine the latest day for which we\n",
    "        expect to have data.  Defaults to an NYSE trading day.\n",
    "    trading_days : pd.DatetimeIndex, optional\n",
    "        A calendar of trading days.  Also used for determining what cached\n",
    "        dates we should expect to have cached. Defaults to the NYSE calendar.\n",
    "    bm_symbol : str, optional\n",
    "        Symbol for the benchmark index to load. Defaults to 'SPY', the ticker\n",
    "        for the S&P 500, provided by IEX Trading.\n",
    "\n",
    "    Returns\n",
    "    -------\n",
    "    (benchmark_returns, treasury_curves) : (pd.Series, pd.DataFrame)\n",
    "\n",
    "    Notes\n",
    "    -----\n",
    "\n",
    "    Both return values are DatetimeIndexed with values dated to midnight in UTC\n",
    "    of each stored date.  The columns of `treasury_curves` are:\n",
    "\n",
    "    '1month', '3month', '6month',\n",
    "    '1year','2year','3year','5year','7year','10year','20year','30year'"
   ]
  },
  {
   "cell_type": "code",
   "execution_count": 2,
   "metadata": {},
   "outputs": [],
   "source": [
    "bundle = load_sharadar_bundle()\n",
    "prices = bundle.equity_daily_bar_reader"
   ]
  },
  {
   "cell_type": "code",
   "execution_count": 3,
   "metadata": {},
   "outputs": [],
   "source": [
    "start_dt = pd.to_datetime('2020-06-01', utc=True)\n",
    "end_dt = pd.to_datetime('2020-06-05', utc=True)"
   ]
  },
  {
   "cell_type": "code",
   "execution_count": 4,
   "metadata": {},
   "outputs": [
    {
     "data": {
      "text/plain": [
       "{'sid': 118691,\n",
       " 'symbol': 'SPY',\n",
       " 'asset_name': 'Spdr S&P 500 Etf Trust',\n",
       " 'start_date': Timestamp('1993-01-29 00:00:00+0000', tz='UTC'),\n",
       " 'end_date': Timestamp('2020-06-08 00:00:00+0000', tz='UTC'),\n",
       " 'first_traded': Timestamp('1993-01-29 00:00:00+0000', tz='UTC'),\n",
       " 'auto_close_date': Timestamp('2020-06-09 00:00:00+0000', tz='UTC'),\n",
       " 'exchange': 'Archipelago Exchange',\n",
       " 'exchange_full': 'NYSEARCA',\n",
       " 'tick_size': 0.01,\n",
       " 'multiplier': 1.0,\n",
       " 'exchange_info': ExchangeInfo('NYSEARCA', 'Archipelago Exchange', 'US')}"
      ]
     },
     "execution_count": 4,
     "metadata": {},
     "output_type": "execute_result"
    }
   ],
   "source": [
    "spy = symbol('SPY')\n",
    "spy.to_dict()"
   ]
  },
  {
   "cell_type": "code",
   "execution_count": 8,
   "metadata": {},
   "outputs": [
    {
     "data": {
      "text/html": [
       "<div>\n",
       "<style scoped>\n",
       "    .dataframe tbody tr th:only-of-type {\n",
       "        vertical-align: middle;\n",
       "    }\n",
       "\n",
       "    .dataframe tbody tr th {\n",
       "        vertical-align: top;\n",
       "    }\n",
       "\n",
       "    .dataframe thead th {\n",
       "        text-align: right;\n",
       "    }\n",
       "</style>\n",
       "<table border=\"1\" class=\"dataframe\">\n",
       "  <thead>\n",
       "    <tr style=\"text-align: right;\">\n",
       "      <th></th>\n",
       "      <th>0</th>\n",
       "    </tr>\n",
       "  </thead>\n",
       "  <tbody>\n",
       "    <tr>\n",
       "      <th>2020-06-02 00:00:00+00:00</th>\n",
       "      <td>0.008280</td>\n",
       "    </tr>\n",
       "    <tr>\n",
       "      <th>2020-06-03 00:00:00+00:00</th>\n",
       "      <td>0.013308</td>\n",
       "    </tr>\n",
       "    <tr>\n",
       "      <th>2020-06-04 00:00:00+00:00</th>\n",
       "      <td>-0.002627</td>\n",
       "    </tr>\n",
       "    <tr>\n",
       "      <th>2020-06-05 00:00:00+00:00</th>\n",
       "      <td>0.025629</td>\n",
       "    </tr>\n",
       "  </tbody>\n",
       "</table>\n",
       "</div>"
      ],
      "text/plain": [
       "                                  0\n",
       "2020-06-02 00:00:00+00:00  0.008280\n",
       "2020-06-03 00:00:00+00:00  0.013308\n",
       "2020-06-04 00:00:00+00:00 -0.002627\n",
       "2020-06-05 00:00:00+00:00  0.025629"
      ]
     },
     "execution_count": 8,
     "metadata": {},
     "output_type": "execute_result"
    }
   ],
   "source": [
    "prices.load_dataframe(['close'], start_dt, end_dt, [118691]).sort_index().pct_change(1).iloc[1:]"
   ]
  },
  {
   "cell_type": "code",
   "execution_count": 6,
   "metadata": {},
   "outputs": [
    {
     "name": "stdout",
     "output_type": "stream",
     "text": [
      "[2020-06-12 21:06:44.682946] INFO: sharadar_db_bundle: Loading raw arrays for 11 assets (<class 'list'>).\n"
     ]
    },
    {
     "data": {
      "text/html": [
       "<div>\n",
       "<style scoped>\n",
       "    .dataframe tbody tr th:only-of-type {\n",
       "        vertical-align: middle;\n",
       "    }\n",
       "\n",
       "    .dataframe tbody tr th {\n",
       "        vertical-align: top;\n",
       "    }\n",
       "\n",
       "    .dataframe thead th {\n",
       "        text-align: right;\n",
       "    }\n",
       "</style>\n",
       "<table border=\"1\" class=\"dataframe\">\n",
       "  <thead>\n",
       "    <tr style=\"text-align: right;\">\n",
       "      <th></th>\n",
       "      <th>0</th>\n",
       "      <th>1</th>\n",
       "      <th>2</th>\n",
       "      <th>3</th>\n",
       "      <th>4</th>\n",
       "      <th>5</th>\n",
       "      <th>6</th>\n",
       "      <th>7</th>\n",
       "      <th>8</th>\n",
       "      <th>9</th>\n",
       "      <th>10</th>\n",
       "    </tr>\n",
       "  </thead>\n",
       "  <tbody>\n",
       "    <tr>\n",
       "      <th>2020-06-01 00:00:00+00:00</th>\n",
       "      <td>0.12</td>\n",
       "      <td>0.14</td>\n",
       "      <td>0.18</td>\n",
       "      <td>0.17</td>\n",
       "      <td>0.14</td>\n",
       "      <td>0.20</td>\n",
       "      <td>0.31</td>\n",
       "      <td>0.50</td>\n",
       "      <td>0.66</td>\n",
       "      <td>1.22</td>\n",
       "      <td>1.46</td>\n",
       "    </tr>\n",
       "    <tr>\n",
       "      <th>2020-06-02 00:00:00+00:00</th>\n",
       "      <td>0.12</td>\n",
       "      <td>0.15</td>\n",
       "      <td>0.18</td>\n",
       "      <td>0.17</td>\n",
       "      <td>0.17</td>\n",
       "      <td>0.20</td>\n",
       "      <td>0.32</td>\n",
       "      <td>0.52</td>\n",
       "      <td>0.68</td>\n",
       "      <td>1.24</td>\n",
       "      <td>1.48</td>\n",
       "    </tr>\n",
       "    <tr>\n",
       "      <th>2020-06-03 00:00:00+00:00</th>\n",
       "      <td>0.12</td>\n",
       "      <td>0.16</td>\n",
       "      <td>0.19</td>\n",
       "      <td>0.17</td>\n",
       "      <td>0.19</td>\n",
       "      <td>0.26</td>\n",
       "      <td>0.38</td>\n",
       "      <td>0.59</td>\n",
       "      <td>0.77</td>\n",
       "      <td>1.32</td>\n",
       "      <td>1.56</td>\n",
       "    </tr>\n",
       "    <tr>\n",
       "      <th>2020-06-04 00:00:00+00:00</th>\n",
       "      <td>0.13</td>\n",
       "      <td>0.15</td>\n",
       "      <td>0.18</td>\n",
       "      <td>0.17</td>\n",
       "      <td>0.19</td>\n",
       "      <td>0.26</td>\n",
       "      <td>0.40</td>\n",
       "      <td>0.63</td>\n",
       "      <td>0.82</td>\n",
       "      <td>1.38</td>\n",
       "      <td>1.61</td>\n",
       "    </tr>\n",
       "    <tr>\n",
       "      <th>2020-06-05 00:00:00+00:00</th>\n",
       "      <td>0.13</td>\n",
       "      <td>0.15</td>\n",
       "      <td>0.18</td>\n",
       "      <td>0.18</td>\n",
       "      <td>0.22</td>\n",
       "      <td>0.29</td>\n",
       "      <td>0.47</td>\n",
       "      <td>0.71</td>\n",
       "      <td>0.91</td>\n",
       "      <td>1.46</td>\n",
       "      <td>1.68</td>\n",
       "    </tr>\n",
       "  </tbody>\n",
       "</table>\n",
       "</div>"
      ],
      "text/plain": [
       "                             0     1     2     3     4     5     6     7   \\\n",
       "2020-06-01 00:00:00+00:00  0.12  0.14  0.18  0.17  0.14  0.20  0.31  0.50   \n",
       "2020-06-02 00:00:00+00:00  0.12  0.15  0.18  0.17  0.17  0.20  0.32  0.52   \n",
       "2020-06-03 00:00:00+00:00  0.12  0.16  0.19  0.17  0.19  0.26  0.38  0.59   \n",
       "2020-06-04 00:00:00+00:00  0.13  0.15  0.18  0.17  0.19  0.26  0.40  0.63   \n",
       "2020-06-05 00:00:00+00:00  0.13  0.15  0.18  0.18  0.22  0.29  0.47  0.71   \n",
       "\n",
       "                             8     9     10  \n",
       "2020-06-01 00:00:00+00:00  0.66  1.22  1.46  \n",
       "2020-06-02 00:00:00+00:00  0.68  1.24  1.48  \n",
       "2020-06-03 00:00:00+00:00  0.77  1.32  1.56  \n",
       "2020-06-04 00:00:00+00:00  0.82  1.38  1.61  \n",
       "2020-06-05 00:00:00+00:00  0.91  1.46  1.68  "
      ]
     },
     "execution_count": 6,
     "metadata": {},
     "output_type": "execute_result"
    }
   ],
   "source": [
    "# treasury_curves '1month', '3month', '6month', '1year','2year','3year','5year','7year','10year','20year','30year'\n",
    "treasury_sids = [10001,10003,10006,10012,10024,10036,10060,10084,10120,10240,10360]\n",
    "prices.load_dataframe(['close'], start_dt, end_dt, treasury_sids)"
   ]
  },
  {
   "cell_type": "code",
   "execution_count": 11,
   "metadata": {},
   "outputs": [],
   "source": [
    "data = prices.load_raw_arrays(['close'], start_dt, end_dt, [118691])\n",
    "sessions = prices.trading_calendar.sessions_in_range(start_dt, end_dt)"
   ]
  },
  {
   "cell_type": "code",
   "execution_count": 21,
   "metadata": {},
   "outputs": [
    {
     "data": {
      "text/plain": [
       "array([305.55, 308.08, 312.18, 311.36, 319.34])"
      ]
     },
     "execution_count": 21,
     "metadata": {},
     "output_type": "execute_result"
    }
   ],
   "source": [
    "data[0][:, 0]"
   ]
  },
  {
   "cell_type": "code",
   "execution_count": 22,
   "metadata": {},
   "outputs": [
    {
     "data": {
      "text/plain": [
       "2020-06-01 00:00:00+00:00    305.55\n",
       "2020-06-02 00:00:00+00:00    308.08\n",
       "2020-06-03 00:00:00+00:00    312.18\n",
       "2020-06-04 00:00:00+00:00    311.36\n",
       "2020-06-05 00:00:00+00:00    319.34\n",
       "Freq: C, dtype: float64"
      ]
     },
     "execution_count": 22,
     "metadata": {},
     "output_type": "execute_result"
    }
   ],
   "source": [
    "pd.Series(data[0][:, 0], index=sessions)"
   ]
  }
 ],
 "metadata": {
  "kernelspec": {
   "display_name": "Python 3",
   "language": "python",
   "name": "python3"
  },
  "language_info": {
   "codemirror_mode": {
    "name": "ipython",
    "version": 3
   },
   "file_extension": ".py",
   "mimetype": "text/x-python",
   "name": "python",
   "nbconvert_exporter": "python",
   "pygments_lexer": "ipython3",
   "version": "3.6.10"
  }
 },
 "nbformat": 4,
 "nbformat_minor": 2
}
