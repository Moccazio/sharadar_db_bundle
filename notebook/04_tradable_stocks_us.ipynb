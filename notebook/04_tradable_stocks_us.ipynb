{
 "cells": [
  {
   "cell_type": "code",
   "execution_count": 1,
   "metadata": {},
   "outputs": [],
   "source": [
    "import pandas as pd\n",
    "from zipline.pipeline import Pipeline\n",
    "from zipline.pipeline.data import USEquityPricing\n",
    "from sharadar.pipeline.factors import Exchange, Sector, IsDomesticCommonStock, MarketCap, Fundamentals, EV\n",
    "from sharadar.pipeline.engine import symbol, symbols, make_pipeline_engine\n",
    "from zipline.pipeline.filters import StaticAssets\n",
    "import time\n",
    "import datetime\n",
    "from zipline.pipeline.factors import AverageDollarVolume\n",
    "import os\n",
    "from sharadar.util.output_dir import get_cache_dir as cache_dir\n",
    "from sharadar.util.output_dir import get_data_dir as output_dir\n",
    "from sharadar.pipeline.universes import UniverseReader\n",
    "from sharadar.pipeline.engine import symbol, symbols, load_sharadar_bundle\n",
    "import numpy as np\n",
    "from scipy import stats\n",
    "from zipline.pipeline.hooks.progress import ProgressHooks"
   ]
  },
  {
   "cell_type": "code",
   "execution_count": 2,
   "metadata": {},
   "outputs": [],
   "source": [
    "spe = make_pipeline_engine()\n",
    "pipe_date = pd.to_datetime('2024-01-05', utc=False)\n",
    "pipe_end = pd.to_datetime('2024-07-08', utc=False)"
   ]
  },
  {
   "cell_type": "code",
   "execution_count": 3,
   "metadata": {},
   "outputs": [],
   "source": [
    "class NullProgressPublisher(object):\n",
    "\n",
    "    def publish(self, model):\n",
    "        pass\n",
    "    \n",
    "no_hooks = [ProgressHooks.with_static_publisher(NullProgressPublisher())]"
   ]
  },
  {
   "cell_type": "code",
   "execution_count": 4,
   "metadata": {},
   "outputs": [],
   "source": [
    "pipe_columns = {\n",
    "    'Close': USEquityPricing.close.latest,\n",
    "    'sector': Sector(),\n",
    "    'adv': AverageDollarVolume(window_length=200),\n",
    "    'mkt_cap': MarketCap()\n",
    "}"
   ]
  },
  {
   "cell_type": "code",
   "execution_count": 5,
   "metadata": {},
   "outputs": [],
   "source": [
    "def StocksUS():\n",
    "    return (\n",
    "        (USEquityPricing.close.latest > 3) &\n",
    "        Exchange().element_of(['NYSE', 'NASDAQ', 'NYSEMKT']) &\n",
    "        (Sector().notnull()) &\n",
    "        (~Sector().element_of(['Financial Services', 'Real Estate'])) &\n",
    "        (IsDomesticCommonStock().eq(1)) &\n",
    "        (Fundamentals(field='revenue_arq') > 0) &\n",
    "        (Fundamentals(field='assets_arq') > 0) &\n",
    "        (Fundamentals(field='equity_arq') > 0) &\n",
    "        (EV() > 0)\n",
    "    )"
   ]
  },
  {
   "cell_type": "code",
   "execution_count": 6,
   "metadata": {},
   "outputs": [
    {
     "name": "stdout",
     "output_type": "stream",
     "text": [
      "[2024-07-15 11:24:13] INFO: Save root mask file: root-2024-01-05_2024-06-27_XNYS_US_199.pkl\n",
      "[2024-07-15 11:25:22] INFO: save term-2023-03-22_2024-06-27_screen_03cf8d8510cb40908d8f92e9883518af_Close.npy to cache\n",
      "[2024-07-15 11:25:22] INFO: save term-2023-03-22_2024-06-27_screen_03cf8d8510cb40908d8f92e9883518af_sector.npy to cache\n",
      "[2024-07-15 11:25:22] INFO: save term-2023-03-22_2024-06-27_screen_03cf8d8510cb40908d8f92e9883518af_adv.npy to cache\n",
      "[2024-07-15 11:25:22] INFO: save term-2023-03-22_2024-06-27_screen_03cf8d8510cb40908d8f92e9883518af_mkt_cap.npy to cache\n",
      "[2024-07-15 11:25:22] INFO: save term-2023-03-22_2024-06-27_screen_03cf8d8510cb40908d8f92e9883518af_screen_03cf8d8510cb40908d8f92e9883518af.npy to cache\n",
      "[2024-07-15 11:25:22] INFO: Save root mask file: root-2024-06-28_2024-07-08_XNYS_US_199.pkl\n",
      "[2024-07-15 11:25:28] INFO: save term-2023-09-13_2024-07-08_screen_03cf8d8510cb40908d8f92e9883518af_Close.npy to cache\n",
      "[2024-07-15 11:25:28] INFO: save term-2023-09-13_2024-07-08_screen_03cf8d8510cb40908d8f92e9883518af_sector.npy to cache\n",
      "[2024-07-15 11:25:28] INFO: save term-2023-09-13_2024-07-08_screen_03cf8d8510cb40908d8f92e9883518af_adv.npy to cache\n",
      "[2024-07-15 11:25:28] INFO: save term-2023-09-13_2024-07-08_screen_03cf8d8510cb40908d8f92e9883518af_mkt_cap.npy to cache\n",
      "[2024-07-15 11:25:28] INFO: save term-2023-09-13_2024-07-08_screen_03cf8d8510cb40908d8f92e9883518af_screen_03cf8d8510cb40908d8f92e9883518af.npy to cache\n"
     ]
    },
    {
     "data": {
      "text/plain": [
       "(273197, 4)"
      ]
     },
     "execution_count": 6,
     "metadata": {},
     "output_type": "execute_result"
    }
   ],
   "source": [
    "pipe = Pipeline(columns=pipe_columns, screen = StocksUS())\n",
    "\n",
    "stocks_us = spe.run_pipeline(pipe, pipe_date, pipe_end, hooks=no_hooks)\n",
    "stocks_us.shape"
   ]
  },
  {
   "cell_type": "code",
   "execution_count": 7,
   "metadata": {},
   "outputs": [
    {
     "data": {
      "text/plain": [
       "(18.51429554497304, 20.45483661972862)"
      ]
     },
     "execution_count": 7,
     "metadata": {},
     "output_type": "execute_result"
    }
   ],
   "source": [
    "min_percentile_mc = stats.percentileofscore(stocks_us['mkt_cap'], 350e6)\n",
    "min_percentile_adv = stats.percentileofscore(stocks_us['adv'], 2.5e6)\n",
    "\n",
    "min_percentile_mc, min_percentile_adv"
   ]
  },
  {
   "cell_type": "code",
   "execution_count": 8,
   "metadata": {},
   "outputs": [
    {
     "name": "stdout",
     "output_type": "stream",
     "text": [
      "[2024-07-15 11:25:28] INFO: Load root mask file: root-2024-01-05_2024-06-27_XNYS_US_199.pkl\n",
      "[2024-07-15 11:25:28] INFO: load term-2023-03-22_2024-06-27_screen_03cf8d8510cb40908d8f92e9883518af_Close.npy from cache\n",
      "[2024-07-15 11:25:28] INFO: load term-2023-03-22_2024-06-27_screen_03cf8d8510cb40908d8f92e9883518af_sector.npy from cache\n",
      "[2024-07-15 11:25:28] INFO: load term-2023-03-22_2024-06-27_screen_03cf8d8510cb40908d8f92e9883518af_adv.npy from cache\n",
      "[2024-07-15 11:25:28] INFO: load term-2023-03-22_2024-06-27_screen_03cf8d8510cb40908d8f92e9883518af_mkt_cap.npy from cache\n",
      "[2024-07-15 11:25:28] INFO: load term-2023-03-22_2024-06-27_screen_03cf8d8510cb40908d8f92e9883518af_screen_03cf8d8510cb40908d8f92e9883518af.npy from cache\n",
      "[2024-07-15 11:25:28] INFO: Load root mask file: root-2024-06-28_2024-07-08_XNYS_US_199.pkl\n",
      "[2024-07-15 11:25:28] INFO: load term-2023-09-13_2024-07-08_screen_03cf8d8510cb40908d8f92e9883518af_Close.npy from cache\n",
      "[2024-07-15 11:25:28] INFO: load term-2023-09-13_2024-07-08_screen_03cf8d8510cb40908d8f92e9883518af_sector.npy from cache\n",
      "[2024-07-15 11:25:28] INFO: load term-2023-09-13_2024-07-08_screen_03cf8d8510cb40908d8f92e9883518af_adv.npy from cache\n",
      "[2024-07-15 11:25:28] INFO: load term-2023-09-13_2024-07-08_screen_03cf8d8510cb40908d8f92e9883518af_mkt_cap.npy from cache\n",
      "[2024-07-15 11:25:28] INFO: load term-2023-09-13_2024-07-08_screen_03cf8d8510cb40908d8f92e9883518af_screen_03cf8d8510cb40908d8f92e9883518af.npy from cache\n"
     ]
    },
    {
     "data": {
      "text/plain": [
       "(273197, 4)"
      ]
     },
     "execution_count": 8,
     "metadata": {},
     "output_type": "execute_result"
    }
   ],
   "source": [
    "def TradableStocksUS_Var():\n",
    "    return (\n",
    "        (StocksUS()) &\n",
    "        (AverageDollarVolume(window_length=200).percentile_between(min_percentile_adv, 100.0, mask=StocksUS())) &\n",
    "        (MarketCap().percentile_between(min_percentile_mc, 100.0, mask=StocksUS()))\n",
    "    )\n",
    "\n",
    "pipe = Pipeline(columns=pipe_columns, screen = TradableStocksUS_Var())\n",
    "\n",
    "stocks_tradable_var = spe.run_pipeline(pipe, pipe_date, pipe_end, hooks=no_hooks)\n",
    "stocks_tradable_var.shape"
   ]
  },
  {
   "cell_type": "code",
   "execution_count": 9,
   "metadata": {},
   "outputs": [
    {
     "name": "stdout",
     "output_type": "stream",
     "text": [
      "[2024-07-15 11:25:28] INFO: Load root mask file: root-2024-01-05_2024-06-27_XNYS_US_199.pkl\n",
      "[2024-07-15 11:25:28] INFO: load term-2023-03-22_2024-06-27_screen_03cf8d8510cb40908d8f92e9883518af_Close.npy from cache\n",
      "[2024-07-15 11:25:28] INFO: load term-2023-03-22_2024-06-27_screen_03cf8d8510cb40908d8f92e9883518af_sector.npy from cache\n",
      "[2024-07-15 11:25:28] INFO: load term-2023-03-22_2024-06-27_screen_03cf8d8510cb40908d8f92e9883518af_adv.npy from cache\n",
      "[2024-07-15 11:25:28] INFO: load term-2023-03-22_2024-06-27_screen_03cf8d8510cb40908d8f92e9883518af_mkt_cap.npy from cache\n",
      "[2024-07-15 11:25:28] INFO: load term-2023-03-22_2024-06-27_screen_03cf8d8510cb40908d8f92e9883518af_screen_03cf8d8510cb40908d8f92e9883518af.npy from cache\n",
      "[2024-07-15 11:25:28] INFO: Load root mask file: root-2024-06-28_2024-07-08_XNYS_US_199.pkl\n",
      "[2024-07-15 11:25:29] INFO: load term-2023-09-13_2024-07-08_screen_03cf8d8510cb40908d8f92e9883518af_Close.npy from cache\n",
      "[2024-07-15 11:25:29] INFO: load term-2023-09-13_2024-07-08_screen_03cf8d8510cb40908d8f92e9883518af_sector.npy from cache\n",
      "[2024-07-15 11:25:29] INFO: load term-2023-09-13_2024-07-08_screen_03cf8d8510cb40908d8f92e9883518af_adv.npy from cache\n",
      "[2024-07-15 11:25:29] INFO: load term-2023-09-13_2024-07-08_screen_03cf8d8510cb40908d8f92e9883518af_mkt_cap.npy from cache\n",
      "[2024-07-15 11:25:29] INFO: load term-2023-09-13_2024-07-08_screen_03cf8d8510cb40908d8f92e9883518af_screen_03cf8d8510cb40908d8f92e9883518af.npy from cache\n"
     ]
    },
    {
     "data": {
      "text/plain": [
       "(273197, 4)"
      ]
     },
     "execution_count": 9,
     "metadata": {},
     "output_type": "execute_result"
    }
   ],
   "source": [
    "def TradableStocksUS_Fix():\n",
    "    return (\n",
    "        (StocksUS()) &\n",
    "        (AverageDollarVolume(window_length=200) > 2.5e6) &\n",
    "        (MarketCap() > 350e6)\n",
    "    )\n",
    "\n",
    "pipe = Pipeline(columns=pipe_columns, screen = TradableStocksUS_Fix())\n",
    "\n",
    "stocks_tradable_fix = spe.run_pipeline(pipe, pipe_date, pipe_end, hooks=no_hooks)\n",
    "stocks_tradable_fix.shape"
   ]
  },
  {
   "cell_type": "code",
   "execution_count": 10,
   "metadata": {},
   "outputs": [
    {
     "name": "stdout",
     "output_type": "stream",
     "text": [
      "[2024-07-15 11:25:29] INFO: Load root mask file: root-2024-01-05_2024-06-27_XNYS_US_199.pkl\n",
      "[2024-07-15 11:25:29] INFO: load term-2023-03-22_2024-06-27_screen_03cf8d8510cb40908d8f92e9883518af_Close.npy from cache\n",
      "[2024-07-15 11:25:29] INFO: load term-2023-03-22_2024-06-27_screen_03cf8d8510cb40908d8f92e9883518af_sector.npy from cache\n",
      "[2024-07-15 11:25:29] INFO: load term-2023-03-22_2024-06-27_screen_03cf8d8510cb40908d8f92e9883518af_adv.npy from cache\n",
      "[2024-07-15 11:25:29] INFO: load term-2023-03-22_2024-06-27_screen_03cf8d8510cb40908d8f92e9883518af_mkt_cap.npy from cache\n",
      "[2024-07-15 11:25:29] INFO: load term-2023-03-22_2024-06-27_screen_03cf8d8510cb40908d8f92e9883518af_screen_03cf8d8510cb40908d8f92e9883518af.npy from cache\n",
      "[2024-07-15 11:25:29] INFO: Load root mask file: root-2024-06-28_2024-07-08_XNYS_US_199.pkl\n",
      "[2024-07-15 11:25:29] INFO: load term-2023-09-13_2024-07-08_screen_03cf8d8510cb40908d8f92e9883518af_Close.npy from cache\n",
      "[2024-07-15 11:25:29] INFO: load term-2023-09-13_2024-07-08_screen_03cf8d8510cb40908d8f92e9883518af_sector.npy from cache\n",
      "[2024-07-15 11:25:29] INFO: load term-2023-09-13_2024-07-08_screen_03cf8d8510cb40908d8f92e9883518af_adv.npy from cache\n",
      "[2024-07-15 11:25:29] INFO: load term-2023-09-13_2024-07-08_screen_03cf8d8510cb40908d8f92e9883518af_mkt_cap.npy from cache\n",
      "[2024-07-15 11:25:29] INFO: load term-2023-09-13_2024-07-08_screen_03cf8d8510cb40908d8f92e9883518af_screen_03cf8d8510cb40908d8f92e9883518af.npy from cache\n"
     ]
    },
    {
     "data": {
      "text/plain": [
       "(273197, 4)"
      ]
     },
     "execution_count": 10,
     "metadata": {},
     "output_type": "execute_result"
    }
   ],
   "source": [
    "min_percentile = 20\n",
    "def TradableStocksUS_Var_20():\n",
    "    return (\n",
    "        (StocksUS()) &\n",
    "        (AverageDollarVolume(window_length=200).percentile_between(min_percentile, 100, mask=StocksUS())) &\n",
    "        (MarketCap().percentile_between(min_percentile, 100, mask=StocksUS()))\n",
    "    )\n",
    "\n",
    "pipe = Pipeline(columns=pipe_columns, screen = TradableStocksUS_Var_20())\n",
    "\n",
    "stocks_tradable_var20 = spe.run_pipeline(pipe, pipe_date, pipe_end, hooks=no_hooks)\n",
    "stocks_tradable_var20.shape"
   ]
  },
  {
   "cell_type": "code",
   "execution_count": 11,
   "metadata": {},
   "outputs": [
    {
     "data": {
      "text/html": [
       "<div>\n",
       "<style scoped>\n",
       "    .dataframe tbody tr th:only-of-type {\n",
       "        vertical-align: middle;\n",
       "    }\n",
       "\n",
       "    .dataframe tbody tr th {\n",
       "        vertical-align: top;\n",
       "    }\n",
       "\n",
       "    .dataframe thead th {\n",
       "        text-align: right;\n",
       "    }\n",
       "</style>\n",
       "<table border=\"1\" class=\"dataframe\">\n",
       "  <thead>\n",
       "    <tr style=\"text-align: right;\">\n",
       "      <th></th>\n",
       "      <th></th>\n",
       "      <th>Close</th>\n",
       "      <th>sector</th>\n",
       "      <th>adv</th>\n",
       "      <th>mkt_cap</th>\n",
       "    </tr>\n",
       "  </thead>\n",
       "  <tbody>\n",
       "    <tr>\n",
       "      <th rowspan=\"5\" valign=\"top\">2024-01-05</th>\n",
       "      <th>Equity(105149 [FNGR])</th>\n",
       "      <td>3.66</td>\n",
       "      <td>Communication Services</td>\n",
       "      <td>3.302633e+06</td>\n",
       "      <td>1.955000e+08</td>\n",
       "    </tr>\n",
       "    <tr>\n",
       "      <th>Equity(108216 [AUID])</th>\n",
       "      <td>10.16</td>\n",
       "      <td>Technology</td>\n",
       "      <td>1.059212e+05</td>\n",
       "      <td>7.640000e+07</td>\n",
       "    </tr>\n",
       "    <tr>\n",
       "      <th>Equity(108271 [MAMA])</th>\n",
       "      <td>4.70</td>\n",
       "      <td>Consumer Defensive</td>\n",
       "      <td>1.060988e+06</td>\n",
       "      <td>1.770000e+08</td>\n",
       "    </tr>\n",
       "    <tr>\n",
       "      <th>Equity(108504 [NE])</th>\n",
       "      <td>47.39</td>\n",
       "      <td>Energy</td>\n",
       "      <td>5.865292e+07</td>\n",
       "      <td>6.738200e+09</td>\n",
       "    </tr>\n",
       "    <tr>\n",
       "      <th>Equity(108805 [OPXS])</th>\n",
       "      <td>6.52</td>\n",
       "      <td>Industrials</td>\n",
       "      <td>7.532210e+04</td>\n",
       "      <td>4.290000e+07</td>\n",
       "    </tr>\n",
       "    <tr>\n",
       "      <th>...</th>\n",
       "      <th>...</th>\n",
       "      <td>...</td>\n",
       "      <td>...</td>\n",
       "      <td>...</td>\n",
       "      <td>...</td>\n",
       "    </tr>\n",
       "    <tr>\n",
       "      <th rowspan=\"5\" valign=\"top\">2024-07-08</th>\n",
       "      <th>Equity(641912 [WAY])</th>\n",
       "      <td>21.52</td>\n",
       "      <td>Healthcare</td>\n",
       "      <td>4.491500e+06</td>\n",
       "      <td>3.536500e+09</td>\n",
       "    </tr>\n",
       "    <tr>\n",
       "      <th>Equity(641966 [GRAL])</th>\n",
       "      <td>15.20</td>\n",
       "      <td>Healthcare</td>\n",
       "      <td>2.664991e+06</td>\n",
       "      <td>4.580000e+08</td>\n",
       "    </tr>\n",
       "    <tr>\n",
       "      <th>Equity(641986 [WBTN])</th>\n",
       "      <td>19.65</td>\n",
       "      <td>Technology</td>\n",
       "      <td>1.460816e+06</td>\n",
       "      <td>2.639200e+09</td>\n",
       "    </tr>\n",
       "    <tr>\n",
       "      <th>Equity(641989 [LSH])</th>\n",
       "      <td>3.90</td>\n",
       "      <td>Industrials</td>\n",
       "      <td>2.541876e+04</td>\n",
       "      <td>2.680000e+07</td>\n",
       "    </tr>\n",
       "    <tr>\n",
       "      <th>Equity(641994 [LB])</th>\n",
       "      <td>28.50</td>\n",
       "      <td>Energy</td>\n",
       "      <td>6.861248e+05</td>\n",
       "      <td>3.882000e+08</td>\n",
       "    </tr>\n",
       "  </tbody>\n",
       "</table>\n",
       "<p>273197 rows × 4 columns</p>\n",
       "</div>"
      ],
      "text/plain": [
       "                                  Close                  sector           adv  \\\n",
       "2024-01-05 Equity(105149 [FNGR])   3.66  Communication Services  3.302633e+06   \n",
       "           Equity(108216 [AUID])  10.16              Technology  1.059212e+05   \n",
       "           Equity(108271 [MAMA])   4.70      Consumer Defensive  1.060988e+06   \n",
       "           Equity(108504 [NE])    47.39                  Energy  5.865292e+07   \n",
       "           Equity(108805 [OPXS])   6.52             Industrials  7.532210e+04   \n",
       "...                                 ...                     ...           ...   \n",
       "2024-07-08 Equity(641912 [WAY])   21.52              Healthcare  4.491500e+06   \n",
       "           Equity(641966 [GRAL])  15.20              Healthcare  2.664991e+06   \n",
       "           Equity(641986 [WBTN])  19.65              Technology  1.460816e+06   \n",
       "           Equity(641989 [LSH])    3.90             Industrials  2.541876e+04   \n",
       "           Equity(641994 [LB])    28.50                  Energy  6.861248e+05   \n",
       "\n",
       "                                       mkt_cap  \n",
       "2024-01-05 Equity(105149 [FNGR])  1.955000e+08  \n",
       "           Equity(108216 [AUID])  7.640000e+07  \n",
       "           Equity(108271 [MAMA])  1.770000e+08  \n",
       "           Equity(108504 [NE])    6.738200e+09  \n",
       "           Equity(108805 [OPXS])  4.290000e+07  \n",
       "...                                        ...  \n",
       "2024-07-08 Equity(641912 [WAY])   3.536500e+09  \n",
       "           Equity(641966 [GRAL])  4.580000e+08  \n",
       "           Equity(641986 [WBTN])  2.639200e+09  \n",
       "           Equity(641989 [LSH])   2.680000e+07  \n",
       "           Equity(641994 [LB])    3.882000e+08  \n",
       "\n",
       "[273197 rows x 4 columns]"
      ]
     },
     "execution_count": 11,
     "metadata": {},
     "output_type": "execute_result"
    }
   ],
   "source": [
    "stocks_tradable_var20"
   ]
  },
  {
   "cell_type": "code",
   "execution_count": 12,
   "metadata": {},
   "outputs": [
    {
     "name": "stdout",
     "output_type": "stream",
     "text": [
      "<class 'pandas.core.frame.DataFrame'>\n",
      "MultiIndex: 273197 entries, (Timestamp('2024-01-05 00:00:00'), Equity(105149 [FNGR])) to (Timestamp('2024-07-08 00:00:00'), Equity(641994 [LB]))\n",
      "Data columns (total 4 columns):\n",
      " #   Column   Non-Null Count   Dtype   \n",
      "---  ------   --------------   -----   \n",
      " 0   Close    273197 non-null  float64 \n",
      " 1   sector   273197 non-null  category\n",
      " 2   adv      273197 non-null  float64 \n",
      " 3   mkt_cap  273197 non-null  float64 \n",
      "dtypes: category(1), float64(3)\n",
      "memory usage: 7.9+ MB\n"
     ]
    }
   ],
   "source": [
    "stocks_tradable_var20.info()"
   ]
  },
  {
   "cell_type": "code",
   "execution_count": null,
   "metadata": {},
   "outputs": [],
   "source": []
  },
  {
   "cell_type": "code",
   "execution_count": null,
   "metadata": {},
   "outputs": [],
   "source": []
  }
 ],
 "metadata": {
  "kernelspec": {
   "display_name": "Python 3",
   "language": "python",
   "name": "python3"
  },
  "language_info": {
   "codemirror_mode": {
    "name": "ipython",
    "version": 3
   },
   "file_extension": ".py",
   "mimetype": "text/x-python",
   "name": "python",
   "nbconvert_exporter": "python",
   "pygments_lexer": "ipython3",
   "version": "3.10.14"
  }
 },
 "nbformat": 4,
 "nbformat_minor": 2
}
