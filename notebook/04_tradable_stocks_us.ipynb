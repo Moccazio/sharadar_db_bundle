{
 "cells": [
  {
   "cell_type": "markdown",
   "metadata": {},
   "source": [
    "# Universe for Sharadar Bundle\n",
    "\n",
    "how to create a universe with \n"
   ]
  },
  {
   "cell_type": "code",
   "execution_count": 1,
   "metadata": {},
   "outputs": [],
   "source": [
    "import pandas as pd\n",
    "from zipline.pipeline import Pipeline\n",
    "from zipline.pipeline.data import USEquityPricing\n",
    "from sharadar.pipeline.factors import Exchange, Sector, IsDomesticCommonStock, MarketCap, Fundamentals, EV\n",
    "from sharadar.pipeline.engine import symbol, symbols, make_pipeline_engine\n",
    "from zipline.pipeline.filters import StaticAssets\n",
    "import time\n",
    "import datetime\n",
    "from zipline.pipeline.factors import AverageDollarVolume\n",
    "import os\n",
    "from sharadar.util.output_dir import get_cache_dir as cache_dir\n",
    "from sharadar.util.output_dir import get_data_dir as output_dir\n",
    "from sharadar.pipeline.universes import UniverseWriter, UniverseReader, NamedUniverse, TRADABLE_STOCKS_US\n",
    "from sharadar.pipeline.engine import symbol, symbols, load_sharadar_bundle\n",
    "import numpy as np\n",
    "from scipy import stats\n",
    "from zipline.pipeline.hooks.progress import ProgressHooks"
   ]
  },
  {
   "cell_type": "markdown",
   "metadata": {},
   "source": [
    "# Universe for Sharadar Bundle"
   ]
  },
  {
   "cell_type": "code",
   "execution_count": 2,
   "metadata": {},
   "outputs": [],
   "source": [
    "class NullProgressPublisher(object):\n",
    "    def publish(self, model):\n",
    "        pass\n",
    "no_hooks = [ProgressHooks.with_static_publisher(NullProgressPublisher())]"
   ]
  },
  {
   "cell_type": "code",
   "execution_count": 8,
   "metadata": {},
   "outputs": [],
   "source": [
    "spe = make_pipeline_engine()\n",
    "pipe_date = pd.to_datetime('2024-01-05', utc=False)\n",
    "pipe_end = pd.to_datetime('2024-07-10', utc=False)"
   ]
  },
  {
   "cell_type": "code",
   "execution_count": 9,
   "metadata": {},
   "outputs": [],
   "source": [
    "def StocksUS():\n",
    "    return (\n",
    "        (USEquityPricing.close.latest > 3) &\n",
    "        Exchange().element_of(['NYSE', 'NASDAQ', 'NYSEMKT']) &\n",
    "        (Sector().notnull()) &\n",
    "        (~Sector().element_of(['Financial Services', 'Real Estate'])) &\n",
    "        (IsDomesticCommonStock().eq(1)) &\n",
    "        (Fundamentals(field='revenue_arq') > 0) &\n",
    "        (Fundamentals(field='assets_arq') > 0) &\n",
    "        (Fundamentals(field='equity_arq') > 0) &\n",
    "        (EV() > 0)\n",
    "    )"
   ]
  },
  {
   "cell_type": "code",
   "execution_count": 10,
   "metadata": {},
   "outputs": [
    {
     "data": {
      "text/plain": [
       "'tradable_stocks_us'"
      ]
     },
     "execution_count": 10,
     "metadata": {},
     "output_type": "execute_result"
    }
   ],
   "source": [
    "TRADABLE_STOCKS_US"
   ]
  },
  {
   "cell_type": "code",
   "execution_count": 11,
   "metadata": {},
   "outputs": [],
   "source": [
    "pipe_columns = {\n",
    "    'Close': USEquityPricing.close.latest,\n",
    "    'sector': Sector(),\n",
    "    'adv': AverageDollarVolume(window_length=200),\n",
    "    'mkt_cap': MarketCap()\n",
    "}"
   ]
  },
  {
   "cell_type": "code",
   "execution_count": 12,
   "metadata": {},
   "outputs": [
    {
     "name": "stdout",
     "output_type": "stream",
     "text": [
      "[2024-07-28 20:58:33] INFO: Save root mask file: root-2024-01-05_2024-06-27_XNYS_US_199.pkl\n",
      "[2024-07-28 21:00:07] INFO: save term-2023-03-22_2024-06-27_screen_90550a3cdade4aae99d6d6f4aab4ed77_Close.npy to cache\n",
      "[2024-07-28 21:00:07] INFO: save term-2023-03-22_2024-06-27_screen_90550a3cdade4aae99d6d6f4aab4ed77_sector.npy to cache\n",
      "[2024-07-28 21:00:07] INFO: save term-2023-03-22_2024-06-27_screen_90550a3cdade4aae99d6d6f4aab4ed77_adv.npy to cache\n",
      "[2024-07-28 21:00:07] INFO: save term-2023-03-22_2024-06-27_screen_90550a3cdade4aae99d6d6f4aab4ed77_mkt_cap.npy to cache\n",
      "[2024-07-28 21:00:07] INFO: save term-2023-03-22_2024-06-27_screen_90550a3cdade4aae99d6d6f4aab4ed77_screen_90550a3cdade4aae99d6d6f4aab4ed77.npy to cache\n",
      "[2024-07-28 21:00:08] INFO: Save root mask file: root-2024-06-28_2024-07-10_XNYS_US_199.pkl\n",
      "[2024-07-28 21:00:16] INFO: save term-2023-09-13_2024-07-10_screen_90550a3cdade4aae99d6d6f4aab4ed77_Close.npy to cache\n",
      "[2024-07-28 21:00:16] INFO: save term-2023-09-13_2024-07-10_screen_90550a3cdade4aae99d6d6f4aab4ed77_sector.npy to cache\n",
      "[2024-07-28 21:00:16] INFO: save term-2023-09-13_2024-07-10_screen_90550a3cdade4aae99d6d6f4aab4ed77_adv.npy to cache\n",
      "[2024-07-28 21:00:16] INFO: save term-2023-09-13_2024-07-10_screen_90550a3cdade4aae99d6d6f4aab4ed77_mkt_cap.npy to cache\n",
      "[2024-07-28 21:00:16] INFO: save term-2023-09-13_2024-07-10_screen_90550a3cdade4aae99d6d6f4aab4ed77_screen_90550a3cdade4aae99d6d6f4aab4ed77.npy to cache\n"
     ]
    },
    {
     "data": {
      "text/plain": [
       "(277475, 4)"
      ]
     },
     "execution_count": 12,
     "metadata": {},
     "output_type": "execute_result"
    }
   ],
   "source": [
    "pipe = Pipeline(columns=pipe_columns, screen = StocksUS())\n",
    "\n",
    "stocks_us = spe.run_pipeline(pipe, pipe_date, pipe_end, hooks=no_hooks)\n",
    "stocks_us.shape"
   ]
  },
  {
   "cell_type": "code",
   "execution_count": 13,
   "metadata": {},
   "outputs": [
    {
     "data": {
      "text/plain": [
       "(18.513920172988556, 20.430309036850165)"
      ]
     },
     "execution_count": 13,
     "metadata": {},
     "output_type": "execute_result"
    }
   ],
   "source": [
    "min_percentile_mc = stats.percentileofscore(stocks_us['mkt_cap'], 350e6)\n",
    "min_percentile_adv = stats.percentileofscore(stocks_us['adv'], 2.5e6)\n",
    "\n",
    "min_percentile_mc, min_percentile_adv\n"
   ]
  },
  {
   "cell_type": "code",
   "execution_count": 14,
   "metadata": {},
   "outputs": [
    {
     "name": "stdout",
     "output_type": "stream",
     "text": [
      "[2024-07-28 21:00:16] INFO: Load root mask file: root-2024-01-05_2024-06-27_XNYS_US_199.pkl\n",
      "[2024-07-28 21:00:16] INFO: load term-2023-03-22_2024-06-27_screen_90550a3cdade4aae99d6d6f4aab4ed77_Close.npy from cache\n",
      "[2024-07-28 21:00:16] INFO: load term-2023-03-22_2024-06-27_screen_90550a3cdade4aae99d6d6f4aab4ed77_sector.npy from cache\n",
      "[2024-07-28 21:00:16] INFO: load term-2023-03-22_2024-06-27_screen_90550a3cdade4aae99d6d6f4aab4ed77_adv.npy from cache\n",
      "[2024-07-28 21:00:16] INFO: load term-2023-03-22_2024-06-27_screen_90550a3cdade4aae99d6d6f4aab4ed77_mkt_cap.npy from cache\n",
      "[2024-07-28 21:00:16] INFO: load term-2023-03-22_2024-06-27_screen_90550a3cdade4aae99d6d6f4aab4ed77_screen_90550a3cdade4aae99d6d6f4aab4ed77.npy from cache\n",
      "[2024-07-28 21:00:16] INFO: Load root mask file: root-2024-06-28_2024-07-10_XNYS_US_199.pkl\n",
      "[2024-07-28 21:00:16] INFO: load term-2023-09-13_2024-07-10_screen_90550a3cdade4aae99d6d6f4aab4ed77_Close.npy from cache\n",
      "[2024-07-28 21:00:16] INFO: load term-2023-09-13_2024-07-10_screen_90550a3cdade4aae99d6d6f4aab4ed77_sector.npy from cache\n",
      "[2024-07-28 21:00:16] INFO: load term-2023-09-13_2024-07-10_screen_90550a3cdade4aae99d6d6f4aab4ed77_adv.npy from cache\n",
      "[2024-07-28 21:00:16] INFO: load term-2023-09-13_2024-07-10_screen_90550a3cdade4aae99d6d6f4aab4ed77_mkt_cap.npy from cache\n",
      "[2024-07-28 21:00:16] INFO: load term-2023-09-13_2024-07-10_screen_90550a3cdade4aae99d6d6f4aab4ed77_screen_90550a3cdade4aae99d6d6f4aab4ed77.npy from cache\n"
     ]
    },
    {
     "data": {
      "text/plain": [
       "(277475, 4)"
      ]
     },
     "execution_count": 14,
     "metadata": {},
     "output_type": "execute_result"
    }
   ],
   "source": [
    "def TradableStocksUS_Var():\n",
    "    return (\n",
    "        (StocksUS()) &\n",
    "        (AverageDollarVolume(window_length=200).percentile_between(min_percentile_adv, 100.0, mask=StocksUS())) &\n",
    "        (MarketCap().percentile_between(min_percentile_mc, 100.0, mask=StocksUS()))\n",
    "    )\n",
    "\n",
    "pipe = Pipeline(columns=pipe_columns, screen = TradableStocksUS_Var())\n",
    "\n",
    "stocks_tradable_var = spe.run_pipeline(pipe, pipe_date, pipe_end, hooks=no_hooks)\n",
    "stocks_tradable_var.shape"
   ]
  },
  {
   "cell_type": "code",
   "execution_count": 15,
   "metadata": {},
   "outputs": [
    {
     "name": "stdout",
     "output_type": "stream",
     "text": [
      "[2024-07-28 21:00:16] INFO: Load root mask file: root-2024-01-05_2024-06-27_XNYS_US_199.pkl\n",
      "[2024-07-28 21:00:16] INFO: load term-2023-03-22_2024-06-27_screen_90550a3cdade4aae99d6d6f4aab4ed77_Close.npy from cache\n",
      "[2024-07-28 21:00:16] INFO: load term-2023-03-22_2024-06-27_screen_90550a3cdade4aae99d6d6f4aab4ed77_sector.npy from cache\n",
      "[2024-07-28 21:00:16] INFO: load term-2023-03-22_2024-06-27_screen_90550a3cdade4aae99d6d6f4aab4ed77_adv.npy from cache\n",
      "[2024-07-28 21:00:16] INFO: load term-2023-03-22_2024-06-27_screen_90550a3cdade4aae99d6d6f4aab4ed77_mkt_cap.npy from cache\n",
      "[2024-07-28 21:00:16] INFO: load term-2023-03-22_2024-06-27_screen_90550a3cdade4aae99d6d6f4aab4ed77_screen_90550a3cdade4aae99d6d6f4aab4ed77.npy from cache\n",
      "[2024-07-28 21:00:16] INFO: Load root mask file: root-2024-06-28_2024-07-10_XNYS_US_199.pkl\n",
      "[2024-07-28 21:00:16] INFO: load term-2023-09-13_2024-07-10_screen_90550a3cdade4aae99d6d6f4aab4ed77_Close.npy from cache\n",
      "[2024-07-28 21:00:16] INFO: load term-2023-09-13_2024-07-10_screen_90550a3cdade4aae99d6d6f4aab4ed77_sector.npy from cache\n",
      "[2024-07-28 21:00:16] INFO: load term-2023-09-13_2024-07-10_screen_90550a3cdade4aae99d6d6f4aab4ed77_adv.npy from cache\n",
      "[2024-07-28 21:00:16] INFO: load term-2023-09-13_2024-07-10_screen_90550a3cdade4aae99d6d6f4aab4ed77_mkt_cap.npy from cache\n",
      "[2024-07-28 21:00:16] INFO: load term-2023-09-13_2024-07-10_screen_90550a3cdade4aae99d6d6f4aab4ed77_screen_90550a3cdade4aae99d6d6f4aab4ed77.npy from cache\n"
     ]
    },
    {
     "data": {
      "text/plain": [
       "(277475, 4)"
      ]
     },
     "execution_count": 15,
     "metadata": {},
     "output_type": "execute_result"
    }
   ],
   "source": [
    "def TradableStocksUS_Fix():\n",
    "    return (\n",
    "        (StocksUS()) &\n",
    "        (AverageDollarVolume(window_length=200) > 2.5e6) &\n",
    "        (MarketCap() > 350e6)\n",
    "    )\n",
    "\n",
    "pipe = Pipeline(columns=pipe_columns, screen = TradableStocksUS_Fix())\n",
    "\n",
    "stocks_tradable_fix = spe.run_pipeline(pipe, pipe_date, pipe_end, hooks=no_hooks)\n",
    "stocks_tradable_fix.shape"
   ]
  },
  {
   "cell_type": "code",
   "execution_count": 16,
   "metadata": {},
   "outputs": [
    {
     "data": {
      "text/plain": [
       "2455"
      ]
     },
     "execution_count": 16,
     "metadata": {},
     "output_type": "execute_result"
    }
   ],
   "source": [
    "len(stocks_tradable_fix.index.get_level_values(1).unique())"
   ]
  },
  {
   "cell_type": "code",
   "execution_count": 17,
   "metadata": {},
   "outputs": [
    {
     "name": "stdout",
     "output_type": "stream",
     "text": [
      "[2024-07-28 21:00:16] INFO: Load root mask file: root-2024-01-05_2024-06-27_XNYS_US_199.pkl\n",
      "[2024-07-28 21:00:16] INFO: load term-2023-03-22_2024-06-27_screen_90550a3cdade4aae99d6d6f4aab4ed77_Close.npy from cache\n",
      "[2024-07-28 21:00:16] INFO: load term-2023-03-22_2024-06-27_screen_90550a3cdade4aae99d6d6f4aab4ed77_sector.npy from cache\n",
      "[2024-07-28 21:00:16] INFO: load term-2023-03-22_2024-06-27_screen_90550a3cdade4aae99d6d6f4aab4ed77_adv.npy from cache\n",
      "[2024-07-28 21:00:16] INFO: load term-2023-03-22_2024-06-27_screen_90550a3cdade4aae99d6d6f4aab4ed77_mkt_cap.npy from cache\n",
      "[2024-07-28 21:00:16] INFO: load term-2023-03-22_2024-06-27_screen_90550a3cdade4aae99d6d6f4aab4ed77_screen_90550a3cdade4aae99d6d6f4aab4ed77.npy from cache\n",
      "[2024-07-28 21:00:16] INFO: Load root mask file: root-2024-06-28_2024-07-10_XNYS_US_199.pkl\n",
      "[2024-07-28 21:00:16] INFO: load term-2023-09-13_2024-07-10_screen_90550a3cdade4aae99d6d6f4aab4ed77_Close.npy from cache\n",
      "[2024-07-28 21:00:16] INFO: load term-2023-09-13_2024-07-10_screen_90550a3cdade4aae99d6d6f4aab4ed77_sector.npy from cache\n",
      "[2024-07-28 21:00:16] INFO: load term-2023-09-13_2024-07-10_screen_90550a3cdade4aae99d6d6f4aab4ed77_adv.npy from cache\n",
      "[2024-07-28 21:00:16] INFO: load term-2023-09-13_2024-07-10_screen_90550a3cdade4aae99d6d6f4aab4ed77_mkt_cap.npy from cache\n",
      "[2024-07-28 21:00:16] INFO: load term-2023-09-13_2024-07-10_screen_90550a3cdade4aae99d6d6f4aab4ed77_screen_90550a3cdade4aae99d6d6f4aab4ed77.npy from cache\n"
     ]
    },
    {
     "data": {
      "text/plain": [
       "(277475, 4)"
      ]
     },
     "execution_count": 17,
     "metadata": {},
     "output_type": "execute_result"
    }
   ],
   "source": [
    "min_percentile = 20\n",
    "def TradableStocksUS_Var_20():\n",
    "    return (\n",
    "        (StocksUS()) &\n",
    "        (AverageDollarVolume(window_length=200).percentile_between(min_percentile, 100, mask=StocksUS())) &\n",
    "        (MarketCap().percentile_between(min_percentile, 100, mask=StocksUS()))\n",
    "    )\n",
    "\n",
    "pipe = Pipeline(columns=pipe_columns, screen = TradableStocksUS_Var_20())\n",
    "\n",
    "stocks_tradable_var20 = spe.run_pipeline(pipe, pipe_date, pipe_end, hooks=no_hooks)\n",
    "stocks_tradable_var20.shape"
   ]
  },
  {
   "cell_type": "code",
   "execution_count": 18,
   "metadata": {},
   "outputs": [
    {
     "data": {
      "text/html": [
       "<div>\n",
       "<style scoped>\n",
       "    .dataframe tbody tr th:only-of-type {\n",
       "        vertical-align: middle;\n",
       "    }\n",
       "\n",
       "    .dataframe tbody tr th {\n",
       "        vertical-align: top;\n",
       "    }\n",
       "\n",
       "    .dataframe thead th {\n",
       "        text-align: right;\n",
       "    }\n",
       "</style>\n",
       "<table border=\"1\" class=\"dataframe\">\n",
       "  <thead>\n",
       "    <tr style=\"text-align: right;\">\n",
       "      <th></th>\n",
       "      <th></th>\n",
       "      <th>Close</th>\n",
       "      <th>sector</th>\n",
       "      <th>adv</th>\n",
       "      <th>mkt_cap</th>\n",
       "    </tr>\n",
       "  </thead>\n",
       "  <tbody>\n",
       "    <tr>\n",
       "      <th rowspan=\"5\" valign=\"top\">2024-01-05</th>\n",
       "      <th>Equity(105149 [FNGR])</th>\n",
       "      <td>3.660</td>\n",
       "      <td>Communication Services</td>\n",
       "      <td>3.302633e+06</td>\n",
       "      <td>1.955000e+08</td>\n",
       "    </tr>\n",
       "    <tr>\n",
       "      <th>Equity(108216 [AUID])</th>\n",
       "      <td>10.160</td>\n",
       "      <td>Technology</td>\n",
       "      <td>1.059212e+05</td>\n",
       "      <td>7.640000e+07</td>\n",
       "    </tr>\n",
       "    <tr>\n",
       "      <th>Equity(108271 [MAMA])</th>\n",
       "      <td>4.700</td>\n",
       "      <td>Consumer Defensive</td>\n",
       "      <td>1.060988e+06</td>\n",
       "      <td>1.770000e+08</td>\n",
       "    </tr>\n",
       "    <tr>\n",
       "      <th>Equity(108504 [NE])</th>\n",
       "      <td>47.390</td>\n",
       "      <td>Energy</td>\n",
       "      <td>5.865292e+07</td>\n",
       "      <td>6.738200e+09</td>\n",
       "    </tr>\n",
       "    <tr>\n",
       "      <th>Equity(108805 [OPXS])</th>\n",
       "      <td>6.520</td>\n",
       "      <td>Industrials</td>\n",
       "      <td>7.532210e+04</td>\n",
       "      <td>4.290000e+07</td>\n",
       "    </tr>\n",
       "    <tr>\n",
       "      <th>...</th>\n",
       "      <th>...</th>\n",
       "      <td>...</td>\n",
       "      <td>...</td>\n",
       "      <td>...</td>\n",
       "      <td>...</td>\n",
       "    </tr>\n",
       "    <tr>\n",
       "      <th rowspan=\"5\" valign=\"top\">2024-07-10</th>\n",
       "      <th>Equity(641966 [GRAL])</th>\n",
       "      <td>14.015</td>\n",
       "      <td>Healthcare</td>\n",
       "      <td>2.952446e+06</td>\n",
       "      <td>4.316000e+08</td>\n",
       "    </tr>\n",
       "    <tr>\n",
       "      <th>Equity(641986 [WBTN])</th>\n",
       "      <td>20.340</td>\n",
       "      <td>Technology</td>\n",
       "      <td>1.573965e+06</td>\n",
       "      <td>2.542700e+09</td>\n",
       "    </tr>\n",
       "    <tr>\n",
       "      <th>Equity(641989 [LSH])</th>\n",
       "      <td>3.760</td>\n",
       "      <td>Industrials</td>\n",
       "      <td>2.989175e+04</td>\n",
       "      <td>2.720000e+07</td>\n",
       "    </tr>\n",
       "    <tr>\n",
       "      <th>Equity(641994 [LB])</th>\n",
       "      <td>27.320</td>\n",
       "      <td>Energy</td>\n",
       "      <td>8.223840e+05</td>\n",
       "      <td>4.053000e+08</td>\n",
       "    </tr>\n",
       "    <tr>\n",
       "      <th>Equity(642026 [SW])</th>\n",
       "      <td>44.830</td>\n",
       "      <td>Consumer Cyclical</td>\n",
       "      <td>1.822228e+07</td>\n",
       "      <td>2.367580e+10</td>\n",
       "    </tr>\n",
       "  </tbody>\n",
       "</table>\n",
       "<p>277475 rows × 4 columns</p>\n",
       "</div>"
      ],
      "text/plain": [
       "                                   Close                  sector  \\\n",
       "2024-01-05 Equity(105149 [FNGR])   3.660  Communication Services   \n",
       "           Equity(108216 [AUID])  10.160              Technology   \n",
       "           Equity(108271 [MAMA])   4.700      Consumer Defensive   \n",
       "           Equity(108504 [NE])    47.390                  Energy   \n",
       "           Equity(108805 [OPXS])   6.520             Industrials   \n",
       "...                                  ...                     ...   \n",
       "2024-07-10 Equity(641966 [GRAL])  14.015              Healthcare   \n",
       "           Equity(641986 [WBTN])  20.340              Technology   \n",
       "           Equity(641989 [LSH])    3.760             Industrials   \n",
       "           Equity(641994 [LB])    27.320                  Energy   \n",
       "           Equity(642026 [SW])    44.830       Consumer Cyclical   \n",
       "\n",
       "                                           adv       mkt_cap  \n",
       "2024-01-05 Equity(105149 [FNGR])  3.302633e+06  1.955000e+08  \n",
       "           Equity(108216 [AUID])  1.059212e+05  7.640000e+07  \n",
       "           Equity(108271 [MAMA])  1.060988e+06  1.770000e+08  \n",
       "           Equity(108504 [NE])    5.865292e+07  6.738200e+09  \n",
       "           Equity(108805 [OPXS])  7.532210e+04  4.290000e+07  \n",
       "...                                        ...           ...  \n",
       "2024-07-10 Equity(641966 [GRAL])  2.952446e+06  4.316000e+08  \n",
       "           Equity(641986 [WBTN])  1.573965e+06  2.542700e+09  \n",
       "           Equity(641989 [LSH])   2.989175e+04  2.720000e+07  \n",
       "           Equity(641994 [LB])    8.223840e+05  4.053000e+08  \n",
       "           Equity(642026 [SW])    1.822228e+07  2.367580e+10  \n",
       "\n",
       "[277475 rows x 4 columns]"
      ]
     },
     "execution_count": 18,
     "metadata": {},
     "output_type": "execute_result"
    }
   ],
   "source": [
    "stocks_tradable_var20"
   ]
  },
  {
   "cell_type": "code",
   "execution_count": 19,
   "metadata": {},
   "outputs": [
    {
     "name": "stdout",
     "output_type": "stream",
     "text": [
      "<class 'pandas.core.frame.DataFrame'>\n",
      "MultiIndex: 277475 entries, (Timestamp('2024-01-05 00:00:00'), Equity(105149 [FNGR])) to (Timestamp('2024-07-10 00:00:00'), Equity(642026 [SW]))\n",
      "Data columns (total 4 columns):\n",
      " #   Column   Non-Null Count   Dtype   \n",
      "---  ------   --------------   -----   \n",
      " 0   Close    277475 non-null  float64 \n",
      " 1   sector   277475 non-null  category\n",
      " 2   adv      277475 non-null  float64 \n",
      " 3   mkt_cap  277475 non-null  float64 \n",
      "dtypes: category(1), float64(3)\n",
      "memory usage: 8.3+ MB\n"
     ]
    }
   ],
   "source": [
    "stocks_tradable_var20.info()"
   ]
  },
  {
   "cell_type": "markdown",
   "metadata": {},
   "source": [
    "### Write Universe\n"
   ]
  },
  {
   "cell_type": "code",
   "execution_count": 20,
   "metadata": {},
   "outputs": [],
   "source": [
    "pipe_date = pd.to_datetime('2019-01-07', utc=False)\n",
    "pipe_end = pd.to_datetime('2024-07-18', utc=False)"
   ]
  },
  {
   "cell_type": "code",
   "execution_count": 21,
   "metadata": {},
   "outputs": [
    {
     "name": "stdout",
     "output_type": "stream",
     "text": [
      "[2024-07-28 21:00:16] INFO: Computing pipeline from 2019-01-07 00:00:00 to 2024-07-18 00:00:00...\n",
      "[2024-07-28 21:00:16] INFO: Save root mask file: root-2019-01-07_2019-06-27_XNYS_US_0.pkl\n",
      "Pipeline from 2019-01-07 to 2019-06-27\n",
      "[2024-07-28 21:00:18] INFO: save term-2019-01-07_2019-06-27_screen_90550a3cdade4aae99d6d6f4aab4ed77_screen_90550a3cdade4aae99d6d6f4aab4ed77.npy to cache\n",
      "[2024-07-28 21:00:18] INFO: Save root mask file: root-2019-06-28_2019-12-17_XNYS_US_0.pkl\n",
      "Pipeline from 2019-06-28 to 2019-12-17\n",
      "[2024-07-28 21:00:20] INFO: save term-2019-06-28_2019-12-17_screen_90550a3cdade4aae99d6d6f4aab4ed77_screen_90550a3cdade4aae99d6d6f4aab4ed77.npy to cache\n",
      "[2024-07-28 21:00:20] INFO: Save root mask file: root-2019-12-18_2020-06-10_XNYS_US_0.pkl\n",
      "Pipeline from 2019-12-18 to 2020-06-10\n",
      "[2024-07-28 21:01:00] INFO: save term-2019-12-18_2020-06-10_screen_90550a3cdade4aae99d6d6f4aab4ed77_screen_90550a3cdade4aae99d6d6f4aab4ed77.npy to cache\n",
      "[2024-07-28 21:01:00] INFO: Save root mask file: root-2020-06-11_2020-11-30_XNYS_US_0.pkl\n",
      "Pipeline from 2020-06-11 to 2020-11-30\n",
      "[2024-07-28 21:01:48] INFO: save term-2020-06-11_2020-11-30_screen_90550a3cdade4aae99d6d6f4aab4ed77_screen_90550a3cdade4aae99d6d6f4aab4ed77.npy to cache\n",
      "[2024-07-28 21:01:48] INFO: Save root mask file: root-2020-12-01_2021-05-24_XNYS_US_0.pkl\n",
      "Pipeline from 2020-12-01 to 2021-05-24\n",
      "[2024-07-28 21:02:39] INFO: save term-2020-12-01_2021-05-24_screen_90550a3cdade4aae99d6d6f4aab4ed77_screen_90550a3cdade4aae99d6d6f4aab4ed77.npy to cache\n",
      "[2024-07-28 21:02:40] INFO: Save root mask file: root-2021-05-25_2021-11-11_XNYS_US_0.pkl\n",
      "Pipeline from 2021-05-25 to 2021-11-11\n",
      "[2024-07-28 21:03:51] INFO: save term-2021-05-25_2021-11-11_screen_90550a3cdade4aae99d6d6f4aab4ed77_screen_90550a3cdade4aae99d6d6f4aab4ed77.npy to cache\n",
      "[2024-07-28 21:03:51] INFO: Save root mask file: root-2021-11-12_2022-05-05_XNYS_US_0.pkl\n",
      "Pipeline from 2021-11-12 to 2022-05-05\n",
      "[2024-07-28 21:04:55] INFO: save term-2021-11-12_2022-05-05_screen_90550a3cdade4aae99d6d6f4aab4ed77_screen_90550a3cdade4aae99d6d6f4aab4ed77.npy to cache\n",
      "[2024-07-28 21:04:55] INFO: Save root mask file: root-2022-05-06_2022-10-26_XNYS_US_0.pkl\n",
      "Pipeline from 2022-05-06 to 2022-10-26\n",
      "[2024-07-28 21:05:56] INFO: save term-2022-05-06_2022-10-26_screen_90550a3cdade4aae99d6d6f4aab4ed77_screen_90550a3cdade4aae99d6d6f4aab4ed77.npy to cache\n",
      "[2024-07-28 21:05:56] INFO: Save root mask file: root-2022-10-27_2023-04-20_XNYS_US_0.pkl\n",
      "Pipeline from 2022-10-27 to 2023-04-20\n",
      "[2024-07-28 21:06:54] INFO: save term-2022-10-27_2023-04-20_screen_90550a3cdade4aae99d6d6f4aab4ed77_screen_90550a3cdade4aae99d6d6f4aab4ed77.npy to cache\n",
      "[2024-07-28 21:06:54] INFO: Save root mask file: root-2023-04-21_2023-10-11_XNYS_US_0.pkl\n",
      "Pipeline from 2023-04-21 to 2023-10-11\n",
      "[2024-07-28 21:08:00] INFO: save term-2023-04-21_2023-10-11_screen_90550a3cdade4aae99d6d6f4aab4ed77_screen_90550a3cdade4aae99d6d6f4aab4ed77.npy to cache\n",
      "[2024-07-28 21:08:00] INFO: Save root mask file: root-2023-10-12_2024-04-04_XNYS_US_0.pkl\n",
      "Pipeline from 2023-10-12 to 2024-04-04\n",
      "[2024-07-28 21:08:30] INFO: save term-2023-10-12_2024-04-04_screen_90550a3cdade4aae99d6d6f4aab4ed77_screen_90550a3cdade4aae99d6d6f4aab4ed77.npy to cache\n",
      "[2024-07-28 21:08:30] INFO: Save root mask file: root-2024-04-05_2024-07-18_XNYS_US_0.pkl\n",
      "Pipeline from 2024-04-05 to 2024-07-18\n",
      "[2024-07-28 21:08:36] INFO: save term-2024-04-05_2024-07-18_screen_90550a3cdade4aae99d6d6f4aab4ed77_screen_90550a3cdade4aae99d6d6f4aab4ed77.npy to cache\n",
      "[2024-07-28 21:08:36] INFO: Pipeline from 2024-04-05 to 2024-07-18 completed in 0:08:19.\n",
      "[2024-07-28 21:08:36] INFO: Inserting 3202031 SIDs...\n",
      "\n",
      "[2024-07-28 21:08:52] INFO: Universe 'tradable_stocks_us' successful created/updated\n",
      "[108216 108271 108504 ... 640627 640712 640789]\n",
      "[]\n",
      "[2024-07-28 21:08:52] INFO: Save root mask file: root-2019-01-07_2019-06-27_XNYS_US_0.pkl\n",
      "Pipeline from 2019-01-07 to 2019-06-27\n",
      "[2024-07-28 21:08:53] INFO: save term-2019-01-07_2019-06-27_screen_90550a3cdade4aae99d6d6f4aab4ed77_Close.npy to cache\n",
      "[2024-07-28 21:08:53] INFO: save term-2019-01-07_2019-06-27_screen_90550a3cdade4aae99d6d6f4aab4ed77_screen_90550a3cdade4aae99d6d6f4aab4ed77.npy to cache\n",
      "[2024-07-28 21:08:53] INFO: Save root mask file: root-2019-06-28_2019-12-17_XNYS_US_0.pkl\n",
      "Pipeline from 2019-06-28 to 2019-12-17\n",
      "[2024-07-28 21:08:55] INFO: save term-2019-06-28_2019-12-17_screen_90550a3cdade4aae99d6d6f4aab4ed77_Close.npy to cache\n",
      "[2024-07-28 21:08:55] INFO: save term-2019-06-28_2019-12-17_screen_90550a3cdade4aae99d6d6f4aab4ed77_screen_90550a3cdade4aae99d6d6f4aab4ed77.npy to cache\n",
      "[2024-07-28 21:08:55] INFO: Save root mask file: root-2019-12-18_2020-06-10_XNYS_US_0.pkl\n",
      "Pipeline from 2019-12-18 to 2020-06-10\n",
      "[2024-07-28 21:08:56] INFO: save term-2019-12-18_2020-06-10_screen_90550a3cdade4aae99d6d6f4aab4ed77_Close.npy to cache\n",
      "[2024-07-28 21:08:56] INFO: save term-2019-12-18_2020-06-10_screen_90550a3cdade4aae99d6d6f4aab4ed77_screen_90550a3cdade4aae99d6d6f4aab4ed77.npy to cache\n",
      "[2024-07-28 21:08:56] INFO: Save root mask file: root-2020-06-11_2020-11-30_XNYS_US_0.pkl\n",
      "Pipeline from 2020-06-11 to 2020-11-30\n",
      "[2024-07-28 21:08:57] INFO: save term-2020-06-11_2020-11-30_screen_90550a3cdade4aae99d6d6f4aab4ed77_Close.npy to cache\n",
      "[2024-07-28 21:08:57] INFO: save term-2020-06-11_2020-11-30_screen_90550a3cdade4aae99d6d6f4aab4ed77_screen_90550a3cdade4aae99d6d6f4aab4ed77.npy to cache\n",
      "[2024-07-28 21:08:57] INFO: Save root mask file: root-2020-12-01_2021-05-24_XNYS_US_0.pkl\n",
      "Pipeline from 2020-12-01 to 2021-05-24\n",
      "[2024-07-28 21:08:58] INFO: save term-2020-12-01_2021-05-24_screen_90550a3cdade4aae99d6d6f4aab4ed77_Close.npy to cache\n",
      "[2024-07-28 21:08:58] INFO: save term-2020-12-01_2021-05-24_screen_90550a3cdade4aae99d6d6f4aab4ed77_screen_90550a3cdade4aae99d6d6f4aab4ed77.npy to cache\n",
      "[2024-07-28 21:08:58] INFO: Save root mask file: root-2021-05-25_2021-11-11_XNYS_US_0.pkl\n",
      "Pipeline from 2021-05-25 to 2021-11-11\n",
      "[2024-07-28 21:09:00] INFO: save term-2021-05-25_2021-11-11_screen_90550a3cdade4aae99d6d6f4aab4ed77_Close.npy to cache\n",
      "[2024-07-28 21:09:00] INFO: save term-2021-05-25_2021-11-11_screen_90550a3cdade4aae99d6d6f4aab4ed77_screen_90550a3cdade4aae99d6d6f4aab4ed77.npy to cache\n",
      "[2024-07-28 21:09:00] INFO: Save root mask file: root-2021-11-12_2022-05-05_XNYS_US_0.pkl\n",
      "Pipeline from 2021-11-12 to 2022-05-05\n",
      "[2024-07-28 21:09:01] INFO: save term-2021-11-12_2022-05-05_screen_90550a3cdade4aae99d6d6f4aab4ed77_Close.npy to cache\n",
      "[2024-07-28 21:09:01] INFO: save term-2021-11-12_2022-05-05_screen_90550a3cdade4aae99d6d6f4aab4ed77_screen_90550a3cdade4aae99d6d6f4aab4ed77.npy to cache\n",
      "[2024-07-28 21:09:01] INFO: Save root mask file: root-2022-05-06_2022-10-26_XNYS_US_0.pkl\n",
      "Pipeline from 2022-05-06 to 2022-10-26\n",
      "[2024-07-28 21:09:03] INFO: save term-2022-05-06_2022-10-26_screen_90550a3cdade4aae99d6d6f4aab4ed77_Close.npy to cache\n",
      "[2024-07-28 21:09:03] INFO: save term-2022-05-06_2022-10-26_screen_90550a3cdade4aae99d6d6f4aab4ed77_screen_90550a3cdade4aae99d6d6f4aab4ed77.npy to cache\n",
      "[2024-07-28 21:09:03] INFO: Save root mask file: root-2022-10-27_2023-04-20_XNYS_US_0.pkl\n",
      "Pipeline from 2022-10-27 to 2023-04-20\n",
      "[2024-07-28 21:09:04] INFO: save term-2022-10-27_2023-04-20_screen_90550a3cdade4aae99d6d6f4aab4ed77_Close.npy to cache\n",
      "[2024-07-28 21:09:04] INFO: save term-2022-10-27_2023-04-20_screen_90550a3cdade4aae99d6d6f4aab4ed77_screen_90550a3cdade4aae99d6d6f4aab4ed77.npy to cache\n",
      "[2024-07-28 21:09:04] INFO: Save root mask file: root-2023-04-21_2023-10-11_XNYS_US_0.pkl\n",
      "Pipeline from 2023-04-21 to 2023-10-11\n",
      "[2024-07-28 21:09:06] INFO: save term-2023-04-21_2023-10-11_screen_90550a3cdade4aae99d6d6f4aab4ed77_Close.npy to cache\n",
      "[2024-07-28 21:09:06] INFO: save term-2023-04-21_2023-10-11_screen_90550a3cdade4aae99d6d6f4aab4ed77_screen_90550a3cdade4aae99d6d6f4aab4ed77.npy to cache\n",
      "[2024-07-28 21:09:06] INFO: Save root mask file: root-2023-10-12_2024-04-04_XNYS_US_0.pkl\n",
      "Pipeline from 2023-10-12 to 2024-04-04\n",
      "[2024-07-28 21:09:07] INFO: save term-2023-10-12_2024-04-04_screen_90550a3cdade4aae99d6d6f4aab4ed77_Close.npy to cache\n",
      "[2024-07-28 21:09:07] INFO: save term-2023-10-12_2024-04-04_screen_90550a3cdade4aae99d6d6f4aab4ed77_screen_90550a3cdade4aae99d6d6f4aab4ed77.npy to cache\n",
      "[2024-07-28 21:09:07] INFO: Save root mask file: root-2024-04-05_2024-07-18_XNYS_US_0.pkl\n",
      "Pipeline from 2024-04-05 to 2024-07-18\n",
      "[2024-07-28 21:09:07] INFO: save term-2024-04-05_2024-07-18_screen_90550a3cdade4aae99d6d6f4aab4ed77_Close.npy to cache\n",
      "[2024-07-28 21:09:07] INFO: save term-2024-04-05_2024-07-18_screen_90550a3cdade4aae99d6d6f4aab4ed77_screen_90550a3cdade4aae99d6d6f4aab4ed77.npy to cache\n",
      "[2024-07-28 21:09:07] INFO: Pipeline from 2024-04-05 to 2024-07-18 completed in 0:00:15.\n",
      "                                    Close\n",
      "2019-01-07 Equity(109765 [CRAWA])   10.35\n",
      "           Equity(113489 [WRAP])     3.25\n",
      "           Equity(113508 [ETRN])    20.74\n",
      "           Equity(113509 [ACA])     29.01\n",
      "           Equity(113510 [AMR])     64.98\n",
      "...                                   ...\n",
      "2024-07-18 Equity(641986 [WBTN])    20.50\n",
      "           Equity(641989 [LSH])      3.06\n",
      "           Equity(641994 [LB])      27.15\n",
      "           Equity(642026 [SW])      47.85\n",
      "           Equity(642054 [TLN])    119.50\n",
      "\n",
      "[3202031 rows x 1 columns]\n"
     ]
    }
   ],
   "source": [
    "# write universe TRADABLE_STOCKS_US\n",
    "\n",
    "screen = StocksUS()\n",
    "universes_db_path = os.path.join(output_dir(), \"universes.sqlite\")\n",
    "universe_name = TRADABLE_STOCKS_US\n",
    "UniverseWriter(universes_db_path).write(universe_name, screen, pipe_date, pipe_end)\n",
    "sids = UniverseReader(universes_db_path).get_sid(universe_name, '2024-02-07')\n",
    "print(sids)\n",
    "sids = UniverseReader(universes_db_path).get_sid(universe_name, '2002-02-07')\n",
    "print(sids)\n",
    "spe = make_pipeline_engine()\n",
    "pipe = Pipeline(columns={\n",
    "    'Close': USEquityPricing.close.latest,\n",
    "},\n",
    "    screen=NamedUniverse(TRADABLE_STOCKS_US)\n",
    ")\n",
    "stocks = spe.run_pipeline(pipe, pipe_date, pipe_end)\n",
    "print(stocks)"
   ]
  },
  {
   "cell_type": "code",
   "execution_count": 22,
   "metadata": {},
   "outputs": [
    {
     "data": {
      "text/plain": [
       "'tradable_stocks_us_fix'"
      ]
     },
     "execution_count": 22,
     "metadata": {},
     "output_type": "execute_result"
    }
   ],
   "source": [
    "TRADABLE_STOCKS_US + '_fix'"
   ]
  },
  {
   "cell_type": "code",
   "execution_count": 23,
   "metadata": {},
   "outputs": [
    {
     "name": "stdout",
     "output_type": "stream",
     "text": [
      "[2024-07-28 21:09:07] INFO: Computing pipeline from 2019-01-07 00:00:00 to 2024-07-18 00:00:00...\n",
      "[2024-07-28 21:09:07] INFO: Save root mask file: root-2019-01-07_2019-06-27_XNYS_US_199.pkl\n",
      "Pipeline from 2019-01-07 to 2019-06-27\n",
      "[2024-07-28 21:09:13] INFO: save term-2018-03-22_2019-06-27_screen_90550a3cdade4aae99d6d6f4aab4ed77_screen_90550a3cdade4aae99d6d6f4aab4ed77.npy to cache\n",
      "[2024-07-28 21:09:13] INFO: Save root mask file: root-2019-06-28_2019-12-17_XNYS_US_199.pkl\n",
      "Pipeline from 2019-06-28 to 2019-12-17\n",
      "[2024-07-28 21:09:18] INFO: save term-2018-09-12_2019-12-17_screen_90550a3cdade4aae99d6d6f4aab4ed77_screen_90550a3cdade4aae99d6d6f4aab4ed77.npy to cache\n",
      "[2024-07-28 21:09:18] INFO: Save root mask file: root-2019-12-18_2020-06-10_XNYS_US_199.pkl\n",
      "Pipeline from 2019-12-18 to 2020-06-10\n",
      "[2024-07-28 21:09:23] INFO: save term-2019-03-07_2020-06-10_screen_90550a3cdade4aae99d6d6f4aab4ed77_screen_90550a3cdade4aae99d6d6f4aab4ed77.npy to cache\n",
      "[2024-07-28 21:09:23] INFO: Save root mask file: root-2020-06-11_2020-11-30_XNYS_US_199.pkl\n",
      "Pipeline from 2020-06-11 to 2020-11-30\n",
      "[2024-07-28 21:09:38] INFO: save term-2019-08-27_2020-11-30_screen_90550a3cdade4aae99d6d6f4aab4ed77_screen_90550a3cdade4aae99d6d6f4aab4ed77.npy to cache\n",
      "[2024-07-28 21:09:38] INFO: Save root mask file: root-2020-12-01_2021-05-24_XNYS_US_199.pkl\n",
      "Pipeline from 2020-12-01 to 2021-05-24\n",
      "[2024-07-28 21:09:50] INFO: save term-2020-02-19_2021-05-24_screen_90550a3cdade4aae99d6d6f4aab4ed77_screen_90550a3cdade4aae99d6d6f4aab4ed77.npy to cache\n",
      "[2024-07-28 21:09:50] INFO: Save root mask file: root-2021-05-25_2021-11-11_XNYS_US_199.pkl\n",
      "Pipeline from 2021-05-25 to 2021-11-11\n",
      "[2024-07-28 21:10:03] INFO: save term-2020-08-10_2021-11-11_screen_90550a3cdade4aae99d6d6f4aab4ed77_screen_90550a3cdade4aae99d6d6f4aab4ed77.npy to cache\n",
      "[2024-07-28 21:10:03] INFO: Save root mask file: root-2021-11-12_2022-05-05_XNYS_US_199.pkl\n",
      "Pipeline from 2021-11-12 to 2022-05-05\n",
      "[2024-07-28 21:10:17] INFO: save term-2021-02-01_2022-05-05_screen_90550a3cdade4aae99d6d6f4aab4ed77_screen_90550a3cdade4aae99d6d6f4aab4ed77.npy to cache\n",
      "[2024-07-28 21:10:17] INFO: Save root mask file: root-2022-05-06_2022-10-26_XNYS_US_199.pkl\n",
      "Pipeline from 2022-05-06 to 2022-10-26\n",
      "[2024-07-28 21:10:31] INFO: save term-2021-07-23_2022-10-26_screen_90550a3cdade4aae99d6d6f4aab4ed77_screen_90550a3cdade4aae99d6d6f4aab4ed77.npy to cache\n",
      "[2024-07-28 21:10:31] INFO: Save root mask file: root-2022-10-27_2023-04-20_XNYS_US_199.pkl\n",
      "Pipeline from 2022-10-27 to 2023-04-20\n",
      "[2024-07-28 21:10:44] INFO: save term-2022-01-12_2023-04-20_screen_90550a3cdade4aae99d6d6f4aab4ed77_screen_90550a3cdade4aae99d6d6f4aab4ed77.npy to cache\n",
      "[2024-07-28 21:10:44] INFO: Save root mask file: root-2023-04-21_2023-10-11_XNYS_US_199.pkl\n",
      "Pipeline from 2023-04-21 to 2023-10-11\n",
      "[2024-07-28 21:10:56] INFO: save term-2022-07-07_2023-10-11_screen_90550a3cdade4aae99d6d6f4aab4ed77_screen_90550a3cdade4aae99d6d6f4aab4ed77.npy to cache\n",
      "[2024-07-28 21:10:56] INFO: Save root mask file: root-2023-10-12_2024-04-04_XNYS_US_199.pkl\n",
      "Pipeline from 2023-10-12 to 2024-04-04\n",
      "[2024-07-28 21:11:05] INFO: save term-2022-12-27_2024-04-04_screen_90550a3cdade4aae99d6d6f4aab4ed77_screen_90550a3cdade4aae99d6d6f4aab4ed77.npy to cache\n",
      "[2024-07-28 21:11:05] INFO: Save root mask file: root-2024-04-05_2024-07-18_XNYS_US_199.pkl\n",
      "Pipeline from 2024-04-05 to 2024-07-18\n",
      "[2024-07-28 21:11:10] INFO: save term-2023-06-21_2024-07-18_screen_90550a3cdade4aae99d6d6f4aab4ed77_screen_90550a3cdade4aae99d6d6f4aab4ed77.npy to cache\n",
      "[2024-07-28 21:11:10] INFO: Pipeline from 2024-04-05 to 2024-07-18 completed in 0:02:02.\n",
      "[2024-07-28 21:11:10] INFO: Inserting 2403607 SIDs...\n",
      "\n",
      "[2024-07-28 21:11:22] INFO: Universe 'tradable_stocks_us_fix' successful created/updated\n",
      "[108504 109811 109984 ... 640538 640539 640590]\n",
      "[]\n",
      "[2024-07-28 21:11:22] INFO: Save root mask file: root-2019-01-07_2019-06-27_XNYS_US_0.pkl\n",
      "Pipeline from 2019-01-07 to 2019-06-27\n",
      "[2024-07-28 21:11:23] INFO: save term-2019-01-07_2019-06-27_screen_90550a3cdade4aae99d6d6f4aab4ed77_Close.npy to cache\n",
      "[2024-07-28 21:11:23] INFO: save term-2019-01-07_2019-06-27_screen_90550a3cdade4aae99d6d6f4aab4ed77_screen_90550a3cdade4aae99d6d6f4aab4ed77.npy to cache\n",
      "[2024-07-28 21:11:23] INFO: Save root mask file: root-2019-06-28_2019-12-17_XNYS_US_0.pkl\n",
      "Pipeline from 2019-06-28 to 2019-12-17\n",
      "[2024-07-28 21:11:24] INFO: save term-2019-06-28_2019-12-17_screen_90550a3cdade4aae99d6d6f4aab4ed77_Close.npy to cache\n",
      "[2024-07-28 21:11:24] INFO: save term-2019-06-28_2019-12-17_screen_90550a3cdade4aae99d6d6f4aab4ed77_screen_90550a3cdade4aae99d6d6f4aab4ed77.npy to cache\n",
      "[2024-07-28 21:11:24] INFO: Save root mask file: root-2019-12-18_2020-06-10_XNYS_US_0.pkl\n",
      "Pipeline from 2019-12-18 to 2020-06-10\n",
      "[2024-07-28 21:11:25] INFO: save term-2019-12-18_2020-06-10_screen_90550a3cdade4aae99d6d6f4aab4ed77_Close.npy to cache\n",
      "[2024-07-28 21:11:25] INFO: save term-2019-12-18_2020-06-10_screen_90550a3cdade4aae99d6d6f4aab4ed77_screen_90550a3cdade4aae99d6d6f4aab4ed77.npy to cache\n",
      "[2024-07-28 21:11:25] INFO: Save root mask file: root-2020-06-11_2020-11-30_XNYS_US_0.pkl\n",
      "Pipeline from 2020-06-11 to 2020-11-30\n",
      "[2024-07-28 21:11:26] INFO: save term-2020-06-11_2020-11-30_screen_90550a3cdade4aae99d6d6f4aab4ed77_Close.npy to cache\n",
      "[2024-07-28 21:11:26] INFO: save term-2020-06-11_2020-11-30_screen_90550a3cdade4aae99d6d6f4aab4ed77_screen_90550a3cdade4aae99d6d6f4aab4ed77.npy to cache\n",
      "[2024-07-28 21:11:26] INFO: Save root mask file: root-2020-12-01_2021-05-24_XNYS_US_0.pkl\n",
      "Pipeline from 2020-12-01 to 2021-05-24\n",
      "[2024-07-28 21:11:27] INFO: save term-2020-12-01_2021-05-24_screen_90550a3cdade4aae99d6d6f4aab4ed77_Close.npy to cache\n",
      "[2024-07-28 21:11:27] INFO: save term-2020-12-01_2021-05-24_screen_90550a3cdade4aae99d6d6f4aab4ed77_screen_90550a3cdade4aae99d6d6f4aab4ed77.npy to cache\n",
      "[2024-07-28 21:11:27] INFO: Save root mask file: root-2021-05-25_2021-11-11_XNYS_US_0.pkl\n",
      "Pipeline from 2021-05-25 to 2021-11-11\n",
      "[2024-07-28 21:11:28] INFO: save term-2021-05-25_2021-11-11_screen_90550a3cdade4aae99d6d6f4aab4ed77_Close.npy to cache\n",
      "[2024-07-28 21:11:28] INFO: save term-2021-05-25_2021-11-11_screen_90550a3cdade4aae99d6d6f4aab4ed77_screen_90550a3cdade4aae99d6d6f4aab4ed77.npy to cache\n",
      "[2024-07-28 21:11:28] INFO: Save root mask file: root-2021-11-12_2022-05-05_XNYS_US_0.pkl\n",
      "Pipeline from 2021-11-12 to 2022-05-05\n",
      "[2024-07-28 21:11:29] INFO: save term-2021-11-12_2022-05-05_screen_90550a3cdade4aae99d6d6f4aab4ed77_Close.npy to cache\n",
      "[2024-07-28 21:11:29] INFO: save term-2021-11-12_2022-05-05_screen_90550a3cdade4aae99d6d6f4aab4ed77_screen_90550a3cdade4aae99d6d6f4aab4ed77.npy to cache\n",
      "[2024-07-28 21:11:29] INFO: Save root mask file: root-2022-05-06_2022-10-26_XNYS_US_0.pkl\n",
      "Pipeline from 2022-05-06 to 2022-10-26\n",
      "[2024-07-28 21:11:30] INFO: save term-2022-05-06_2022-10-26_screen_90550a3cdade4aae99d6d6f4aab4ed77_Close.npy to cache\n",
      "[2024-07-28 21:11:30] INFO: save term-2022-05-06_2022-10-26_screen_90550a3cdade4aae99d6d6f4aab4ed77_screen_90550a3cdade4aae99d6d6f4aab4ed77.npy to cache\n",
      "[2024-07-28 21:11:30] INFO: Save root mask file: root-2022-10-27_2023-04-20_XNYS_US_0.pkl\n",
      "Pipeline from 2022-10-27 to 2023-04-20\n",
      "[2024-07-28 21:11:31] INFO: save term-2022-10-27_2023-04-20_screen_90550a3cdade4aae99d6d6f4aab4ed77_Close.npy to cache\n",
      "[2024-07-28 21:11:31] INFO: save term-2022-10-27_2023-04-20_screen_90550a3cdade4aae99d6d6f4aab4ed77_screen_90550a3cdade4aae99d6d6f4aab4ed77.npy to cache\n",
      "[2024-07-28 21:11:31] INFO: Save root mask file: root-2023-04-21_2023-10-11_XNYS_US_0.pkl\n",
      "Pipeline from 2023-04-21 to 2023-10-11\n",
      "[2024-07-28 21:11:32] INFO: save term-2023-04-21_2023-10-11_screen_90550a3cdade4aae99d6d6f4aab4ed77_Close.npy to cache\n",
      "[2024-07-28 21:11:32] INFO: save term-2023-04-21_2023-10-11_screen_90550a3cdade4aae99d6d6f4aab4ed77_screen_90550a3cdade4aae99d6d6f4aab4ed77.npy to cache\n",
      "[2024-07-28 21:11:32] INFO: Save root mask file: root-2023-10-12_2024-04-04_XNYS_US_0.pkl\n",
      "Pipeline from 2023-10-12 to 2024-04-04\n",
      "[2024-07-28 21:11:33] INFO: save term-2023-10-12_2024-04-04_screen_90550a3cdade4aae99d6d6f4aab4ed77_Close.npy to cache\n",
      "[2024-07-28 21:11:33] INFO: save term-2023-10-12_2024-04-04_screen_90550a3cdade4aae99d6d6f4aab4ed77_screen_90550a3cdade4aae99d6d6f4aab4ed77.npy to cache\n",
      "[2024-07-28 21:11:33] INFO: Save root mask file: root-2024-04-05_2024-07-18_XNYS_US_0.pkl\n",
      "Pipeline from 2024-04-05 to 2024-07-18\n",
      "[2024-07-28 21:11:34] INFO: save term-2024-04-05_2024-07-18_screen_90550a3cdade4aae99d6d6f4aab4ed77_Close.npy to cache\n",
      "[2024-07-28 21:11:34] INFO: save term-2024-04-05_2024-07-18_screen_90550a3cdade4aae99d6d6f4aab4ed77_screen_90550a3cdade4aae99d6d6f4aab4ed77.npy to cache\n",
      "[2024-07-28 21:11:34] INFO: Pipeline from 2024-04-05 to 2024-07-18 completed in 0:00:11.\n",
      "                                   Close\n",
      "2019-01-07 Equity(113508 [ETRN])   20.74\n",
      "           Equity(113509 [ACA])    29.01\n",
      "           Equity(113564 [REZI])   20.39\n",
      "           Equity(114216 [PLAN])   24.10\n",
      "           Equity(114232 [LTHM])   14.26\n",
      "...                                  ...\n",
      "2024-07-18 Equity(641699 [LOAR])   55.82\n",
      "           Equity(641912 [WAY])    22.40\n",
      "           Equity(641966 [GRAL])   19.82\n",
      "           Equity(642026 [SW])     47.85\n",
      "           Equity(642054 [TLN])   119.50\n",
      "\n",
      "[2403607 rows x 1 columns]\n"
     ]
    }
   ],
   "source": [
    "# write universe with fix filter for TRADABLE_STOCKS_US\n",
    "\n",
    "screen = TradableStocksUS_Fix()\n",
    "universes_db_path = os.path.join(output_dir(), \"universes.sqlite\")\n",
    "universe_name = TRADABLE_STOCKS_US + '_fix'\n",
    "UniverseWriter(universes_db_path).write(universe_name, screen, pipe_date, pipe_end)\n",
    "sids = UniverseReader(universes_db_path).get_sid(universe_name, '2024-02-07')\n",
    "print(sids)\n",
    "sids = UniverseReader(universes_db_path).get_sid(universe_name, '2002-02-07')\n",
    "print(sids)\n",
    "spe = make_pipeline_engine()\n",
    "pipe = Pipeline(columns={\n",
    "    'Close': USEquityPricing.close.latest,\n",
    "},\n",
    "    screen=NamedUniverse(universe_name)\n",
    ")\n",
    "stocks = spe.run_pipeline(pipe, pipe_date, pipe_end)\n",
    "print(stocks)"
   ]
  },
  {
   "cell_type": "code",
   "execution_count": 24,
   "metadata": {},
   "outputs": [
    {
     "data": {
      "text/plain": [
       "'tradable_stocks_us_var20'"
      ]
     },
     "execution_count": 24,
     "metadata": {},
     "output_type": "execute_result"
    }
   ],
   "source": [
    "TRADABLE_STOCKS_US + '_var20'"
   ]
  },
  {
   "cell_type": "code",
   "execution_count": 25,
   "metadata": {},
   "outputs": [
    {
     "name": "stdout",
     "output_type": "stream",
     "text": [
      "[2024-07-28 21:11:34] INFO: Computing pipeline from 2019-01-07 00:00:00 to 2024-07-18 00:00:00...\n",
      "[2024-07-28 21:11:34] INFO: Save root mask file: root-2019-01-07_2019-06-27_XNYS_US_199.pkl\n",
      "Pipeline from 2019-01-07 to 2019-06-27\n",
      "[2024-07-28 21:11:39] INFO: save term-2018-03-22_2019-06-27_screen_90550a3cdade4aae99d6d6f4aab4ed77_screen_90550a3cdade4aae99d6d6f4aab4ed77.npy to cache\n",
      "[2024-07-28 21:11:39] INFO: Save root mask file: root-2019-06-28_2019-12-17_XNYS_US_199.pkl\n",
      "Pipeline from 2019-06-28 to 2019-12-17\n",
      "[2024-07-28 21:11:45] INFO: save term-2018-09-12_2019-12-17_screen_90550a3cdade4aae99d6d6f4aab4ed77_screen_90550a3cdade4aae99d6d6f4aab4ed77.npy to cache\n",
      "[2024-07-28 21:11:45] INFO: Save root mask file: root-2019-12-18_2020-06-10_XNYS_US_199.pkl\n",
      "Pipeline from 2019-12-18 to 2020-06-10\n",
      "[2024-07-28 21:11:50] INFO: save term-2019-03-07_2020-06-10_screen_90550a3cdade4aae99d6d6f4aab4ed77_screen_90550a3cdade4aae99d6d6f4aab4ed77.npy to cache\n",
      "[2024-07-28 21:11:50] INFO: Save root mask file: root-2020-06-11_2020-11-30_XNYS_US_199.pkl\n",
      "Pipeline from 2020-06-11 to 2020-11-30\n",
      "[2024-07-28 21:11:55] INFO: save term-2019-08-27_2020-11-30_screen_90550a3cdade4aae99d6d6f4aab4ed77_screen_90550a3cdade4aae99d6d6f4aab4ed77.npy to cache\n",
      "[2024-07-28 21:11:55] INFO: Save root mask file: root-2020-12-01_2021-05-24_XNYS_US_199.pkl\n",
      "Pipeline from 2020-12-01 to 2021-05-24\n",
      "[2024-07-28 21:12:00] INFO: save term-2020-02-19_2021-05-24_screen_90550a3cdade4aae99d6d6f4aab4ed77_screen_90550a3cdade4aae99d6d6f4aab4ed77.npy to cache\n",
      "[2024-07-28 21:12:00] INFO: Save root mask file: root-2021-05-25_2021-11-11_XNYS_US_199.pkl\n",
      "Pipeline from 2021-05-25 to 2021-11-11\n",
      "[2024-07-28 21:12:06] INFO: save term-2020-08-10_2021-11-11_screen_90550a3cdade4aae99d6d6f4aab4ed77_screen_90550a3cdade4aae99d6d6f4aab4ed77.npy to cache\n",
      "[2024-07-28 21:12:06] INFO: Save root mask file: root-2021-11-12_2022-05-05_XNYS_US_199.pkl\n",
      "Pipeline from 2021-11-12 to 2022-05-05\n",
      "[2024-07-28 21:12:13] INFO: save term-2021-02-01_2022-05-05_screen_90550a3cdade4aae99d6d6f4aab4ed77_screen_90550a3cdade4aae99d6d6f4aab4ed77.npy to cache\n",
      "[2024-07-28 21:12:13] INFO: Save root mask file: root-2022-05-06_2022-10-26_XNYS_US_199.pkl\n",
      "Pipeline from 2022-05-06 to 2022-10-26\n",
      "[2024-07-28 21:12:20] INFO: save term-2021-07-23_2022-10-26_screen_90550a3cdade4aae99d6d6f4aab4ed77_screen_90550a3cdade4aae99d6d6f4aab4ed77.npy to cache\n",
      "[2024-07-28 21:12:20] INFO: Save root mask file: root-2022-10-27_2023-04-20_XNYS_US_199.pkl\n",
      "Pipeline from 2022-10-27 to 2023-04-20\n",
      "[2024-07-28 21:12:26] INFO: save term-2022-01-12_2023-04-20_screen_90550a3cdade4aae99d6d6f4aab4ed77_screen_90550a3cdade4aae99d6d6f4aab4ed77.npy to cache\n",
      "[2024-07-28 21:12:26] INFO: Save root mask file: root-2023-04-21_2023-10-11_XNYS_US_199.pkl\n",
      "Pipeline from 2023-04-21 to 2023-10-11\n",
      "[2024-07-28 21:12:33] INFO: save term-2022-07-07_2023-10-11_screen_90550a3cdade4aae99d6d6f4aab4ed77_screen_90550a3cdade4aae99d6d6f4aab4ed77.npy to cache\n",
      "[2024-07-28 21:12:33] INFO: Save root mask file: root-2023-10-12_2024-04-04_XNYS_US_199.pkl\n",
      "Pipeline from 2023-10-12 to 2024-04-04\n",
      "[2024-07-28 21:12:39] INFO: save term-2022-12-27_2024-04-04_screen_90550a3cdade4aae99d6d6f4aab4ed77_screen_90550a3cdade4aae99d6d6f4aab4ed77.npy to cache\n",
      "[2024-07-28 21:12:39] INFO: Save root mask file: root-2024-04-05_2024-07-18_XNYS_US_199.pkl\n",
      "Pipeline from 2024-04-05 to 2024-07-18\n",
      "[2024-07-28 21:12:44] INFO: save term-2023-06-21_2024-07-18_screen_90550a3cdade4aae99d6d6f4aab4ed77_screen_90550a3cdade4aae99d6d6f4aab4ed77.npy to cache\n",
      "[2024-07-28 21:12:44] INFO: Pipeline from 2024-04-05 to 2024-07-18 completed in 0:01:09.\n",
      "[2024-07-28 21:12:44] INFO: Inserting 2418726 SIDs...\n",
      "\n",
      "[2024-07-28 21:12:55] INFO: Universe 'tradable_stocks_us_var20' successful created/updated\n",
      "[108504 109811 109984 ... 640538 640539 640590]\n",
      "[]\n",
      "[2024-07-28 21:12:55] INFO: Save root mask file: root-2019-01-07_2019-06-27_XNYS_US_0.pkl\n",
      "Pipeline from 2019-01-07 to 2019-06-27\n",
      "[2024-07-28 21:12:56] INFO: save term-2019-01-07_2019-06-27_screen_90550a3cdade4aae99d6d6f4aab4ed77_Close.npy to cache\n",
      "[2024-07-28 21:12:56] INFO: save term-2019-01-07_2019-06-27_screen_90550a3cdade4aae99d6d6f4aab4ed77_screen_90550a3cdade4aae99d6d6f4aab4ed77.npy to cache\n",
      "[2024-07-28 21:12:56] INFO: Save root mask file: root-2019-06-28_2019-12-17_XNYS_US_0.pkl\n",
      "Pipeline from 2019-06-28 to 2019-12-17\n",
      "[2024-07-28 21:12:57] INFO: save term-2019-06-28_2019-12-17_screen_90550a3cdade4aae99d6d6f4aab4ed77_Close.npy to cache\n",
      "[2024-07-28 21:12:57] INFO: save term-2019-06-28_2019-12-17_screen_90550a3cdade4aae99d6d6f4aab4ed77_screen_90550a3cdade4aae99d6d6f4aab4ed77.npy to cache\n",
      "[2024-07-28 21:12:57] INFO: Save root mask file: root-2019-12-18_2020-06-10_XNYS_US_0.pkl\n",
      "Pipeline from 2019-12-18 to 2020-06-10\n",
      "[2024-07-28 21:12:57] INFO: save term-2019-12-18_2020-06-10_screen_90550a3cdade4aae99d6d6f4aab4ed77_Close.npy to cache\n",
      "[2024-07-28 21:12:57] INFO: save term-2019-12-18_2020-06-10_screen_90550a3cdade4aae99d6d6f4aab4ed77_screen_90550a3cdade4aae99d6d6f4aab4ed77.npy to cache\n",
      "[2024-07-28 21:12:57] INFO: Save root mask file: root-2020-06-11_2020-11-30_XNYS_US_0.pkl\n",
      "Pipeline from 2020-06-11 to 2020-11-30\n",
      "[2024-07-28 21:12:58] INFO: save term-2020-06-11_2020-11-30_screen_90550a3cdade4aae99d6d6f4aab4ed77_Close.npy to cache\n",
      "[2024-07-28 21:12:58] INFO: save term-2020-06-11_2020-11-30_screen_90550a3cdade4aae99d6d6f4aab4ed77_screen_90550a3cdade4aae99d6d6f4aab4ed77.npy to cache\n",
      "[2024-07-28 21:12:58] INFO: Save root mask file: root-2020-12-01_2021-05-24_XNYS_US_0.pkl\n",
      "Pipeline from 2020-12-01 to 2021-05-24\n",
      "[2024-07-28 21:12:59] INFO: save term-2020-12-01_2021-05-24_screen_90550a3cdade4aae99d6d6f4aab4ed77_Close.npy to cache\n",
      "[2024-07-28 21:12:59] INFO: save term-2020-12-01_2021-05-24_screen_90550a3cdade4aae99d6d6f4aab4ed77_screen_90550a3cdade4aae99d6d6f4aab4ed77.npy to cache\n",
      "[2024-07-28 21:12:59] INFO: Save root mask file: root-2021-05-25_2021-11-11_XNYS_US_0.pkl\n",
      "Pipeline from 2021-05-25 to 2021-11-11\n",
      "[2024-07-28 21:13:00] INFO: save term-2021-05-25_2021-11-11_screen_90550a3cdade4aae99d6d6f4aab4ed77_Close.npy to cache\n",
      "[2024-07-28 21:13:00] INFO: save term-2021-05-25_2021-11-11_screen_90550a3cdade4aae99d6d6f4aab4ed77_screen_90550a3cdade4aae99d6d6f4aab4ed77.npy to cache\n",
      "[2024-07-28 21:13:00] INFO: Save root mask file: root-2021-11-12_2022-05-05_XNYS_US_0.pkl\n",
      "Pipeline from 2021-11-12 to 2022-05-05\n",
      "[2024-07-28 21:13:01] INFO: save term-2021-11-12_2022-05-05_screen_90550a3cdade4aae99d6d6f4aab4ed77_Close.npy to cache\n",
      "[2024-07-28 21:13:01] INFO: save term-2021-11-12_2022-05-05_screen_90550a3cdade4aae99d6d6f4aab4ed77_screen_90550a3cdade4aae99d6d6f4aab4ed77.npy to cache\n",
      "[2024-07-28 21:13:01] INFO: Save root mask file: root-2022-05-06_2022-10-26_XNYS_US_0.pkl\n",
      "Pipeline from 2022-05-06 to 2022-10-26\n",
      "[2024-07-28 21:13:02] INFO: save term-2022-05-06_2022-10-26_screen_90550a3cdade4aae99d6d6f4aab4ed77_Close.npy to cache\n",
      "[2024-07-28 21:13:02] INFO: save term-2022-05-06_2022-10-26_screen_90550a3cdade4aae99d6d6f4aab4ed77_screen_90550a3cdade4aae99d6d6f4aab4ed77.npy to cache\n",
      "[2024-07-28 21:13:02] INFO: Save root mask file: root-2022-10-27_2023-04-20_XNYS_US_0.pkl\n",
      "Pipeline from 2022-10-27 to 2023-04-20\n",
      "[2024-07-28 21:13:03] INFO: save term-2022-10-27_2023-04-20_screen_90550a3cdade4aae99d6d6f4aab4ed77_Close.npy to cache\n",
      "[2024-07-28 21:13:03] INFO: save term-2022-10-27_2023-04-20_screen_90550a3cdade4aae99d6d6f4aab4ed77_screen_90550a3cdade4aae99d6d6f4aab4ed77.npy to cache\n",
      "[2024-07-28 21:13:03] INFO: Save root mask file: root-2023-04-21_2023-10-11_XNYS_US_0.pkl\n",
      "Pipeline from 2023-04-21 to 2023-10-11\n",
      "[2024-07-28 21:13:04] INFO: save term-2023-04-21_2023-10-11_screen_90550a3cdade4aae99d6d6f4aab4ed77_Close.npy to cache\n",
      "[2024-07-28 21:13:04] INFO: save term-2023-04-21_2023-10-11_screen_90550a3cdade4aae99d6d6f4aab4ed77_screen_90550a3cdade4aae99d6d6f4aab4ed77.npy to cache\n",
      "[2024-07-28 21:13:05] INFO: Save root mask file: root-2023-10-12_2024-04-04_XNYS_US_0.pkl\n",
      "Pipeline from 2023-10-12 to 2024-04-04\n",
      "[2024-07-28 21:13:06] INFO: save term-2023-10-12_2024-04-04_screen_90550a3cdade4aae99d6d6f4aab4ed77_Close.npy to cache\n",
      "[2024-07-28 21:13:06] INFO: save term-2023-10-12_2024-04-04_screen_90550a3cdade4aae99d6d6f4aab4ed77_screen_90550a3cdade4aae99d6d6f4aab4ed77.npy to cache\n",
      "[2024-07-28 21:13:06] INFO: Save root mask file: root-2024-04-05_2024-07-18_XNYS_US_0.pkl\n",
      "Pipeline from 2024-04-05 to 2024-07-18\n",
      "[2024-07-28 21:13:06] INFO: save term-2024-04-05_2024-07-18_screen_90550a3cdade4aae99d6d6f4aab4ed77_Close.npy to cache\n",
      "[2024-07-28 21:13:06] INFO: save term-2024-04-05_2024-07-18_screen_90550a3cdade4aae99d6d6f4aab4ed77_screen_90550a3cdade4aae99d6d6f4aab4ed77.npy to cache\n",
      "[2024-07-28 21:13:06] INFO: Pipeline from 2024-04-05 to 2024-07-18 completed in 0:00:11.\n",
      "                                   Close\n",
      "2019-01-07 Equity(113508 [ETRN])   20.74\n",
      "           Equity(113509 [ACA])    29.01\n",
      "           Equity(113564 [REZI])   20.39\n",
      "           Equity(114216 [PLAN])   24.10\n",
      "           Equity(114232 [LTHM])   14.26\n",
      "...                                  ...\n",
      "2024-07-18 Equity(641699 [LOAR])   55.82\n",
      "           Equity(641912 [WAY])    22.40\n",
      "           Equity(641966 [GRAL])   19.82\n",
      "           Equity(642026 [SW])     47.85\n",
      "           Equity(642054 [TLN])   119.50\n",
      "\n",
      "[2418726 rows x 1 columns]\n"
     ]
    }
   ],
   "source": [
    "screen = TradableStocksUS_Var_20()\n",
    "universes_db_path = os.path.join(output_dir(), \"universes.sqlite\")\n",
    "universe_name = TRADABLE_STOCKS_US + '_var20'\n",
    "UniverseWriter(universes_db_path).write(universe_name, screen, pipe_date, pipe_end)\n",
    "sids = UniverseReader(universes_db_path).get_sid(universe_name, '2024-02-07')\n",
    "print(sids)\n",
    "sids = UniverseReader(universes_db_path).get_sid(universe_name, '2002-02-07')\n",
    "print(sids)\n",
    "spe = make_pipeline_engine()\n",
    "pipe = Pipeline(columns={\n",
    "    'Close': USEquityPricing.close.latest,\n",
    "},\n",
    "    screen=NamedUniverse(TRADABLE_STOCKS_US + '_var20')\n",
    ")\n",
    "stocks = spe.run_pipeline(pipe, pipe_date, pipe_end)\n",
    "print(stocks)"
   ]
  },
  {
   "cell_type": "code",
   "execution_count": 26,
   "metadata": {},
   "outputs": [
    {
     "data": {
      "text/plain": [
       "2870"
      ]
     },
     "execution_count": 26,
     "metadata": {},
     "output_type": "execute_result"
    }
   ],
   "source": [
    "len(stocks.index.get_level_values(1).unique())"
   ]
  },
  {
   "cell_type": "code",
   "execution_count": null,
   "metadata": {},
   "outputs": [],
   "source": []
  },
  {
   "cell_type": "code",
   "execution_count": null,
   "metadata": {},
   "outputs": [],
   "source": []
  },
  {
   "cell_type": "code",
   "execution_count": null,
   "metadata": {},
   "outputs": [],
   "source": []
  }
 ],
 "metadata": {
  "kernelspec": {
   "display_name": "Python 3",
   "language": "python",
   "name": "python3"
  },
  "language_info": {
   "codemirror_mode": {
    "name": "ipython",
    "version": 3
   },
   "file_extension": ".py",
   "mimetype": "text/x-python",
   "name": "python",
   "nbconvert_exporter": "python",
   "pygments_lexer": "ipython3",
   "version": "3.10.14"
  }
 },
 "nbformat": 4,
 "nbformat_minor": 2
}
