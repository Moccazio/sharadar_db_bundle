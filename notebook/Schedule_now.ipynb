{
 "cells": [
  {
   "cell_type": "code",
   "execution_count": 1,
   "id": "64fdced0-6a48-4d56-a4b9-9fea7f0ec10b",
   "metadata": {},
   "outputs": [],
   "source": [
    "from zipline.utils.calendar_utils import get_calendar, days_at_time\n",
    "import pandas as pd"
   ]
  },
  {
   "cell_type": "code",
   "execution_count": 2,
   "id": "ffce1de2-66b7-4af2-9ce4-fd2cd6cdff92",
   "metadata": {},
   "outputs": [
    {
     "data": {
      "text/plain": [
       "Timestamp('2023-01-16 00:00:00+0000', tz='UTC')"
      ]
     },
     "execution_count": 2,
     "metadata": {},
     "output_type": "execute_result"
    }
   ],
   "source": [
    "now = pd.Timestamp.utcnow().normalize()\n",
    "now"
   ]
  },
  {
   "cell_type": "code",
   "execution_count": 5,
   "id": "eae65ad9-54fa-487f-990a-c96eb7125b46",
   "metadata": {},
   "outputs": [],
   "source": [
    "calendar = get_calendar(\"XNYS\")"
   ]
  },
  {
   "cell_type": "code",
   "execution_count": 3,
   "id": "a5b53f12-81f9-4ca2-9368-b477a3579ab2",
   "metadata": {},
   "outputs": [
    {
     "data": {
      "text/plain": [
       "Timestamp('2023-01-16 00:00:00+0000', tz='UTC')"
      ]
     },
     "execution_count": 3,
     "metadata": {},
     "output_type": "execute_result"
    }
   ],
   "source": [
    "today = pd.Timestamp.today().normalize().tz_localize(\"UTC\")\n",
    "today"
   ]
  },
  {
   "cell_type": "code",
   "execution_count": 16,
   "id": "db6900b9-889c-4ab8-a8e1-829107dc5d41",
   "metadata": {},
   "outputs": [
    {
     "data": {
      "text/plain": [
       "(Timestamp('2023-01-17 00:00:00+0000', tz='UTC'),\n",
       " Timestamp('2023-01-17 00:00:00+0000', tz='UTC'))"
      ]
     },
     "execution_count": 16,
     "metadata": {},
     "output_type": "execute_result"
    }
   ],
   "source": [
    "start = now\n",
    "if not calendar.is_session(start.date()):\n",
    "    start = calendar.next_open(start).normalize()\n",
    "end = start\n",
    "end, start"
   ]
  },
  {
   "cell_type": "code",
   "execution_count": 15,
   "id": "8666561b-fe55-4d9e-aea1-5e4a50a65daf",
   "metadata": {},
   "outputs": [
    {
     "ename": "ValueError",
     "evalue": "Parameter `start` parsed as '2023-01-17 14:31:00+00:00' although a Date must have a time component of 00:00.",
     "output_type": "error",
     "traceback": [
      "\u001b[0;31m---------------------------------------------------------------------------\u001b[0m",
      "\u001b[0;31mValueError\u001b[0m                                Traceback (most recent call last)",
      "Input \u001b[0;32mIn [15]\u001b[0m, in \u001b[0;36m<cell line: 1>\u001b[0;34m()\u001b[0m\n\u001b[0;32m----> 1\u001b[0m \u001b[43mcalendar\u001b[49m\u001b[38;5;241;43m.\u001b[39;49m\u001b[43msessions_distance\u001b[49m\u001b[43m(\u001b[49m\u001b[43mstart\u001b[49m\u001b[43m,\u001b[49m\u001b[43m \u001b[49m\u001b[43mend\u001b[49m\u001b[43m)\u001b[49m\n",
      "File \u001b[0;32m~/zipline-reloaded-venv3.9/lib/python3.9/site-packages/exchange_calendars/exchange_calendar.py:2177\u001b[0m, in \u001b[0;36mExchangeCalendar.sessions_distance\u001b[0;34m(self, start, end, _parse)\u001b[0m\n\u001b[1;32m   2160\u001b[0m \u001b[38;5;28;01mdef\u001b[39;00m \u001b[38;5;21msessions_distance\u001b[39m(\u001b[38;5;28mself\u001b[39m, start: Date, end: Date, _parse: \u001b[38;5;28mbool\u001b[39m \u001b[38;5;241m=\u001b[39m \u001b[38;5;28;01mTrue\u001b[39;00m) \u001b[38;5;241m-\u001b[39m\u001b[38;5;241m>\u001b[39m \u001b[38;5;28mint\u001b[39m:\n\u001b[1;32m   2161\u001b[0m     \u001b[38;5;124;03m\"\"\"Return the number of sessions in a range.\u001b[39;00m\n\u001b[1;32m   2162\u001b[0m \n\u001b[1;32m   2163\u001b[0m \u001b[38;5;124;03m    Parameters\u001b[39;00m\n\u001b[0;32m   (...)\u001b[0m\n\u001b[1;32m   2175\u001b[0m \u001b[38;5;124;03m        `end` then return will be negated.\u001b[39;00m\n\u001b[1;32m   2176\u001b[0m \u001b[38;5;124;03m    \"\"\"\u001b[39;00m\n\u001b[0;32m-> 2177\u001b[0m     start, end \u001b[38;5;241m=\u001b[39m \u001b[38;5;28;43mself\u001b[39;49m\u001b[38;5;241;43m.\u001b[39;49m\u001b[43m_parse_start_end_dates\u001b[49m\u001b[43m(\u001b[49m\u001b[43mstart\u001b[49m\u001b[43m,\u001b[49m\u001b[43m \u001b[49m\u001b[43mend\u001b[49m\u001b[43m,\u001b[49m\u001b[43m \u001b[49m\u001b[43m_parse\u001b[49m\u001b[43m)\u001b[49m\n\u001b[1;32m   2178\u001b[0m     negate \u001b[38;5;241m=\u001b[39m end \u001b[38;5;241m<\u001b[39m start\n\u001b[1;32m   2179\u001b[0m     \u001b[38;5;28;01mif\u001b[39;00m negate:\n",
      "File \u001b[0;32m~/zipline-reloaded-venv3.9/lib/python3.9/site-packages/exchange_calendars/exchange_calendar.py:2074\u001b[0m, in \u001b[0;36mExchangeCalendar._parse_start_end_dates\u001b[0;34m(self, start, end, _parse)\u001b[0m\n\u001b[1;32m   2072\u001b[0m \u001b[38;5;28;01mif\u001b[39;00m \u001b[38;5;129;01mnot\u001b[39;00m _parse:\n\u001b[1;32m   2073\u001b[0m     \u001b[38;5;28;01mreturn\u001b[39;00m start, end\n\u001b[0;32m-> 2074\u001b[0m \u001b[38;5;28;01mreturn\u001b[39;00m \u001b[43mparse_date\u001b[49m\u001b[43m(\u001b[49m\u001b[43mstart\u001b[49m\u001b[43m,\u001b[49m\u001b[43m \u001b[49m\u001b[38;5;124;43m\"\u001b[39;49m\u001b[38;5;124;43mstart\u001b[39;49m\u001b[38;5;124;43m\"\u001b[39;49m\u001b[43m,\u001b[49m\u001b[43m \u001b[49m\u001b[38;5;28;43mself\u001b[39;49m\u001b[43m)\u001b[49m, parse_date(end, \u001b[38;5;124m\"\u001b[39m\u001b[38;5;124mend\u001b[39m\u001b[38;5;124m\"\u001b[39m, \u001b[38;5;28mself\u001b[39m)\n",
      "File \u001b[0;32m~/zipline-reloaded-venv3.9/lib/python3.9/site-packages/exchange_calendars/calendar_helpers.py:311\u001b[0m, in \u001b[0;36mparse_date\u001b[0;34m(date, param_name, calendar, raise_oob)\u001b[0m\n\u001b[1;32m    305\u001b[0m     \u001b[38;5;28;01mraise\u001b[39;00m \u001b[38;5;167;01mValueError\u001b[39;00m(\n\u001b[1;32m    306\u001b[0m         \u001b[38;5;124mf\u001b[39m\u001b[38;5;124m\"\u001b[39m\u001b[38;5;124mParameter `\u001b[39m\u001b[38;5;132;01m{\u001b[39;00mparam_name\u001b[38;5;132;01m}\u001b[39;00m\u001b[38;5;124m` received with timezone defined as \u001b[39m\u001b[38;5;124m'\u001b[39m\u001b[38;5;132;01m{\u001b[39;00mts\u001b[38;5;241m.\u001b[39mtz\u001b[38;5;241m.\u001b[39mzone\u001b[38;5;132;01m}\u001b[39;00m\u001b[38;5;124m'\u001b[39m\u001b[38;5;124m\"\u001b[39m\n\u001b[1;32m    307\u001b[0m         \u001b[38;5;124mf\u001b[39m\u001b[38;5;124m\"\u001b[39m\u001b[38;5;124m although a Date must be timezone naive or have timezone as \u001b[39m\u001b[38;5;124m'\u001b[39m\u001b[38;5;124mUTC\u001b[39m\u001b[38;5;124m'\u001b[39m\u001b[38;5;124m.\u001b[39m\u001b[38;5;124m\"\u001b[39m\n\u001b[1;32m    308\u001b[0m     )\n\u001b[1;32m    310\u001b[0m \u001b[38;5;28;01mif\u001b[39;00m \u001b[38;5;129;01mnot\u001b[39;00m ts \u001b[38;5;241m==\u001b[39m ts\u001b[38;5;241m.\u001b[39mnormalize():\n\u001b[0;32m--> 311\u001b[0m     \u001b[38;5;28;01mraise\u001b[39;00m \u001b[38;5;167;01mValueError\u001b[39;00m(\n\u001b[1;32m    312\u001b[0m         \u001b[38;5;124mf\u001b[39m\u001b[38;5;124m\"\u001b[39m\u001b[38;5;124mParameter `\u001b[39m\u001b[38;5;132;01m{\u001b[39;00mparam_name\u001b[38;5;132;01m}\u001b[39;00m\u001b[38;5;124m` parsed as \u001b[39m\u001b[38;5;124m'\u001b[39m\u001b[38;5;132;01m{\u001b[39;00mts\u001b[38;5;132;01m}\u001b[39;00m\u001b[38;5;124m'\u001b[39m\u001b[38;5;124m although a Date must have\u001b[39m\u001b[38;5;124m\"\u001b[39m\n\u001b[1;32m    313\u001b[0m         \u001b[38;5;124mf\u001b[39m\u001b[38;5;124m\"\u001b[39m\u001b[38;5;124m a time component of 00:00.\u001b[39m\u001b[38;5;124m\"\u001b[39m\n\u001b[1;32m    314\u001b[0m     )\n\u001b[1;32m    316\u001b[0m \u001b[38;5;28;01mif\u001b[39;00m ts\u001b[38;5;241m.\u001b[39mtz \u001b[38;5;129;01mis\u001b[39;00m \u001b[38;5;28;01mNone\u001b[39;00m:\n\u001b[1;32m    317\u001b[0m     ts \u001b[38;5;241m=\u001b[39m ts\u001b[38;5;241m.\u001b[39mtz_localize(\u001b[38;5;124m\"\u001b[39m\u001b[38;5;124mUTC\u001b[39m\u001b[38;5;124m\"\u001b[39m)\n",
      "\u001b[0;31mValueError\u001b[0m: Parameter `start` parsed as '2023-01-17 14:31:00+00:00' although a Date must have a time component of 00:00."
     ]
    }
   ],
   "source": [
    "calendar.sessions_distance(start, end)"
   ]
  },
  {
   "cell_type": "code",
   "execution_count": 37,
   "id": "9fd1bd53-2776-4121-8b6f-cd2a002cd150",
   "metadata": {},
   "outputs": [
    {
     "data": {
      "text/plain": [
       "False"
      ]
     },
     "execution_count": 37,
     "metadata": {},
     "output_type": "execute_result"
    }
   ],
   "source": [
    "calendar.is_session(today)"
   ]
  },
  {
   "cell_type": "code",
   "execution_count": 41,
   "id": "9823b3ee-3806-403a-91a2-7169ecfd75f2",
   "metadata": {},
   "outputs": [
    {
     "data": {
      "text/plain": [
       "'2023-01-17'"
      ]
     },
     "execution_count": 41,
     "metadata": {},
     "output_type": "execute_result"
    }
   ],
   "source": [
    "session=calendar.next_open(today).strftime('%Y-%m-%d')\n",
    "session"
   ]
  },
  {
   "cell_type": "code",
   "execution_count": 65,
   "id": "a36435cb-75cb-4ab2-84b4-245bcc46d0f3",
   "metadata": {},
   "outputs": [
    {
     "data": {
      "text/plain": [
       "datetime.time(14, 31)"
      ]
     },
     "execution_count": 65,
     "metadata": {},
     "output_type": "execute_result"
    }
   ],
   "source": [
    "market_open_time = cal.schedule.loc[session]['market_open']\n",
    "market_open_time"
   ]
  },
  {
   "cell_type": "code",
   "execution_count": null,
   "id": "44f77828-dbac-4edc-8218-85a575098c2e",
   "metadata": {},
   "outputs": [],
   "source": [
    "time_now = pd.Timestamp.utcnow()\n",
    "time_now"
   ]
  },
  {
   "cell_type": "code",
   "execution_count": 67,
   "id": "a1c4d6fe-80b2-4363-9da3-60d0f60300de",
   "metadata": {},
   "outputs": [
    {
     "data": {
      "text/plain": [
       "2"
      ]
     },
     "execution_count": 67,
     "metadata": {},
     "output_type": "execute_result"
    }
   ],
   "source": [
    "time_now.hour - market_open_time.hour"
   ]
  },
  {
   "cell_type": "code",
   "execution_count": 70,
   "id": "e0e67f99-155a-4d88-ac6d-523f7d07521a",
   "metadata": {},
   "outputs": [
    {
     "ename": "TypeError",
     "evalue": "unsupported operand type(s) for -: 'datetime.time' and 'datetime.time'",
     "output_type": "error",
     "traceback": [
      "\u001b[0;31m---------------------------------------------------------------------------\u001b[0m",
      "\u001b[0;31mTypeError\u001b[0m                                 Traceback (most recent call last)",
      "Input \u001b[0;32mIn [70]\u001b[0m, in \u001b[0;36m<cell line: 1>\u001b[0;34m()\u001b[0m\n\u001b[0;32m----> 1\u001b[0m \u001b[43mtime_now\u001b[49m\u001b[43m \u001b[49m\u001b[38;5;241;43m-\u001b[39;49m\u001b[43m \u001b[49m\u001b[43mmarket_open_time\u001b[49m\n",
      "\u001b[0;31mTypeError\u001b[0m: unsupported operand type(s) for -: 'datetime.time' and 'datetime.time'"
     ]
    }
   ],
   "source": [
    "time_now - market_open_time"
   ]
  },
  {
   "cell_type": "code",
   "execution_count": 71,
   "id": "355c6830-e64e-4aec-8449-c8c8b0e24746",
   "metadata": {},
   "outputs": [
    {
     "ename": "AttributeError",
     "evalue": "'datetime.time' object has no attribute 'normalize'",
     "output_type": "error",
     "traceback": [
      "\u001b[0;31m---------------------------------------------------------------------------\u001b[0m",
      "\u001b[0;31mAttributeError\u001b[0m                            Traceback (most recent call last)",
      "Input \u001b[0;32mIn [71]\u001b[0m, in \u001b[0;36m<cell line: 1>\u001b[0;34m()\u001b[0m\n\u001b[0;32m----> 1\u001b[0m \u001b[43mmarket_open_time\u001b[49m\u001b[38;5;241;43m.\u001b[39;49m\u001b[43mnormalize\u001b[49m()\n",
      "\u001b[0;31mAttributeError\u001b[0m: 'datetime.time' object has no attribute 'normalize'"
     ]
    }
   ],
   "source": [
    "market_open_time.normalize()"
   ]
  }
 ],
 "metadata": {
  "kernelspec": {
   "display_name": "Python 3 (ipykernel)",
   "language": "python",
   "name": "python3"
  },
  "language_info": {
   "codemirror_mode": {
    "name": "ipython",
    "version": 3
   },
   "file_extension": ".py",
   "mimetype": "text/x-python",
   "name": "python",
   "nbconvert_exporter": "python",
   "pygments_lexer": "ipython3",
   "version": "3.9.13"
  }
 },
 "nbformat": 4,
 "nbformat_minor": 5
}
