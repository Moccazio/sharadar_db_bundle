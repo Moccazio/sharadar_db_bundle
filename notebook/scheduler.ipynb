{
 "cells": [
  {
   "cell_type": "code",
   "execution_count": 16,
   "id": "0c64546c-074f-4363-a2d1-75ea14aa9283",
   "metadata": {},
   "outputs": [],
   "source": [
    "from sharadar.util.events import date_rules, time_rules\n",
    "from zipline.utils.calendar_utils import get_calendar, days_at_time\n",
    "import time\n",
    "from datetime import datetime"
   ]
  },
  {
   "cell_type": "code",
   "execution_count": null,
   "id": "a78efea4-0f37-453a-8a69-e30fc2ae0ae2",
   "metadata": {},
   "outputs": [],
   "source": []
  },
  {
   "cell_type": "code",
   "execution_count": 39,
   "id": "3a96402c-5982-44bb-88b5-06a8dce568ec",
   "metadata": {},
   "outputs": [],
   "source": [
    "days_offset = 0\n",
    "scheduled_date = date_rules.month_start(days_offset)"
   ]
  },
  {
   "cell_type": "code",
   "execution_count": 63,
   "id": "52a61e27-938e-4e42-b8b7-efca02418337",
   "metadata": {},
   "outputs": [
    {
     "data": {
      "text/plain": [
       "True"
      ]
     },
     "execution_count": 63,
     "metadata": {},
     "output_type": "execute_result"
    }
   ],
   "source": [
    "hasattr(scheduled_date, 'execution_period_values')"
   ]
  },
  {
   "cell_type": "code",
   "execution_count": 40,
   "id": "ec446292-8073-4864-ad89-9e8d10319f00",
   "metadata": {},
   "outputs": [],
   "source": [
    "scheduled_date.cal = get_calendar(\"XNYS\")"
   ]
  },
  {
   "cell_type": "code",
   "execution_count": 62,
   "id": "0849fe2c-7195-4cb6-8e38-4cab3cdea055",
   "metadata": {},
   "outputs": [
    {
     "data": {
      "text/plain": [
       "1673296633000000000"
      ]
     },
     "execution_count": 62,
     "metadata": {},
     "output_type": "execute_result"
    }
   ],
   "source": [
    "value = int(int(time.time()) * 1e9)\n",
    "value"
   ]
  },
  {
   "cell_type": "code",
   "execution_count": 42,
   "id": "86fc69b4-03c1-4c55-9e82-6e770c1fe88a",
   "metadata": {},
   "outputs": [
    {
     "data": {
      "text/plain": [
       "'Monday, January 09, 2023 03:25:34'"
      ]
     },
     "execution_count": 42,
     "metadata": {},
     "output_type": "execute_result"
    }
   ],
   "source": [
    "datetime.fromtimestamp(value/1e9).strftime(\"%A, %B %d, %Y %I:%M:%S\")"
   ]
  },
  {
   "cell_type": "code",
   "execution_count": 46,
   "id": "20e9302a-90b4-4554-badb-f525a6ca1b98",
   "metadata": {},
   "outputs": [],
   "source": [
    "values = scheduled_date.execution_period_values"
   ]
  },
  {
   "cell_type": "code",
   "execution_count": 51,
   "id": "c01352dc-e353-4d24-8b41-26b6cf218141",
   "metadata": {},
   "outputs": [
    {
     "data": {
      "text/plain": [
       "'Tuesday, January 31, 2023 07:00:00'"
      ]
     },
     "execution_count": 51,
     "metadata": {},
     "output_type": "execute_result"
    }
   ],
   "source": [
    "filtered = sorted([x for x in values if x > value])\n",
    "datetime.fromtimestamp(filtered[0]/1e9).strftime(\"%A, %B %d, %Y %I:%M:%S\")"
   ]
  },
  {
   "cell_type": "code",
   "execution_count": 58,
   "id": "c7acf120-2ddd-4da6-bf17-69131dde677d",
   "metadata": {},
   "outputs": [],
   "source": [
    "def hello():\n",
    "    return 0"
   ]
  },
  {
   "cell_type": "code",
   "execution_count": 61,
   "id": "d4fbd5f2-a454-488b-9b22-273f269d303a",
   "metadata": {},
   "outputs": [
    {
     "data": {
      "text/plain": [
       "'hello'"
      ]
     },
     "execution_count": 61,
     "metadata": {},
     "output_type": "execute_result"
    }
   ],
   "source": [
    "hello.__name__"
   ]
  }
 ],
 "metadata": {
  "kernelspec": {
   "display_name": "Python 3 (ipykernel)",
   "language": "python",
   "name": "python3"
  },
  "language_info": {
   "codemirror_mode": {
    "name": "ipython",
    "version": 3
   },
   "file_extension": ".py",
   "mimetype": "text/x-python",
   "name": "python",
   "nbconvert_exporter": "python",
   "pygments_lexer": "ipython3",
   "version": "3.9.13"
  }
 },
 "nbformat": 4,
 "nbformat_minor": 5
}
